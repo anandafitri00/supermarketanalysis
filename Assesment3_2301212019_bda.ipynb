{
  "nbformat": 4,
  "nbformat_minor": 0,
  "metadata": {
    "colab": {
      "provenance": []
    },
    "kernelspec": {
      "name": "python3",
      "display_name": "Python 3"
    },
    "language_info": {
      "name": "python"
    }
  },
  "cells": [
    {
      "cell_type": "markdown",
      "source": [
        "Nama : Ananda Fitri Karimah <br>\n",
        "NIM : 2301212019 <br>\n",
        "Big Data Analysis <br>\n",
        "\n"
      ],
      "metadata": {
        "id": "vW29UPGiiDVe"
      }
    },
    {
      "cell_type": "markdown",
      "source": [
        "# Import Data"
      ],
      "metadata": {
        "id": "-bHaxmKHjwnL"
      }
    },
    {
      "cell_type": "code",
      "execution_count": null,
      "metadata": {
        "colab": {
          "base_uri": "https://localhost:8080/"
        },
        "id": "uxaq3h_NHGOf",
        "outputId": "97fcc8b7-e61b-4311-e176-73e70f4cb45a"
      },
      "outputs": [
        {
          "output_type": "stream",
          "name": "stdout",
          "text": [
            "Looking in indexes: https://pypi.org/simple, https://us-python.pkg.dev/colab-wheels/public/simple/\n",
            "Collecting pyspark\n",
            "  Downloading pyspark-3.3.1.tar.gz (281.4 MB)\n",
            "\u001b[2K     \u001b[90m━━━━━━━━━━━━━━━━━━━━━━━━━━━━━━━━━━━━━━━\u001b[0m \u001b[32m281.4/281.4 MB\u001b[0m \u001b[31m4.4 MB/s\u001b[0m eta \u001b[36m0:00:00\u001b[0m\n",
            "\u001b[?25h  Preparing metadata (setup.py) ... \u001b[?25l\u001b[?25hdone\n",
            "Collecting py4j\n",
            "  Downloading py4j-0.10.9.7-py2.py3-none-any.whl (200 kB)\n",
            "\u001b[2K     \u001b[90m━━━━━━━━━━━━━━━━━━━━━━━━━━━━━━━━━━━━━━\u001b[0m \u001b[32m200.5/200.5 KB\u001b[0m \u001b[31m12.6 MB/s\u001b[0m eta \u001b[36m0:00:00\u001b[0m\n",
            "\u001b[?25h  Downloading py4j-0.10.9.5-py2.py3-none-any.whl (199 kB)\n",
            "\u001b[2K     \u001b[90m━━━━━━━━━━━━━━━━━━━━━━━━━━━━━━━━━━━━━━\u001b[0m \u001b[32m199.7/199.7 KB\u001b[0m \u001b[31m19.2 MB/s\u001b[0m eta \u001b[36m0:00:00\u001b[0m\n",
            "\u001b[?25hBuilding wheels for collected packages: pyspark\n",
            "  Building wheel for pyspark (setup.py) ... \u001b[?25l\u001b[?25hdone\n",
            "  Created wheel for pyspark: filename=pyspark-3.3.1-py2.py3-none-any.whl size=281845512 sha256=3ec7a9f0df38a389b6b5327f4b29105b75cfb657c67239e2a079ffceea399b85\n",
            "  Stored in directory: /root/.cache/pip/wheels/43/dc/11/ec201cd671da62fa9c5cc77078235e40722170ceba231d7598\n",
            "Successfully built pyspark\n",
            "Installing collected packages: py4j, pyspark\n",
            "Successfully installed py4j-0.10.9.5 pyspark-3.3.1\n"
          ]
        }
      ],
      "source": [
        "!pip install pyspark py4j"
      ]
    },
    {
      "cell_type": "code",
      "source": [
        "from pyspark.sql import SparkSession"
      ],
      "metadata": {
        "id": "38bBFKPznAwJ"
      },
      "execution_count": null,
      "outputs": []
    },
    {
      "cell_type": "code",
      "source": [
        "spark = SparkSession.builder.appName('Colab_pyspark').getOrCreate()"
      ],
      "metadata": {
        "id": "-d1xZPcznHJ-"
      },
      "execution_count": null,
      "outputs": []
    },
    {
      "cell_type": "code",
      "source": [
        "import pandas as pd\n",
        "import numpy as np\n",
        "import matplotlib.pyplot as plt  # Untuk visualisasi\n",
        "import seaborn as sns                 # Untuk visualisasi\n",
        "plt.style.use(\"seaborn\")\n",
        "\n",
        "from pyspark.ml.linalg import Vectors\n",
        "from pyspark.ml.feature import VectorAssembler\n",
        "\n",
        "from pyspark.ml.clustering import KMeans\n",
        "from pyspark.ml.evaluation import ClusteringEvaluator"
      ],
      "metadata": {
        "id": "-blnOawJj0n5"
      },
      "execution_count": null,
      "outputs": []
    },
    {
      "cell_type": "markdown",
      "source": [
        "# Load data"
      ],
      "metadata": {
        "id": "bsfe1xRtj-hf"
      }
    },
    {
      "cell_type": "code",
      "source": [
        "from google.colab import drive\n",
        "drive.mount('/content/drive')"
      ],
      "metadata": {
        "colab": {
          "base_uri": "https://localhost:8080/"
        },
        "id": "Eoqwaz2oka9_",
        "outputId": "c16c12e3-79bd-46d5-edb6-909d5a5412b5"
      },
      "execution_count": null,
      "outputs": [
        {
          "output_type": "stream",
          "name": "stdout",
          "text": [
            "Mounted at /content/drive\n"
          ]
        }
      ]
    },
    {
      "cell_type": "code",
      "source": [
        "path = '/content/drive/MyDrive/MAGISTER/BIG DATA ANALYSIS/ASSESMENT 3'"
      ],
      "metadata": {
        "id": "fuFaHacSkCh_"
      },
      "execution_count": null,
      "outputs": []
    },
    {
      "cell_type": "code",
      "source": [
        "df_super = spark.read.csv(path+\"/dataset/50_SupermarketBranches.csv\", header=True, inferSchema=True)\n",
        "df_ads = spark.read.csv(path+\"/dataset/Ads_CTR_Optimisation.csv\", header=True, inferSchema=True)\n",
        "df_basket = spark.read.csv(path+\"/dataset/Market_Basket_Optimisation.csv\").toDF(\"col1\",\"col2\",\"col3\", \"col4\",\"col5\",\"col6\",\"col7\",\"col8\",\"col9\",\"col10\",\"col11\",\"col12\", \"col13\",\"col14\",\"col15\", \"col16\",\"col17\",\"col18\", \"col19\",\"col20\")\n",
        "# df = spark.read.csv(filename).toDF(\"col1\",\"col2\",\"col3\")\n",
        "df_member = spark.read.csv(path+\"/dataset/Supermarket_CustomerMembers.csv\", header=True, inferSchema=True)"
      ],
      "metadata": {
        "id": "mYncHyiej4tQ"
      },
      "execution_count": null,
      "outputs": []
    },
    {
      "cell_type": "markdown",
      "source": [
        "# Data Supermarket Branches"
      ],
      "metadata": {
        "id": "MId0Wx70phe-"
      }
    },
    {
      "cell_type": "code",
      "source": [
        "df_super.show(10,False)"
      ],
      "metadata": {
        "colab": {
          "base_uri": "https://localhost:8080/"
        },
        "id": "GTK3hldGj4wF",
        "outputId": "50f4fb81-cb08-43e5-89ae-3d3287f816d8"
      },
      "execution_count": null,
      "outputs": [
        {
          "output_type": "stream",
          "name": "stdout",
          "text": [
            "+-------------------+---------------+--------------------+----------+---------+\n",
            "|Advertisement Spend|Promotion Spend|Administration Spend|State     |Profit   |\n",
            "+-------------------+---------------+--------------------+----------+---------+\n",
            "|165349.2           |136897.8       |471784.1            |New York  |192261.83|\n",
            "|162597.7           |151377.59      |443898.53           |California|191792.06|\n",
            "|153441.51          |101145.55      |407934.54           |Florida   |191050.39|\n",
            "|144372.41          |118671.85      |383199.62           |New York  |182901.99|\n",
            "|142107.34          |91391.77       |366168.42           |Florida   |166187.94|\n",
            "|131876.9           |99814.71       |362861.36           |New York  |156991.12|\n",
            "|134615.46          |147198.87      |127716.82           |California|156122.51|\n",
            "|130298.13          |145530.06      |323876.68           |Florida   |155752.6 |\n",
            "|120542.52          |148718.95      |311613.29           |New York  |152211.77|\n",
            "|123334.88          |108679.17      |304981.62           |California|149759.96|\n",
            "+-------------------+---------------+--------------------+----------+---------+\n",
            "only showing top 10 rows\n",
            "\n"
          ]
        }
      ]
    },
    {
      "cell_type": "code",
      "source": [
        "print((df_super.count(), len(df_super.columns)))"
      ],
      "metadata": {
        "colab": {
          "base_uri": "https://localhost:8080/"
        },
        "id": "86l8_S19bOy5",
        "outputId": "a3bbf6ca-c33d-4ef8-f6bf-292302334c27"
      },
      "execution_count": null,
      "outputs": [
        {
          "output_type": "stream",
          "name": "stdout",
          "text": [
            "(50, 5)\n"
          ]
        }
      ]
    },
    {
      "cell_type": "code",
      "source": [
        "df_super_pandas = df_super.toPandas()"
      ],
      "metadata": {
        "id": "EdC5nrisqJsQ"
      },
      "execution_count": null,
      "outputs": []
    },
    {
      "cell_type": "code",
      "source": [
        "print(\"Jumlah data sebelum drop null:\", df_super.count())\n",
        "df_super = df_super.na.drop(\"any\")\n",
        "print(\"Jumlah data setelah drop null : \",df_super.count())"
      ],
      "metadata": {
        "colab": {
          "base_uri": "https://localhost:8080/"
        },
        "id": "DZYVZPck-3AI",
        "outputId": "6ff0b377-14a3-4833-c387-f810ed403473"
      },
      "execution_count": null,
      "outputs": [
        {
          "output_type": "stream",
          "name": "stdout",
          "text": [
            "Jumlah data sebelum drop null: 50\n",
            "Jumlah data setelah drop null :  50\n"
          ]
        }
      ]
    },
    {
      "cell_type": "code",
      "source": [
        "df_super_pandas['State'].value_counts()"
      ],
      "metadata": {
        "colab": {
          "base_uri": "https://localhost:8080/"
        },
        "id": "gMWCPTFxU6yT",
        "outputId": "919e958a-fd41-4f19-acd2-2c9c0a55b887"
      },
      "execution_count": null,
      "outputs": [
        {
          "output_type": "execute_result",
          "data": {
            "text/plain": [
              "New York      17\n",
              "California    17\n",
              "Florida       16\n",
              "Name: State, dtype: int64"
            ]
          },
          "metadata": {},
          "execution_count": 12
        }
      ]
    },
    {
      "cell_type": "code",
      "source": [
        "df_super = df_super.withColumnRenamed(\"Advertisement Spend\",\"ads_spend\")\\\n",
        ".withColumnRenamed(\"Promotion Spend\",\"promote_spend\")\\\n",
        ".withColumnRenamed(\"Administration Spend\",\"adm_spend\")"
      ],
      "metadata": {
        "id": "hAaDbhLfqyfX"
      },
      "execution_count": null,
      "outputs": []
    },
    {
      "cell_type": "code",
      "source": [
        "df_super = df_super.withColumn('tot_spending', df_super.ads_spend + df_super.promote_spend + df_super.adm_spend)"
      ],
      "metadata": {
        "id": "e4nXAgWJqyqu"
      },
      "execution_count": null,
      "outputs": []
    },
    {
      "cell_type": "code",
      "source": [
        "df_super = df_super.withColumn('omzet', df_super.tot_spending + df_super.Profit)"
      ],
      "metadata": {
        "id": "C__7EAbI-Od3"
      },
      "execution_count": null,
      "outputs": []
    },
    {
      "cell_type": "code",
      "source": [
        "df_super.show()"
      ],
      "metadata": {
        "colab": {
          "base_uri": "https://localhost:8080/"
        },
        "id": "76Bcx05avZ3d",
        "outputId": "4459e678-1489-433b-c0e8-fb0f38471317"
      },
      "execution_count": null,
      "outputs": [
        {
          "output_type": "stream",
          "name": "stdout",
          "text": [
            "+---------+-------------+---------+----------+---------+------------------+-----------------+\n",
            "|ads_spend|promote_spend|adm_spend|     State|   Profit|      tot_spending|            omzet|\n",
            "+---------+-------------+---------+----------+---------+------------------+-----------------+\n",
            "| 165349.2|     136897.8| 471784.1|  New York|192261.83|          774031.1|966292.9299999999|\n",
            "| 162597.7|    151377.59|443898.53|California|191792.06| 757873.8200000001|949665.8800000001|\n",
            "|153441.51|    101145.55|407934.54|   Florida|191050.39|          662521.6|        853571.99|\n",
            "|144372.41|    118671.85|383199.62|  New York|182901.99|         646243.88|        829145.87|\n",
            "|142107.34|     91391.77|366168.42|   Florida|166187.94|         599667.53|        765855.47|\n",
            "| 131876.9|     99814.71|362861.36|  New York|156991.12|         594552.97|        751544.09|\n",
            "|134615.46|    147198.87|127716.82|California|156122.51|409531.14999999997|565653.6599999999|\n",
            "|130298.13|    145530.06|323876.68|   Florida| 155752.6|         599704.87|        755457.47|\n",
            "|120542.52|    148718.95|311613.29|  New York|152211.77|         580874.76|        733086.53|\n",
            "|123334.88|    108679.17|304981.62|California|149759.96| 536995.6699999999|686755.6299999999|\n",
            "|101913.08|    110594.11|229160.95|   Florida|146121.95|         441668.14|587790.0900000001|\n",
            "|100671.96|     91790.61|249744.55|California| 144259.4|         442207.12|        586466.52|\n",
            "| 93863.75|    127320.38|249839.44|   Florida|141585.52|         471023.57|        612609.09|\n",
            "| 91992.39|    135495.07|252664.93|California|134307.35|         480152.39|        614459.74|\n",
            "|119943.24|    156547.42|256512.92|   Florida|132602.65| 533003.5800000001|665606.2300000001|\n",
            "|114523.61|    122616.84|261776.23|  New York|129917.04|498916.68000000005|628833.7200000001|\n",
            "| 78013.11|    121597.55|264346.06|California|126992.93|         463956.72|590949.6499999999|\n",
            "| 94657.16|    145077.58|282574.31|  New York|125370.37|         522309.05|647679.4199999999|\n",
            "| 91749.16|    114175.79|294919.57|   Florida| 124266.9|         500844.52|        625111.42|\n",
            "|  86419.7|    153514.11|      0.0|  New York|122776.86|         239933.81|        362710.67|\n",
            "+---------+-------------+---------+----------+---------+------------------+-----------------+\n",
            "only showing top 20 rows\n",
            "\n"
          ]
        }
      ]
    },
    {
      "cell_type": "markdown",
      "source": [
        "## EDA"
      ],
      "metadata": {
        "id": "dJFtOKwIwcJa"
      }
    },
    {
      "cell_type": "markdown",
      "source": [
        "### Count Startup Capital (Modal) Each Branch"
      ],
      "metadata": {
        "id": "zblLC-54iyJI"
      }
    },
    {
      "cell_type": "code",
      "source": [
        "df_super_pandas = df_super.toPandas()\n",
        "df_super_pandas.describe()"
      ],
      "metadata": {
        "colab": {
          "base_uri": "https://localhost:8080/",
          "height": 300
        },
        "id": "lc3AlyFUvZ6A",
        "outputId": "91050894-6028-4731-fce4-75089adc8fc1"
      },
      "execution_count": null,
      "outputs": [
        {
          "output_type": "execute_result",
          "data": {
            "text/plain": [
              "           ads_spend  promote_spend      adm_spend         Profit  \\\n",
              "count      50.000000      50.000000      50.000000      50.000000   \n",
              "mean    73721.615600  121344.639600  211025.097800  112012.639200   \n",
              "std     45902.256482   28017.802755  122290.310726   40306.180338   \n",
              "min         0.000000   51283.140000       0.000000   14681.400000   \n",
              "25%     39936.370000  103730.875000  129300.132500   90138.902500   \n",
              "50%     73051.080000  122699.795000  212716.240000  107978.190000   \n",
              "75%    101602.800000  144842.180000  299469.085000  139765.977500   \n",
              "max    165349.200000  182645.560000  471784.100000  192261.830000   \n",
              "\n",
              "        tot_spending         omzet  \n",
              "count      50.000000      50.00000  \n",
              "mean   406091.353000  518103.99220  \n",
              "std    162419.010502  198568.44707  \n",
              "min     52285.200000   87958.61000  \n",
              "25%    293421.857500  378742.15750  \n",
              "50%    411888.640000  490879.06000  \n",
              "75%    516942.917500  639618.33750  \n",
              "max    774031.100000  966292.93000  "
            ],
            "text/html": [
              "\n",
              "  <div id=\"df-8df2d5ea-0345-43d7-81c1-7de9172c331b\">\n",
              "    <div class=\"colab-df-container\">\n",
              "      <div>\n",
              "<style scoped>\n",
              "    .dataframe tbody tr th:only-of-type {\n",
              "        vertical-align: middle;\n",
              "    }\n",
              "\n",
              "    .dataframe tbody tr th {\n",
              "        vertical-align: top;\n",
              "    }\n",
              "\n",
              "    .dataframe thead th {\n",
              "        text-align: right;\n",
              "    }\n",
              "</style>\n",
              "<table border=\"1\" class=\"dataframe\">\n",
              "  <thead>\n",
              "    <tr style=\"text-align: right;\">\n",
              "      <th></th>\n",
              "      <th>ads_spend</th>\n",
              "      <th>promote_spend</th>\n",
              "      <th>adm_spend</th>\n",
              "      <th>Profit</th>\n",
              "      <th>tot_spending</th>\n",
              "      <th>omzet</th>\n",
              "    </tr>\n",
              "  </thead>\n",
              "  <tbody>\n",
              "    <tr>\n",
              "      <th>count</th>\n",
              "      <td>50.000000</td>\n",
              "      <td>50.000000</td>\n",
              "      <td>50.000000</td>\n",
              "      <td>50.000000</td>\n",
              "      <td>50.000000</td>\n",
              "      <td>50.00000</td>\n",
              "    </tr>\n",
              "    <tr>\n",
              "      <th>mean</th>\n",
              "      <td>73721.615600</td>\n",
              "      <td>121344.639600</td>\n",
              "      <td>211025.097800</td>\n",
              "      <td>112012.639200</td>\n",
              "      <td>406091.353000</td>\n",
              "      <td>518103.99220</td>\n",
              "    </tr>\n",
              "    <tr>\n",
              "      <th>std</th>\n",
              "      <td>45902.256482</td>\n",
              "      <td>28017.802755</td>\n",
              "      <td>122290.310726</td>\n",
              "      <td>40306.180338</td>\n",
              "      <td>162419.010502</td>\n",
              "      <td>198568.44707</td>\n",
              "    </tr>\n",
              "    <tr>\n",
              "      <th>min</th>\n",
              "      <td>0.000000</td>\n",
              "      <td>51283.140000</td>\n",
              "      <td>0.000000</td>\n",
              "      <td>14681.400000</td>\n",
              "      <td>52285.200000</td>\n",
              "      <td>87958.61000</td>\n",
              "    </tr>\n",
              "    <tr>\n",
              "      <th>25%</th>\n",
              "      <td>39936.370000</td>\n",
              "      <td>103730.875000</td>\n",
              "      <td>129300.132500</td>\n",
              "      <td>90138.902500</td>\n",
              "      <td>293421.857500</td>\n",
              "      <td>378742.15750</td>\n",
              "    </tr>\n",
              "    <tr>\n",
              "      <th>50%</th>\n",
              "      <td>73051.080000</td>\n",
              "      <td>122699.795000</td>\n",
              "      <td>212716.240000</td>\n",
              "      <td>107978.190000</td>\n",
              "      <td>411888.640000</td>\n",
              "      <td>490879.06000</td>\n",
              "    </tr>\n",
              "    <tr>\n",
              "      <th>75%</th>\n",
              "      <td>101602.800000</td>\n",
              "      <td>144842.180000</td>\n",
              "      <td>299469.085000</td>\n",
              "      <td>139765.977500</td>\n",
              "      <td>516942.917500</td>\n",
              "      <td>639618.33750</td>\n",
              "    </tr>\n",
              "    <tr>\n",
              "      <th>max</th>\n",
              "      <td>165349.200000</td>\n",
              "      <td>182645.560000</td>\n",
              "      <td>471784.100000</td>\n",
              "      <td>192261.830000</td>\n",
              "      <td>774031.100000</td>\n",
              "      <td>966292.93000</td>\n",
              "    </tr>\n",
              "  </tbody>\n",
              "</table>\n",
              "</div>\n",
              "      <button class=\"colab-df-convert\" onclick=\"convertToInteractive('df-8df2d5ea-0345-43d7-81c1-7de9172c331b')\"\n",
              "              title=\"Convert this dataframe to an interactive table.\"\n",
              "              style=\"display:none;\">\n",
              "        \n",
              "  <svg xmlns=\"http://www.w3.org/2000/svg\" height=\"24px\"viewBox=\"0 0 24 24\"\n",
              "       width=\"24px\">\n",
              "    <path d=\"M0 0h24v24H0V0z\" fill=\"none\"/>\n",
              "    <path d=\"M18.56 5.44l.94 2.06.94-2.06 2.06-.94-2.06-.94-.94-2.06-.94 2.06-2.06.94zm-11 1L8.5 8.5l.94-2.06 2.06-.94-2.06-.94L8.5 2.5l-.94 2.06-2.06.94zm10 10l.94 2.06.94-2.06 2.06-.94-2.06-.94-.94-2.06-.94 2.06-2.06.94z\"/><path d=\"M17.41 7.96l-1.37-1.37c-.4-.4-.92-.59-1.43-.59-.52 0-1.04.2-1.43.59L10.3 9.45l-7.72 7.72c-.78.78-.78 2.05 0 2.83L4 21.41c.39.39.9.59 1.41.59.51 0 1.02-.2 1.41-.59l7.78-7.78 2.81-2.81c.8-.78.8-2.07 0-2.86zM5.41 20L4 18.59l7.72-7.72 1.47 1.35L5.41 20z\"/>\n",
              "  </svg>\n",
              "      </button>\n",
              "      \n",
              "  <style>\n",
              "    .colab-df-container {\n",
              "      display:flex;\n",
              "      flex-wrap:wrap;\n",
              "      gap: 12px;\n",
              "    }\n",
              "\n",
              "    .colab-df-convert {\n",
              "      background-color: #E8F0FE;\n",
              "      border: none;\n",
              "      border-radius: 50%;\n",
              "      cursor: pointer;\n",
              "      display: none;\n",
              "      fill: #1967D2;\n",
              "      height: 32px;\n",
              "      padding: 0 0 0 0;\n",
              "      width: 32px;\n",
              "    }\n",
              "\n",
              "    .colab-df-convert:hover {\n",
              "      background-color: #E2EBFA;\n",
              "      box-shadow: 0px 1px 2px rgba(60, 64, 67, 0.3), 0px 1px 3px 1px rgba(60, 64, 67, 0.15);\n",
              "      fill: #174EA6;\n",
              "    }\n",
              "\n",
              "    [theme=dark] .colab-df-convert {\n",
              "      background-color: #3B4455;\n",
              "      fill: #D2E3FC;\n",
              "    }\n",
              "\n",
              "    [theme=dark] .colab-df-convert:hover {\n",
              "      background-color: #434B5C;\n",
              "      box-shadow: 0px 1px 3px 1px rgba(0, 0, 0, 0.15);\n",
              "      filter: drop-shadow(0px 1px 2px rgba(0, 0, 0, 0.3));\n",
              "      fill: #FFFFFF;\n",
              "    }\n",
              "  </style>\n",
              "\n",
              "      <script>\n",
              "        const buttonEl =\n",
              "          document.querySelector('#df-8df2d5ea-0345-43d7-81c1-7de9172c331b button.colab-df-convert');\n",
              "        buttonEl.style.display =\n",
              "          google.colab.kernel.accessAllowed ? 'block' : 'none';\n",
              "\n",
              "        async function convertToInteractive(key) {\n",
              "          const element = document.querySelector('#df-8df2d5ea-0345-43d7-81c1-7de9172c331b');\n",
              "          const dataTable =\n",
              "            await google.colab.kernel.invokeFunction('convertToInteractive',\n",
              "                                                     [key], {});\n",
              "          if (!dataTable) return;\n",
              "\n",
              "          const docLinkHtml = 'Like what you see? Visit the ' +\n",
              "            '<a target=\"_blank\" href=https://colab.research.google.com/notebooks/data_table.ipynb>data table notebook</a>'\n",
              "            + ' to learn more about interactive tables.';\n",
              "          element.innerHTML = '';\n",
              "          dataTable['output_type'] = 'display_data';\n",
              "          await google.colab.output.renderOutput(dataTable, element);\n",
              "          const docLink = document.createElement('div');\n",
              "          docLink.innerHTML = docLinkHtml;\n",
              "          element.appendChild(docLink);\n",
              "        }\n",
              "      </script>\n",
              "    </div>\n",
              "  </div>\n",
              "  "
            ]
          },
          "metadata": {},
          "execution_count": 17
        }
      ]
    },
    {
      "cell_type": "code",
      "source": [
        "df_super_pandas_cali = df_super_pandas[df_super_pandas['State']=='California']\n",
        "df_super_pandas_flo = df_super_pandas[df_super_pandas['State']=='Florida']\n",
        "df_super_pandas_ny = df_super_pandas[df_super_pandas['State']=='New York']"
      ],
      "metadata": {
        "id": "aF9QqJPxxRi9"
      },
      "execution_count": null,
      "outputs": []
    },
    {
      "cell_type": "code",
      "source": [
        "df_super_pandas_cali.head()"
      ],
      "metadata": {
        "colab": {
          "base_uri": "https://localhost:8080/",
          "height": 206
        },
        "id": "lmHfUGM6ykY4",
        "outputId": "433397d4-375f-48fc-9582-692bb1abb0d6"
      },
      "execution_count": null,
      "outputs": [
        {
          "output_type": "execute_result",
          "data": {
            "text/plain": [
              "    ads_spend  promote_spend  adm_spend       State     Profit  tot_spending  \\\n",
              "1   162597.70      151377.59  443898.53  California  191792.06     757873.82   \n",
              "6   134615.46      147198.87  127716.82  California  156122.51     409531.15   \n",
              "9   123334.88      108679.17  304981.62  California  149759.96     536995.67   \n",
              "11  100671.96       91790.61  249744.55  California  144259.40     442207.12   \n",
              "13   91992.39      135495.07  252664.93  California  134307.35     480152.39   \n",
              "\n",
              "        omzet  \n",
              "1   949665.88  \n",
              "6   565653.66  \n",
              "9   686755.63  \n",
              "11  586466.52  \n",
              "13  614459.74  "
            ],
            "text/html": [
              "\n",
              "  <div id=\"df-92a28e25-da3e-4bcf-97b3-b040d15741f0\">\n",
              "    <div class=\"colab-df-container\">\n",
              "      <div>\n",
              "<style scoped>\n",
              "    .dataframe tbody tr th:only-of-type {\n",
              "        vertical-align: middle;\n",
              "    }\n",
              "\n",
              "    .dataframe tbody tr th {\n",
              "        vertical-align: top;\n",
              "    }\n",
              "\n",
              "    .dataframe thead th {\n",
              "        text-align: right;\n",
              "    }\n",
              "</style>\n",
              "<table border=\"1\" class=\"dataframe\">\n",
              "  <thead>\n",
              "    <tr style=\"text-align: right;\">\n",
              "      <th></th>\n",
              "      <th>ads_spend</th>\n",
              "      <th>promote_spend</th>\n",
              "      <th>adm_spend</th>\n",
              "      <th>State</th>\n",
              "      <th>Profit</th>\n",
              "      <th>tot_spending</th>\n",
              "      <th>omzet</th>\n",
              "    </tr>\n",
              "  </thead>\n",
              "  <tbody>\n",
              "    <tr>\n",
              "      <th>1</th>\n",
              "      <td>162597.70</td>\n",
              "      <td>151377.59</td>\n",
              "      <td>443898.53</td>\n",
              "      <td>California</td>\n",
              "      <td>191792.06</td>\n",
              "      <td>757873.82</td>\n",
              "      <td>949665.88</td>\n",
              "    </tr>\n",
              "    <tr>\n",
              "      <th>6</th>\n",
              "      <td>134615.46</td>\n",
              "      <td>147198.87</td>\n",
              "      <td>127716.82</td>\n",
              "      <td>California</td>\n",
              "      <td>156122.51</td>\n",
              "      <td>409531.15</td>\n",
              "      <td>565653.66</td>\n",
              "    </tr>\n",
              "    <tr>\n",
              "      <th>9</th>\n",
              "      <td>123334.88</td>\n",
              "      <td>108679.17</td>\n",
              "      <td>304981.62</td>\n",
              "      <td>California</td>\n",
              "      <td>149759.96</td>\n",
              "      <td>536995.67</td>\n",
              "      <td>686755.63</td>\n",
              "    </tr>\n",
              "    <tr>\n",
              "      <th>11</th>\n",
              "      <td>100671.96</td>\n",
              "      <td>91790.61</td>\n",
              "      <td>249744.55</td>\n",
              "      <td>California</td>\n",
              "      <td>144259.40</td>\n",
              "      <td>442207.12</td>\n",
              "      <td>586466.52</td>\n",
              "    </tr>\n",
              "    <tr>\n",
              "      <th>13</th>\n",
              "      <td>91992.39</td>\n",
              "      <td>135495.07</td>\n",
              "      <td>252664.93</td>\n",
              "      <td>California</td>\n",
              "      <td>134307.35</td>\n",
              "      <td>480152.39</td>\n",
              "      <td>614459.74</td>\n",
              "    </tr>\n",
              "  </tbody>\n",
              "</table>\n",
              "</div>\n",
              "      <button class=\"colab-df-convert\" onclick=\"convertToInteractive('df-92a28e25-da3e-4bcf-97b3-b040d15741f0')\"\n",
              "              title=\"Convert this dataframe to an interactive table.\"\n",
              "              style=\"display:none;\">\n",
              "        \n",
              "  <svg xmlns=\"http://www.w3.org/2000/svg\" height=\"24px\"viewBox=\"0 0 24 24\"\n",
              "       width=\"24px\">\n",
              "    <path d=\"M0 0h24v24H0V0z\" fill=\"none\"/>\n",
              "    <path d=\"M18.56 5.44l.94 2.06.94-2.06 2.06-.94-2.06-.94-.94-2.06-.94 2.06-2.06.94zm-11 1L8.5 8.5l.94-2.06 2.06-.94-2.06-.94L8.5 2.5l-.94 2.06-2.06.94zm10 10l.94 2.06.94-2.06 2.06-.94-2.06-.94-.94-2.06-.94 2.06-2.06.94z\"/><path d=\"M17.41 7.96l-1.37-1.37c-.4-.4-.92-.59-1.43-.59-.52 0-1.04.2-1.43.59L10.3 9.45l-7.72 7.72c-.78.78-.78 2.05 0 2.83L4 21.41c.39.39.9.59 1.41.59.51 0 1.02-.2 1.41-.59l7.78-7.78 2.81-2.81c.8-.78.8-2.07 0-2.86zM5.41 20L4 18.59l7.72-7.72 1.47 1.35L5.41 20z\"/>\n",
              "  </svg>\n",
              "      </button>\n",
              "      \n",
              "  <style>\n",
              "    .colab-df-container {\n",
              "      display:flex;\n",
              "      flex-wrap:wrap;\n",
              "      gap: 12px;\n",
              "    }\n",
              "\n",
              "    .colab-df-convert {\n",
              "      background-color: #E8F0FE;\n",
              "      border: none;\n",
              "      border-radius: 50%;\n",
              "      cursor: pointer;\n",
              "      display: none;\n",
              "      fill: #1967D2;\n",
              "      height: 32px;\n",
              "      padding: 0 0 0 0;\n",
              "      width: 32px;\n",
              "    }\n",
              "\n",
              "    .colab-df-convert:hover {\n",
              "      background-color: #E2EBFA;\n",
              "      box-shadow: 0px 1px 2px rgba(60, 64, 67, 0.3), 0px 1px 3px 1px rgba(60, 64, 67, 0.15);\n",
              "      fill: #174EA6;\n",
              "    }\n",
              "\n",
              "    [theme=dark] .colab-df-convert {\n",
              "      background-color: #3B4455;\n",
              "      fill: #D2E3FC;\n",
              "    }\n",
              "\n",
              "    [theme=dark] .colab-df-convert:hover {\n",
              "      background-color: #434B5C;\n",
              "      box-shadow: 0px 1px 3px 1px rgba(0, 0, 0, 0.15);\n",
              "      filter: drop-shadow(0px 1px 2px rgba(0, 0, 0, 0.3));\n",
              "      fill: #FFFFFF;\n",
              "    }\n",
              "  </style>\n",
              "\n",
              "      <script>\n",
              "        const buttonEl =\n",
              "          document.querySelector('#df-92a28e25-da3e-4bcf-97b3-b040d15741f0 button.colab-df-convert');\n",
              "        buttonEl.style.display =\n",
              "          google.colab.kernel.accessAllowed ? 'block' : 'none';\n",
              "\n",
              "        async function convertToInteractive(key) {\n",
              "          const element = document.querySelector('#df-92a28e25-da3e-4bcf-97b3-b040d15741f0');\n",
              "          const dataTable =\n",
              "            await google.colab.kernel.invokeFunction('convertToInteractive',\n",
              "                                                     [key], {});\n",
              "          if (!dataTable) return;\n",
              "\n",
              "          const docLinkHtml = 'Like what you see? Visit the ' +\n",
              "            '<a target=\"_blank\" href=https://colab.research.google.com/notebooks/data_table.ipynb>data table notebook</a>'\n",
              "            + ' to learn more about interactive tables.';\n",
              "          element.innerHTML = '';\n",
              "          dataTable['output_type'] = 'display_data';\n",
              "          await google.colab.output.renderOutput(dataTable, element);\n",
              "          const docLink = document.createElement('div');\n",
              "          docLink.innerHTML = docLinkHtml;\n",
              "          element.appendChild(docLink);\n",
              "        }\n",
              "      </script>\n",
              "    </div>\n",
              "  </div>\n",
              "  "
            ]
          },
          "metadata": {},
          "execution_count": 19
        }
      ]
    },
    {
      "cell_type": "code",
      "source": [
        "sum_profit_cali = df_super_pandas_cali['Profit'].sum()\n",
        "sum_spend_cali = df_super_pandas_cali['tot_spending'].sum()\n",
        "\n",
        "sum_profit_flo = df_super_pandas_flo['Profit'].sum()\n",
        "sum_spend_flo = df_super_pandas_flo['tot_spending'].sum()\n",
        "\n",
        "sum_profit_ny = df_super_pandas_ny['Profit'].sum()\n",
        "sum_spend_ny = df_super_pandas_ny['tot_spending'].sum()"
      ],
      "metadata": {
        "id": "4YrAvAHcypbE"
      },
      "execution_count": null,
      "outputs": []
    },
    {
      "cell_type": "code",
      "source": [
        "print('Total Profit California : ', sum_profit_cali)\n",
        "print('Total Spending California : ', sum_spend_cali)\n",
        "print('Total Pendapatan Cabang California : ', sum_profit_cali+sum_spend_cali)\n",
        "print(\"==============================================\")\n",
        "print('Total Profit Florida : ', sum_profit_flo)\n",
        "print('Total Spending Florida : ', sum_spend_flo)\n",
        "print('Total Pendapatan Cabang Florida : ', sum_profit_flo+sum_spend_flo)\n",
        "print(\"==============================================\")\n",
        "print('Total Profit New York : ', sum_profit_ny)\n",
        "print('Total Spending New York : ', sum_spend_ny)\n",
        "print('Total Pendapatan Cabang New York: ', sum_profit_ny+sum_spend_ny)"
      ],
      "metadata": {
        "colab": {
          "base_uri": "https://localhost:8080/"
        },
        "id": "EUJoWmvszItp",
        "outputId": "5a573d2e-bf86-44f7-c0ca-6cc5e0b29cce"
      },
      "execution_count": null,
      "outputs": [
        {
          "output_type": "stream",
          "name": "stdout",
          "text": [
            "Total Profit California :  1766387.98\n",
            "Total Spending California :  6255066.88\n",
            "Total Pendapatan Cabang California :  8021454.859999999\n",
            "==============================================\n",
            "Total Profit Florida :  1900384.39\n",
            "Total Spending Florida :  7197063.44\n",
            "Total Pendapatan Cabang Florida :  9097447.83\n",
            "==============================================\n",
            "Total Profit New York :  1933859.5899999996\n",
            "Total Spending New York :  6852437.329999999\n",
            "Total Pendapatan Cabang New York:  8786296.919999998\n"
          ]
        }
      ]
    },
    {
      "cell_type": "markdown",
      "source": [
        "### Count Margin Profit Each Branch"
      ],
      "metadata": {
        "id": "9DpHLdnii45L"
      }
    },
    {
      "cell_type": "code",
      "source": [
        "perc_untung_cali = (sum_profit_cali/(sum_profit_cali+sum_spend_cali))*100\n",
        "perc_untung_flo = (sum_profit_flo/(sum_profit_flo+sum_spend_flo))*100\n",
        "perc_untung_ny = (sum_profit_ny/(sum_profit_ny+sum_spend_ny))*100"
      ],
      "metadata": {
        "id": "3ak-O2dR3F2K"
      },
      "execution_count": null,
      "outputs": []
    },
    {
      "cell_type": "code",
      "source": [
        "print('Margin Profit yang didapatkan Cabang California : ', perc_untung_cali, \"%\")\n",
        "print('Margin Profit yang didapatkan Cabang Florida : ', perc_untung_flo, \"%\")\n",
        "print('Margin Profit yang didapatkan Cabang New York : ', perc_untung_ny, \"%\")"
      ],
      "metadata": {
        "colab": {
          "base_uri": "https://localhost:8080/"
        },
        "id": "qpHzm3vT3F46",
        "outputId": "ae52f056-2646-4af6-d21f-f30a969bbad9"
      },
      "execution_count": null,
      "outputs": [
        {
          "output_type": "stream",
          "name": "stdout",
          "text": [
            "Margin Profit yang didapatkan Cabang California :  22.020793120813 %\n",
            "Margin Profit yang didapatkan Cabang Florida :  20.889203494338695 %\n",
            "Margin Profit yang didapatkan Cabang New York :  22.00995035346472 %\n"
          ]
        }
      ]
    },
    {
      "cell_type": "code",
      "source": [
        "selisih_cf = (sum_profit_flo+sum_spend_flo)-(sum_profit_cali+sum_spend_cali)\n",
        "selisih_nf = (sum_profit_flo+sum_spend_flo)-(sum_profit_ny+sum_spend_ny)\n",
        "\n",
        "print(selisih_cf)\n",
        "print(selisih_nf)"
      ],
      "metadata": {
        "colab": {
          "base_uri": "https://localhost:8080/"
        },
        "id": "b2cW1-4x77K6",
        "outputId": "eeed9e2c-97ff-4693-cfd4-a3e3e82e367b"
      },
      "execution_count": null,
      "outputs": [
        {
          "output_type": "stream",
          "name": "stdout",
          "text": [
            "1075992.9700000007\n",
            "311150.910000002\n"
          ]
        }
      ]
    },
    {
      "cell_type": "markdown",
      "source": [
        "## Clustering<br>\n",
        "\n",
        "Diuji cobakan penggunaan clustering untuk melihat pengelompokan/penggolongan modal terhadap total spending untuk supermarket ABC ini"
      ],
      "metadata": {
        "id": "jlTDAHHU9ojR"
      }
    },
    {
      "cell_type": "code",
      "source": [
        "sel_col = ['tot_spending', 'omzet']\n",
        "assemble = VectorAssembler(inputCols=sel_col, outputCol = 'feat_target')\n",
        "assembled_df_super = assemble.transform(df_super)"
      ],
      "metadata": {
        "id": "gpLfu2bZ9oKx"
      },
      "execution_count": null,
      "outputs": []
    },
    {
      "cell_type": "code",
      "source": [
        "eval = ClusteringEvaluator(predictionCol='prediction',\n",
        "                           featuresCol='feat_target',\n",
        "                           metricName='silhouette',\n",
        "                           distanceMeasure='squaredEuclidean')"
      ],
      "metadata": {
        "id": "jcFGBN49BJQf"
      },
      "execution_count": null,
      "outputs": []
    },
    {
      "cell_type": "code",
      "source": [
        "silhouette_scores=[]\n",
        "print(\"\"\"\n",
        "Silhouette Scores for K Mean Clustering\n",
        "=======================================\n",
        "Model\\tScore\\t\n",
        "=====\\t=====\\t\n",
        "\"\"\")\n",
        "\n",
        "for K in range(2,11):\n",
        "\n",
        "    KMeans_algo=KMeans(featuresCol='feat_target', k=K)\n",
        "    KMeans_fit=KMeans_algo.fit(assembled_df_super)\n",
        "    output=KMeans_fit.transform(assembled_df_super)\n",
        "    score=eval.evaluate(output)\n",
        "    silhouette_scores.append(score)\n",
        "    print(f\"K{K}\\t{round(score,2)}\\t\")"
      ],
      "metadata": {
        "colab": {
          "base_uri": "https://localhost:8080/"
        },
        "id": "p9MqDymYBJN0",
        "outputId": "4bed560f-10cb-4eb9-fc9d-a46ced743cde"
      },
      "execution_count": null,
      "outputs": [
        {
          "output_type": "stream",
          "name": "stdout",
          "text": [
            "\n",
            "Silhouette Scores for K Mean Clustering\n",
            "=======================================\n",
            "Model\tScore\t\n",
            "=====\t=====\t\n",
            "\n",
            "K2\t0.77\t\n",
            "K3\t0.72\t\n",
            "K4\t0.77\t\n",
            "K5\t0.72\t\n",
            "K6\t0.69\t\n",
            "K7\t0.67\t\n",
            "K8\t0.67\t\n",
            "K9\t0.59\t\n",
            "K10\t0.63\t\n"
          ]
        }
      ]
    },
    {
      "cell_type": "code",
      "source": [
        "import matplotlib.pyplot as plt\n",
        "fig, ax = plt.subplots(1,1, figsize =(10,8))\n",
        "ax.plot(range(2,11),silhouette_scores)\n",
        "ax.set_xlabel('Number of Clusters')\n",
        "ax.set_ylabel('Silhouette Score')"
      ],
      "metadata": {
        "colab": {
          "base_uri": "https://localhost:8080/",
          "height": 514
        },
        "id": "UcpzwXVI54ju",
        "outputId": "ecce913c-aaf1-4c84-d0f7-8bf626d710ee"
      },
      "execution_count": null,
      "outputs": [
        {
          "output_type": "execute_result",
          "data": {
            "text/plain": [
              "Text(0, 0.5, 'Silhouette Score')"
            ]
          },
          "metadata": {},
          "execution_count": 28
        },
        {
          "output_type": "display_data",
          "data": {
            "text/plain": [
              "<Figure size 720x576 with 1 Axes>"
            ],
            "image/png": "[encoded data removed]"
          },
          "metadata": {}
        }
      ]
    },
    {
      "cell_type": "code",
      "source": [
        "KMeans_algorithm=KMeans(featuresCol='feat_target', k=2)\n",
        "Model=KMeans_algorithm.fit(assembled_df_super)\n",
        "KMeans_Assignments=Model.transform(assembled_df_super)"
      ],
      "metadata": {
        "id": "y1Rr2sBxCPwe"
      },
      "execution_count": null,
      "outputs": []
    },
    {
      "cell_type": "code",
      "source": [
        "from pyspark.ml.feature import PCA as PCAml\n",
        "\n",
        "pca = PCAml(k=2, inputCol=\"feat_target\", outputCol=\"pca\")\n",
        "pca_model = pca.fit(assembled_df_super)\n",
        "pca_transformed = pca_model.transform(assembled_df_super)"
      ],
      "metadata": {
        "id": "ypV4zdnRCPzb"
      },
      "execution_count": null,
      "outputs": []
    },
    {
      "cell_type": "code",
      "source": [
        "import numpy as np\n",
        "x_pca = np.array(pca_transformed.rdd.map(lambda row: row.pca).collect())"
      ],
      "metadata": {
        "id": "Ra-mQ6S-CgFE"
      },
      "execution_count": null,
      "outputs": []
    },
    {
      "cell_type": "code",
      "source": [
        "cluster_assignment = np.array(KMeans_Assignments.rdd.map(lambda row: row.prediction).collect()).reshape(-1,1)"
      ],
      "metadata": {
        "id": "c0H0h4x0CgIB"
      },
      "execution_count": null,
      "outputs": []
    },
    {
      "cell_type": "code",
      "source": [
        "pca_data = np.hstack((x_pca,cluster_assignment))\n",
        "\n",
        "pca_df = pd.DataFrame(data=pca_data, columns=(\"1st_principal\", \"2nd_principal\",\"cluster_assignment\"))\n",
        "sns.FacetGrid(pca_df,hue=\"cluster_assignment\", height=6).map(plt.scatter, '1st_principal', '2nd_principal' ).add_legend()\n",
        "\n",
        "plt.show()"
      ],
      "metadata": {
        "colab": {
          "base_uri": "https://localhost:8080/",
          "height": 441
        },
        "id": "OYrj6RsRCnXl",
        "outputId": "b05d2a52-7f7e-49fb-c86c-4e79e5096560"
      },
      "execution_count": null,
      "outputs": [
        {
          "output_type": "display_data",
          "data": {
            "text/plain": [
              "<Figure size 526.125x432 with 1 Axes>"
            ],
            "image/png": "[encoded data removed]"
          },
          "metadata": {}
        }
      ]
    },
    {
      "cell_type": "code",
      "source": [
        "KMeans_Assignments.groupBy('prediction').count().show()"
      ],
      "metadata": {
        "colab": {
          "base_uri": "https://localhost:8080/"
        },
        "id": "3KNk1g33CqMb",
        "outputId": "fed3a70f-359e-4b53-ad5d-f832977f1ed3"
      },
      "execution_count": null,
      "outputs": [
        {
          "output_type": "stream",
          "name": "stdout",
          "text": [
            "+----------+-----+\n",
            "|prediction|count|\n",
            "+----------+-----+\n",
            "|         1|   25|\n",
            "|         0|   25|\n",
            "+----------+-----+\n",
            "\n"
          ]
        }
      ]
    },
    {
      "cell_type": "code",
      "source": [
        "df_super_clust = KMeans_Assignments.toPandas()\n",
        "df_super_clust_pandas = pd.DataFrame(df_super_clust)\n",
        "df_super_clust_pandas.head()"
      ],
      "metadata": {
        "colab": {
          "base_uri": "https://localhost:8080/",
          "height": 206
        },
        "id": "fMJPEtn-CqPG",
        "outputId": "ad970d33-419c-4f74-dffc-eb4d4559ea93"
      },
      "execution_count": null,
      "outputs": [
        {
          "output_type": "execute_result",
          "data": {
            "text/plain": [
              "   ads_spend  promote_spend  adm_spend       State     Profit  tot_spending  \\\n",
              "0  165349.20      136897.80  471784.10    New York  192261.83     774031.10   \n",
              "1  162597.70      151377.59  443898.53  California  191792.06     757873.82   \n",
              "2  153441.51      101145.55  407934.54     Florida  191050.39     662521.60   \n",
              "3  144372.41      118671.85  383199.62    New York  182901.99     646243.88   \n",
              "4  142107.34       91391.77  366168.42     Florida  166187.94     599667.53   \n",
              "\n",
              "       omzet                             feat_target  prediction  \n",
              "0  966292.93           [774031.1, 966292.9299999999]           0  \n",
              "1  949665.88  [757873.8200000001, 949665.8800000001]           0  \n",
              "2  853571.99                   [662521.6, 853571.99]           0  \n",
              "3  829145.87                  [646243.88, 829145.87]           0  \n",
              "4  765855.47                  [599667.53, 765855.47]           0  "
            ],
            "text/html": [
              "\n",
              "  <div id=\"df-4998ecb6-ba94-432b-a98e-3920c4c94cb7\">\n",
              "    <div class=\"colab-df-container\">\n",
              "      <div>\n",
              "<style scoped>\n",
              "    .dataframe tbody tr th:only-of-type {\n",
              "        vertical-align: middle;\n",
              "    }\n",
              "\n",
              "    .dataframe tbody tr th {\n",
              "        vertical-align: top;\n",
              "    }\n",
              "\n",
              "    .dataframe thead th {\n",
              "        text-align: right;\n",
              "    }\n",
              "</style>\n",
              "<table border=\"1\" class=\"dataframe\">\n",
              "  <thead>\n",
              "    <tr style=\"text-align: right;\">\n",
              "      <th></th>\n",
              "      <th>ads_spend</th>\n",
              "      <th>promote_spend</th>\n",
              "      <th>adm_spend</th>\n",
              "      <th>State</th>\n",
              "      <th>Profit</th>\n",
              "      <th>tot_spending</th>\n",
              "      <th>omzet</th>\n",
              "      <th>feat_target</th>\n",
              "      <th>prediction</th>\n",
              "    </tr>\n",
              "  </thead>\n",
              "  <tbody>\n",
              "    <tr>\n",
              "      <th>0</th>\n",
              "      <td>165349.20</td>\n",
              "      <td>136897.80</td>\n",
              "      <td>471784.10</td>\n",
              "      <td>New York</td>\n",
              "      <td>192261.83</td>\n",
              "      <td>774031.10</td>\n",
              "      <td>966292.93</td>\n",
              "      <td>[774031.1, 966292.9299999999]</td>\n",
              "      <td>0</td>\n",
              "    </tr>\n",
              "    <tr>\n",
              "      <th>1</th>\n",
              "      <td>162597.70</td>\n",
              "      <td>151377.59</td>\n",
              "      <td>443898.53</td>\n",
              "      <td>California</td>\n",
              "      <td>191792.06</td>\n",
              "      <td>757873.82</td>\n",
              "      <td>949665.88</td>\n",
              "      <td>[757873.8200000001, 949665.8800000001]</td>\n",
              "      <td>0</td>\n",
              "    </tr>\n",
              "    <tr>\n",
              "      <th>2</th>\n",
              "      <td>153441.51</td>\n",
              "      <td>101145.55</td>\n",
              "      <td>407934.54</td>\n",
              "      <td>Florida</td>\n",
              "      <td>191050.39</td>\n",
              "      <td>662521.60</td>\n",
              "      <td>853571.99</td>\n",
              "      <td>[662521.6, 853571.99]</td>\n",
              "      <td>0</td>\n",
              "    </tr>\n",
              "    <tr>\n",
              "      <th>3</th>\n",
              "      <td>144372.41</td>\n",
              "      <td>118671.85</td>\n",
              "      <td>383199.62</td>\n",
              "      <td>New York</td>\n",
              "      <td>182901.99</td>\n",
              "      <td>646243.88</td>\n",
              "      <td>829145.87</td>\n",
              "      <td>[646243.88, 829145.87]</td>\n",
              "      <td>0</td>\n",
              "    </tr>\n",
              "    <tr>\n",
              "      <th>4</th>\n",
              "      <td>142107.34</td>\n",
              "      <td>91391.77</td>\n",
              "      <td>366168.42</td>\n",
              "      <td>Florida</td>\n",
              "      <td>166187.94</td>\n",
              "      <td>599667.53</td>\n",
              "      <td>765855.47</td>\n",
              "      <td>[599667.53, 765855.47]</td>\n",
              "      <td>0</td>\n",
              "    </tr>\n",
              "  </tbody>\n",
              "</table>\n",
              "</div>\n",
              "      <button class=\"colab-df-convert\" onclick=\"convertToInteractive('df-4998ecb6-ba94-432b-a98e-3920c4c94cb7')\"\n",
              "              title=\"Convert this dataframe to an interactive table.\"\n",
              "              style=\"display:none;\">\n",
              "        \n",
              "  <svg xmlns=\"http://www.w3.org/2000/svg\" height=\"24px\"viewBox=\"0 0 24 24\"\n",
              "       width=\"24px\">\n",
              "    <path d=\"M0 0h24v24H0V0z\" fill=\"none\"/>\n",
              "    <path d=\"M18.56 5.44l.94 2.06.94-2.06 2.06-.94-2.06-.94-.94-2.06-.94 2.06-2.06.94zm-11 1L8.5 8.5l.94-2.06 2.06-.94-2.06-.94L8.5 2.5l-.94 2.06-2.06.94zm10 10l.94 2.06.94-2.06 2.06-.94-2.06-.94-.94-2.06-.94 2.06-2.06.94z\"/><path d=\"M17.41 7.96l-1.37-1.37c-.4-.4-.92-.59-1.43-.59-.52 0-1.04.2-1.43.59L10.3 9.45l-7.72 7.72c-.78.78-.78 2.05 0 2.83L4 21.41c.39.39.9.59 1.41.59.51 0 1.02-.2 1.41-.59l7.78-7.78 2.81-2.81c.8-.78.8-2.07 0-2.86zM5.41 20L4 18.59l7.72-7.72 1.47 1.35L5.41 20z\"/>\n",
              "  </svg>\n",
              "      </button>\n",
              "      \n",
              "  <style>\n",
              "    .colab-df-container {\n",
              "      display:flex;\n",
              "      flex-wrap:wrap;\n",
              "      gap: 12px;\n",
              "    }\n",
              "\n",
              "    .colab-df-convert {\n",
              "      background-color: #E8F0FE;\n",
              "      border: none;\n",
              "      border-radius: 50%;\n",
              "      cursor: pointer;\n",
              "      display: none;\n",
              "      fill: #1967D2;\n",
              "      height: 32px;\n",
              "      padding: 0 0 0 0;\n",
              "      width: 32px;\n",
              "    }\n",
              "\n",
              "    .colab-df-convert:hover {\n",
              "      background-color: #E2EBFA;\n",
              "      box-shadow: 0px 1px 2px rgba(60, 64, 67, 0.3), 0px 1px 3px 1px rgba(60, 64, 67, 0.15);\n",
              "      fill: #174EA6;\n",
              "    }\n",
              "\n",
              "    [theme=dark] .colab-df-convert {\n",
              "      background-color: #3B4455;\n",
              "      fill: #D2E3FC;\n",
              "    }\n",
              "\n",
              "    [theme=dark] .colab-df-convert:hover {\n",
              "      background-color: #434B5C;\n",
              "      box-shadow: 0px 1px 3px 1px rgba(0, 0, 0, 0.15);\n",
              "      filter: drop-shadow(0px 1px 2px rgba(0, 0, 0, 0.3));\n",
              "      fill: #FFFFFF;\n",
              "    }\n",
              "  </style>\n",
              "\n",
              "      <script>\n",
              "        const buttonEl =\n",
              "          document.querySelector('#df-4998ecb6-ba94-432b-a98e-3920c4c94cb7 button.colab-df-convert');\n",
              "        buttonEl.style.display =\n",
              "          google.colab.kernel.accessAllowed ? 'block' : 'none';\n",
              "\n",
              "        async function convertToInteractive(key) {\n",
              "          const element = document.querySelector('#df-4998ecb6-ba94-432b-a98e-3920c4c94cb7');\n",
              "          const dataTable =\n",
              "            await google.colab.kernel.invokeFunction('convertToInteractive',\n",
              "                                                     [key], {});\n",
              "          if (!dataTable) return;\n",
              "\n",
              "          const docLinkHtml = 'Like what you see? Visit the ' +\n",
              "            '<a target=\"_blank\" href=https://colab.research.google.com/notebooks/data_table.ipynb>data table notebook</a>'\n",
              "            + ' to learn more about interactive tables.';\n",
              "          element.innerHTML = '';\n",
              "          dataTable['output_type'] = 'display_data';\n",
              "          await google.colab.output.renderOutput(dataTable, element);\n",
              "          const docLink = document.createElement('div');\n",
              "          docLink.innerHTML = docLinkHtml;\n",
              "          element.appendChild(docLink);\n",
              "        }\n",
              "      </script>\n",
              "    </div>\n",
              "  </div>\n",
              "  "
            ]
          },
          "metadata": {},
          "execution_count": 35
        }
      ]
    },
    {
      "cell_type": "code",
      "source": [
        "for i in range(2):\n",
        "  print(f'Cluster ke-{i}')\n",
        "  print('Rata-rata Total Spending  : ', df_super_clust_pandas[df_super_clust_pandas['prediction']==i]['tot_spending'].mean())\n",
        "  print('Rata-rata Omzet : ', df_super_clust_pandas[df_super_clust_pandas['prediction']==i]['omzet'].mean())"
      ],
      "metadata": {
        "colab": {
          "base_uri": "https://localhost:8080/"
        },
        "id": "MfKUiab1C2_X",
        "outputId": "5728a59f-2894-45d0-bf0a-03a22ba89115"
      },
      "execution_count": null,
      "outputs": [
        {
          "output_type": "stream",
          "name": "stdout",
          "text": [
            "Cluster ke-0\n",
            "Rata-rata Total Spending  :  539319.4968\n",
            "Rata-rata Omzet :  681361.5240000001\n",
            "Cluster ke-1\n",
            "Rata-rata Total Spending  :  272863.20920000004\n",
            "Rata-rata Omzet :  354846.4604\n"
          ]
        }
      ]
    },
    {
      "cell_type": "code",
      "source": [
        "df_super_clust_pandas_0= df_super_clust_pandas[df_super_clust_pandas['prediction']==0]\n",
        "df_super_clust_pandas_1= df_super_clust_pandas[df_super_clust_pandas['prediction']==1]\n",
        "# df_super_clust_pandas_2= df_super_clust_pandas[df_super_clust_pandas['prediction']==2]\n",
        "# df_super_clust_pandas_3= df_super_clust_pandas[df_super_clust_pandas['prediction']==3]"
      ],
      "metadata": {
        "id": "ckk6JrZHC3CS"
      },
      "execution_count": null,
      "outputs": []
    },
    {
      "cell_type": "code",
      "source": [
        "df_super_clust_pandas_0['State'].value_counts()"
      ],
      "metadata": {
        "colab": {
          "base_uri": "https://localhost:8080/"
        },
        "id": "rsFf7x83D4Bs",
        "outputId": "d743e523-8840-497e-8975-9c510c0eac13"
      },
      "execution_count": null,
      "outputs": [
        {
          "output_type": "execute_result",
          "data": {
            "text/plain": [
              "Florida       9\n",
              "New York      8\n",
              "California    8\n",
              "Name: State, dtype: int64"
            ]
          },
          "metadata": {},
          "execution_count": 38
        }
      ]
    },
    {
      "cell_type": "code",
      "source": [
        "df_super_clust_pandas_1['State'].value_counts()"
      ],
      "metadata": {
        "colab": {
          "base_uri": "https://localhost:8080/"
        },
        "id": "kKZqw_NtEOs0",
        "outputId": "64b29437-94c5-412f-a162-f50b49a8eb4c"
      },
      "execution_count": null,
      "outputs": [
        {
          "output_type": "execute_result",
          "data": {
            "text/plain": [
              "New York      9\n",
              "California    9\n",
              "Florida       7\n",
              "Name: State, dtype: int64"
            ]
          },
          "metadata": {},
          "execution_count": 39
        }
      ]
    },
    {
      "cell_type": "code",
      "source": [
        "# df_super_clust_pandas_2['State'].value_counts()"
      ],
      "metadata": {
        "id": "yuYAOGsKEt2d"
      },
      "execution_count": null,
      "outputs": []
    },
    {
      "cell_type": "code",
      "source": [
        "# df_super_clust_pandas_3['State'].value_counts()"
      ],
      "metadata": {
        "id": "PEa5p2m_E-B_"
      },
      "execution_count": null,
      "outputs": []
    },
    {
      "cell_type": "markdown",
      "source": [
        "# Data Ads Optimization"
      ],
      "metadata": {
        "id": "s-1FDp1gpt25"
      }
    },
    {
      "cell_type": "code",
      "source": [
        "df_ads.show(10,False)"
      ],
      "metadata": {
        "colab": {
          "base_uri": "https://localhost:8080/"
        },
        "id": "7CIBoecQj4yx",
        "outputId": "cf04e2c5-9af8-4791-bf55-11f08c455581"
      },
      "execution_count": null,
      "outputs": [
        {
          "output_type": "stream",
          "name": "stdout",
          "text": [
            "+----+----+----+----+----+----+----+----+----+-----+\n",
            "|Ad 1|Ad 2|Ad 3|Ad 4|Ad 5|Ad 6|Ad 7|Ad 8|Ad 9|Ad 10|\n",
            "+----+----+----+----+----+----+----+----+----+-----+\n",
            "|1   |0   |0   |0   |1   |0   |0   |0   |1   |0    |\n",
            "|0   |0   |0   |0   |0   |0   |0   |0   |1   |0    |\n",
            "|0   |0   |0   |0   |0   |0   |0   |0   |0   |0    |\n",
            "|0   |1   |0   |0   |0   |0   |0   |1   |0   |0    |\n",
            "|0   |0   |0   |0   |0   |0   |0   |0   |0   |0    |\n",
            "|1   |1   |0   |0   |0   |0   |0   |0   |0   |0    |\n",
            "|0   |0   |0   |1   |0   |0   |0   |0   |0   |0    |\n",
            "|1   |1   |0   |0   |1   |0   |0   |0   |0   |0    |\n",
            "|0   |0   |0   |0   |0   |0   |0   |0   |0   |0    |\n",
            "|0   |0   |1   |0   |0   |0   |0   |0   |0   |0    |\n",
            "+----+----+----+----+----+----+----+----+----+-----+\n",
            "only showing top 10 rows\n",
            "\n"
          ]
        }
      ]
    },
    {
      "cell_type": "code",
      "source": [
        "print(\"Jumlah data sebelum drop null:\", df_ads.count())\n",
        "df_ads = df_ads.na.drop(\"any\")\n",
        "print(\"Jumlah data setelah drop null : \",df_ads.count())"
      ],
      "metadata": {
        "colab": {
          "base_uri": "https://localhost:8080/"
        },
        "id": "RJSk5O1HHzDU",
        "outputId": "b5d9a5ef-f1d9-4f11-833a-ac18e4a2c6f4"
      },
      "execution_count": null,
      "outputs": [
        {
          "output_type": "stream",
          "name": "stdout",
          "text": [
            "Jumlah data sebelum drop null: 10000\n",
            "Jumlah data setelah drop null :  10000\n"
          ]
        }
      ]
    },
    {
      "cell_type": "code",
      "source": [
        "print((df_ads.count(), len(df_ads.columns)))"
      ],
      "metadata": {
        "colab": {
          "base_uri": "https://localhost:8080/"
        },
        "id": "xseo0fVZckKo",
        "outputId": "d2972f55-cbbe-4a05-ff87-fb426514f4a6"
      },
      "execution_count": null,
      "outputs": [
        {
          "output_type": "stream",
          "name": "stdout",
          "text": [
            "(10000, 10)\n"
          ]
        }
      ]
    },
    {
      "cell_type": "markdown",
      "source": [
        "## EDA"
      ],
      "metadata": {
        "id": "ryKqPZZEdO3f"
      }
    },
    {
      "cell_type": "code",
      "source": [
        "df_ads_pandas = df_ads.toPandas()\n",
        "df_ads_pandas.head()"
      ],
      "metadata": {
        "colab": {
          "base_uri": "https://localhost:8080/",
          "height": 206
        },
        "id": "rRHHMAr2H2lD",
        "outputId": "231ef5f4-365a-4687-d4e3-fa138984d355"
      },
      "execution_count": null,
      "outputs": [
        {
          "output_type": "execute_result",
          "data": {
            "text/plain": [
              "   Ad 1  Ad 2  Ad 3  Ad 4  Ad 5  Ad 6  Ad 7  Ad 8  Ad 9  Ad 10\n",
              "0     1     0     0     0     1     0     0     0     1      0\n",
              "1     0     0     0     0     0     0     0     0     1      0\n",
              "2     0     0     0     0     0     0     0     0     0      0\n",
              "3     0     1     0     0     0     0     0     1     0      0\n",
              "4     0     0     0     0     0     0     0     0     0      0"
            ],
            "text/html": [
              "\n",
              "  <div id=\"df-c33f8681-493d-4893-82be-5413f5bba481\">\n",
              "    <div class=\"colab-df-container\">\n",
              "      <div>\n",
              "<style scoped>\n",
              "    .dataframe tbody tr th:only-of-type {\n",
              "        vertical-align: middle;\n",
              "    }\n",
              "\n",
              "    .dataframe tbody tr th {\n",
              "        vertical-align: top;\n",
              "    }\n",
              "\n",
              "    .dataframe thead th {\n",
              "        text-align: right;\n",
              "    }\n",
              "</style>\n",
              "<table border=\"1\" class=\"dataframe\">\n",
              "  <thead>\n",
              "    <tr style=\"text-align: right;\">\n",
              "      <th></th>\n",
              "      <th>Ad 1</th>\n",
              "      <th>Ad 2</th>\n",
              "      <th>Ad 3</th>\n",
              "      <th>Ad 4</th>\n",
              "      <th>Ad 5</th>\n",
              "      <th>Ad 6</th>\n",
              "      <th>Ad 7</th>\n",
              "      <th>Ad 8</th>\n",
              "      <th>Ad 9</th>\n",
              "      <th>Ad 10</th>\n",
              "    </tr>\n",
              "  </thead>\n",
              "  <tbody>\n",
              "    <tr>\n",
              "      <th>0</th>\n",
              "      <td>1</td>\n",
              "      <td>0</td>\n",
              "      <td>0</td>\n",
              "      <td>0</td>\n",
              "      <td>1</td>\n",
              "      <td>0</td>\n",
              "      <td>0</td>\n",
              "      <td>0</td>\n",
              "      <td>1</td>\n",
              "      <td>0</td>\n",
              "    </tr>\n",
              "    <tr>\n",
              "      <th>1</th>\n",
              "      <td>0</td>\n",
              "      <td>0</td>\n",
              "      <td>0</td>\n",
              "      <td>0</td>\n",
              "      <td>0</td>\n",
              "      <td>0</td>\n",
              "      <td>0</td>\n",
              "      <td>0</td>\n",
              "      <td>1</td>\n",
              "      <td>0</td>\n",
              "    </tr>\n",
              "    <tr>\n",
              "      <th>2</th>\n",
              "      <td>0</td>\n",
              "      <td>0</td>\n",
              "      <td>0</td>\n",
              "      <td>0</td>\n",
              "      <td>0</td>\n",
              "      <td>0</td>\n",
              "      <td>0</td>\n",
              "      <td>0</td>\n",
              "      <td>0</td>\n",
              "      <td>0</td>\n",
              "    </tr>\n",
              "    <tr>\n",
              "      <th>3</th>\n",
              "      <td>0</td>\n",
              "      <td>1</td>\n",
              "      <td>0</td>\n",
              "      <td>0</td>\n",
              "      <td>0</td>\n",
              "      <td>0</td>\n",
              "      <td>0</td>\n",
              "      <td>1</td>\n",
              "      <td>0</td>\n",
              "      <td>0</td>\n",
              "    </tr>\n",
              "    <tr>\n",
              "      <th>4</th>\n",
              "      <td>0</td>\n",
              "      <td>0</td>\n",
              "      <td>0</td>\n",
              "      <td>0</td>\n",
              "      <td>0</td>\n",
              "      <td>0</td>\n",
              "      <td>0</td>\n",
              "      <td>0</td>\n",
              "      <td>0</td>\n",
              "      <td>0</td>\n",
              "    </tr>\n",
              "  </tbody>\n",
              "</table>\n",
              "</div>\n",
              "      <button class=\"colab-df-convert\" onclick=\"convertToInteractive('df-c33f8681-493d-4893-82be-5413f5bba481')\"\n",
              "              title=\"Convert this dataframe to an interactive table.\"\n",
              "              style=\"display:none;\">\n",
              "        \n",
              "  <svg xmlns=\"http://www.w3.org/2000/svg\" height=\"24px\"viewBox=\"0 0 24 24\"\n",
              "       width=\"24px\">\n",
              "    <path d=\"M0 0h24v24H0V0z\" fill=\"none\"/>\n",
              "    <path d=\"M18.56 5.44l.94 2.06.94-2.06 2.06-.94-2.06-.94-.94-2.06-.94 2.06-2.06.94zm-11 1L8.5 8.5l.94-2.06 2.06-.94-2.06-.94L8.5 2.5l-.94 2.06-2.06.94zm10 10l.94 2.06.94-2.06 2.06-.94-2.06-.94-.94-2.06-.94 2.06-2.06.94z\"/><path d=\"M17.41 7.96l-1.37-1.37c-.4-.4-.92-.59-1.43-.59-.52 0-1.04.2-1.43.59L10.3 9.45l-7.72 7.72c-.78.78-.78 2.05 0 2.83L4 21.41c.39.39.9.59 1.41.59.51 0 1.02-.2 1.41-.59l7.78-7.78 2.81-2.81c.8-.78.8-2.07 0-2.86zM5.41 20L4 18.59l7.72-7.72 1.47 1.35L5.41 20z\"/>\n",
              "  </svg>\n",
              "      </button>\n",
              "      \n",
              "  <style>\n",
              "    .colab-df-container {\n",
              "      display:flex;\n",
              "      flex-wrap:wrap;\n",
              "      gap: 12px;\n",
              "    }\n",
              "\n",
              "    .colab-df-convert {\n",
              "      background-color: #E8F0FE;\n",
              "      border: none;\n",
              "      border-radius: 50%;\n",
              "      cursor: pointer;\n",
              "      display: none;\n",
              "      fill: #1967D2;\n",
              "      height: 32px;\n",
              "      padding: 0 0 0 0;\n",
              "      width: 32px;\n",
              "    }\n",
              "\n",
              "    .colab-df-convert:hover {\n",
              "      background-color: #E2EBFA;\n",
              "      box-shadow: 0px 1px 2px rgba(60, 64, 67, 0.3), 0px 1px 3px 1px rgba(60, 64, 67, 0.15);\n",
              "      fill: #174EA6;\n",
              "    }\n",
              "\n",
              "    [theme=dark] .colab-df-convert {\n",
              "      background-color: #3B4455;\n",
              "      fill: #D2E3FC;\n",
              "    }\n",
              "\n",
              "    [theme=dark] .colab-df-convert:hover {\n",
              "      background-color: #434B5C;\n",
              "      box-shadow: 0px 1px 3px 1px rgba(0, 0, 0, 0.15);\n",
              "      filter: drop-shadow(0px 1px 2px rgba(0, 0, 0, 0.3));\n",
              "      fill: #FFFFFF;\n",
              "    }\n",
              "  </style>\n",
              "\n",
              "      <script>\n",
              "        const buttonEl =\n",
              "          document.querySelector('#df-c33f8681-493d-4893-82be-5413f5bba481 button.colab-df-convert');\n",
              "        buttonEl.style.display =\n",
              "          google.colab.kernel.accessAllowed ? 'block' : 'none';\n",
              "\n",
              "        async function convertToInteractive(key) {\n",
              "          const element = document.querySelector('#df-c33f8681-493d-4893-82be-5413f5bba481');\n",
              "          const dataTable =\n",
              "            await google.colab.kernel.invokeFunction('convertToInteractive',\n",
              "                                                     [key], {});\n",
              "          if (!dataTable) return;\n",
              "\n",
              "          const docLinkHtml = 'Like what you see? Visit the ' +\n",
              "            '<a target=\"_blank\" href=https://colab.research.google.com/notebooks/data_table.ipynb>data table notebook</a>'\n",
              "            + ' to learn more about interactive tables.';\n",
              "          element.innerHTML = '';\n",
              "          dataTable['output_type'] = 'display_data';\n",
              "          await google.colab.output.renderOutput(dataTable, element);\n",
              "          const docLink = document.createElement('div');\n",
              "          docLink.innerHTML = docLinkHtml;\n",
              "          element.appendChild(docLink);\n",
              "        }\n",
              "      </script>\n",
              "    </div>\n",
              "  </div>\n",
              "  "
            ]
          },
          "metadata": {},
          "execution_count": 45
        }
      ]
    },
    {
      "cell_type": "code",
      "source": [
        "df_ads_pandas.info()"
      ],
      "metadata": {
        "colab": {
          "base_uri": "https://localhost:8080/"
        },
        "id": "PAOwdqY0JD6m",
        "outputId": "78b3c119-99e4-4444-8283-50f52419894b"
      },
      "execution_count": null,
      "outputs": [
        {
          "output_type": "stream",
          "name": "stdout",
          "text": [
            "<class 'pandas.core.frame.DataFrame'>\n",
            "RangeIndex: 10000 entries, 0 to 9999\n",
            "Data columns (total 10 columns):\n",
            " #   Column  Non-Null Count  Dtype\n",
            "---  ------  --------------  -----\n",
            " 0   Ad 1    10000 non-null  int32\n",
            " 1   Ad 2    10000 non-null  int32\n",
            " 2   Ad 3    10000 non-null  int32\n",
            " 3   Ad 4    10000 non-null  int32\n",
            " 4   Ad 5    10000 non-null  int32\n",
            " 5   Ad 6    10000 non-null  int32\n",
            " 6   Ad 7    10000 non-null  int32\n",
            " 7   Ad 8    10000 non-null  int32\n",
            " 8   Ad 9    10000 non-null  int32\n",
            " 9   Ad 10   10000 non-null  int32\n",
            "dtypes: int32(10)\n",
            "memory usage: 390.8 KB\n"
          ]
        }
      ]
    },
    {
      "cell_type": "markdown",
      "source": [
        "### Findout The most high click rate Ads"
      ],
      "metadata": {
        "id": "MPOkre5LjUuS"
      }
    },
    {
      "cell_type": "code",
      "source": [
        "arr_click_rate = []"
      ],
      "metadata": {
        "id": "8pqeHVGtJ8cq"
      },
      "execution_count": null,
      "outputs": []
    },
    {
      "cell_type": "code",
      "source": [
        "for i in range(10):\n",
        "  print('=============================')\n",
        "  print(df_ads_pandas.columns[i])\n",
        "  print(df_ads_pandas[df_ads_pandas.columns[i]].value_counts())\n",
        "  arr_click_rate.append(df_ads_pandas[df_ads_pandas.columns[i]].value_counts()[1])"
      ],
      "metadata": {
        "colab": {
          "base_uri": "https://localhost:8080/"
        },
        "id": "A4GDIcKGH2nd",
        "outputId": "58425ffd-c6fe-4493-c8a2-ba40ac7fb7a0"
      },
      "execution_count": null,
      "outputs": [
        {
          "output_type": "stream",
          "name": "stdout",
          "text": [
            "=============================\n",
            "Ad 1\n",
            "0    8297\n",
            "1    1703\n",
            "Name: Ad 1, dtype: int64\n",
            "=============================\n",
            "Ad 2\n",
            "0    8705\n",
            "1    1295\n",
            "Name: Ad 2, dtype: int64\n",
            "=============================\n",
            "Ad 3\n",
            "0    9272\n",
            "1     728\n",
            "Name: Ad 3, dtype: int64\n",
            "=============================\n",
            "Ad 4\n",
            "0    8804\n",
            "1    1196\n",
            "Name: Ad 4, dtype: int64\n",
            "=============================\n",
            "Ad 5\n",
            "0    7305\n",
            "1    2695\n",
            "Name: Ad 5, dtype: int64\n",
            "=============================\n",
            "Ad 6\n",
            "0    9874\n",
            "1     126\n",
            "Name: Ad 6, dtype: int64\n",
            "=============================\n",
            "Ad 7\n",
            "0    8888\n",
            "1    1112\n",
            "Name: Ad 7, dtype: int64\n",
            "=============================\n",
            "Ad 8\n",
            "0    7909\n",
            "1    2091\n",
            "Name: Ad 8, dtype: int64\n",
            "=============================\n",
            "Ad 9\n",
            "0    9048\n",
            "1     952\n",
            "Name: Ad 9, dtype: int64\n",
            "=============================\n",
            "Ad 10\n",
            "0    9511\n",
            "1     489\n",
            "Name: Ad 10, dtype: int64\n"
          ]
        }
      ]
    },
    {
      "cell_type": "code",
      "source": [
        "# print(arr_click_rate)\n",
        "print('Rata-rata Click rate : ', np.mean(arr_click_rate))\n",
        "print('Max Click rate : ', np.max(arr_click_rate))\n",
        "print('Min Click rate : ', np.min(arr_click_rate))"
      ],
      "metadata": {
        "colab": {
          "base_uri": "https://localhost:8080/"
        },
        "id": "QitgQd8aKee2",
        "outputId": "57880487-62a1-4bc1-ec4c-ba254ab5ed40"
      },
      "execution_count": null,
      "outputs": [
        {
          "output_type": "stream",
          "name": "stdout",
          "text": [
            "Rata-rata Click rate :  1238.7\n",
            "Max Click rate :  2695\n",
            "Min Click rate :  126\n"
          ]
        }
      ]
    },
    {
      "cell_type": "markdown",
      "source": [
        "# Data Market Basket"
      ],
      "metadata": {
        "id": "MkTYB6Kwp8Bs"
      }
    },
    {
      "cell_type": "code",
      "source": [
        "df_basket.show(50,False)"
      ],
      "metadata": {
        "colab": {
          "base_uri": "https://localhost:8080/"
        },
        "id": "S02vOJKYmN3D",
        "outputId": "1d65964a-0f20-4a6b-84ff-1c19e0d48109"
      },
      "execution_count": null,
      "outputs": [
        {
          "output_type": "stream",
          "name": "stdout",
          "text": [
            "+-----------------+-----------------+--------------+-------------------+-------------+----------------+---------------+---------------+------------+--------------------+--------------+---------+-----+-----+-------------+------+-----------------+---------------+-------+---------+\n",
            "|col1             |col2             |col3          |col4               |col5         |col6            |col7           |col8           |col9        |col10               |col11         |col12    |col13|col14|col15        |col16 |col17            |col18          |col19  |col20    |\n",
            "+-----------------+-----------------+--------------+-------------------+-------------+----------------+---------------+---------------+------------+--------------------+--------------+---------+-----+-----+-------------+------+-----------------+---------------+-------+---------+\n",
            "|shrimp           |almonds          |avocado       |vegetables mix     |green grapes |whole weat flour|yams           |cottage cheese |energy drink|tomato juice        |low fat yogurt|green tea|honey|salad|mineral water|salmon|antioxydant juice|frozen smoothie|spinach|olive oil|\n",
            "|burgers          |meatballs        |eggs          |null               |null         |null            |null           |null           |null        |null                |null          |null     |null |null |null         |null  |null             |null           |null   |null     |\n",
            "|chutney          |null             |null          |null               |null         |null            |null           |null           |null        |null                |null          |null     |null |null |null         |null  |null             |null           |null   |null     |\n",
            "|turkey           |avocado          |null          |null               |null         |null            |null           |null           |null        |null                |null          |null     |null |null |null         |null  |null             |null           |null   |null     |\n",
            "|mineral water    |milk             |energy bar    |whole wheat rice   |green tea    |null            |null           |null           |null        |null                |null          |null     |null |null |null         |null  |null             |null           |null   |null     |\n",
            "|low fat yogurt   |null             |null          |null               |null         |null            |null           |null           |null        |null                |null          |null     |null |null |null         |null  |null             |null           |null   |null     |\n",
            "|whole wheat pasta|french fries     |null          |null               |null         |null            |null           |null           |null        |null                |null          |null     |null |null |null         |null  |null             |null           |null   |null     |\n",
            "|soup             |light cream      |shallot       |null               |null         |null            |null           |null           |null        |null                |null          |null     |null |null |null         |null  |null             |null           |null   |null     |\n",
            "|frozen vegetables|spaghetti        |green tea     |null               |null         |null            |null           |null           |null        |null                |null          |null     |null |null |null         |null  |null             |null           |null   |null     |\n",
            "|french fries     |null             |null          |null               |null         |null            |null           |null           |null        |null                |null          |null     |null |null |null         |null  |null             |null           |null   |null     |\n",
            "|eggs             |pet food         |null          |null               |null         |null            |null           |null           |null        |null                |null          |null     |null |null |null         |null  |null             |null           |null   |null     |\n",
            "|cookies          |null             |null          |null               |null         |null            |null           |null           |null        |null                |null          |null     |null |null |null         |null  |null             |null           |null   |null     |\n",
            "|turkey           |burgers          |mineral water |eggs               |cooking oil  |null            |null           |null           |null        |null                |null          |null     |null |null |null         |null  |null             |null           |null   |null     |\n",
            "|spaghetti        |champagne        |cookies       |null               |null         |null            |null           |null           |null        |null                |null          |null     |null |null |null         |null  |null             |null           |null   |null     |\n",
            "|mineral water    |salmon           |null          |null               |null         |null            |null           |null           |null        |null                |null          |null     |null |null |null         |null  |null             |null           |null   |null     |\n",
            "|mineral water    |null             |null          |null               |null         |null            |null           |null           |null        |null                |null          |null     |null |null |null         |null  |null             |null           |null   |null     |\n",
            "|shrimp           |chocolate        |chicken       |honey              |oil          |cooking oil     |low fat yogurt |null           |null        |null                |null          |null     |null |null |null         |null  |null             |null           |null   |null     |\n",
            "|turkey           |eggs             |null          |null               |null         |null            |null           |null           |null        |null                |null          |null     |null |null |null         |null  |null             |null           |null   |null     |\n",
            "|turkey           |fresh tuna       |tomatoes      |spaghetti          |mineral water|black tea       |salmon         |eggs           |chicken     |extra dark chocolate|null          |null     |null |null |null         |null  |null             |null           |null   |null     |\n",
            "|meatballs        |milk             |honey         |french fries       |protein bar  |null            |null           |null           |null        |null                |null          |null     |null |null |null         |null  |null             |null           |null   |null     |\n",
            "|red wine         |shrimp           |pasta         |pepper             |eggs         |chocolate       |shampoo        |null           |null        |null                |null          |null     |null |null |null         |null  |null             |null           |null   |null     |\n",
            "|rice             |sparkling water  |null          |null               |null         |null            |null           |null           |null        |null                |null          |null     |null |null |null         |null  |null             |null           |null   |null     |\n",
            "|spaghetti        |mineral water    |ham           |body spray         |pancakes     |green tea       |null           |null           |null        |null                |null          |null     |null |null |null         |null  |null             |null           |null   |null     |\n",
            "|burgers          |grated cheese    |shrimp        |pasta              |avocado      |honey           |white wine     |toothpaste     |null        |null                |null          |null     |null |null |null         |null  |null             |null           |null   |null     |\n",
            "|eggs             |null             |null          |null               |null         |null            |null           |null           |null        |null                |null          |null     |null |null |null         |null  |null             |null           |null   |null     |\n",
            "|parmesan cheese  |spaghetti        |soup          |avocado            |milk         |fresh bread     |null           |null           |null        |null                |null          |null     |null |null |null         |null  |null             |null           |null   |null     |\n",
            "|ground beef      |spaghetti        |mineral water |milk               |energy bar   |black tea       |salmon         |frozen smoothie|escalope    |null                |null          |null     |null |null |null         |null  |null             |null           |null   |null     |\n",
            "|sparkling water  |null             |null          |null               |null         |null            |null           |null           |null        |null                |null          |null     |null |null |null         |null  |null             |null           |null   |null     |\n",
            "|mineral water    |eggs             |chicken       |chocolate          |french fries |null            |null           |null           |null        |null                |null          |null     |null |null |null         |null  |null             |null           |null   |null     |\n",
            "|frozen vegetables|spaghetti        |yams          |mineral water      |null         |null            |null           |null           |null        |null                |null          |null     |null |null |null         |null  |null             |null           |null   |null     |\n",
            "|herb & pepper    |tomato sauce     |light cream   |magazines          |null         |null            |null           |null           |null        |null                |null          |null     |null |null |null         |null  |null             |null           |null   |null     |\n",
            "|mineral water    |chocolate        |avocado       |eggs               |null         |null            |null           |null           |null        |null                |null          |null     |null |null |null         |null  |null             |null           |null   |null     |\n",
            "|turkey           |french fries     |strawberries  |null               |null         |null            |null           |null           |null        |null                |null          |null     |null |null |null         |null  |null             |null           |null   |null     |\n",
            "|frozen vegetables|strong cheese    |chocolate     |null               |null         |null            |null           |null           |null        |null                |null          |null     |null |null |null         |null  |null             |null           |null   |null     |\n",
            "|cookies          |null             |null          |null               |null         |null            |null           |null           |null        |null                |null          |null     |null |null |null         |null  |null             |null           |null   |null     |\n",
            "|pickles          |spaghetti        |salmon        |escalope           |null         |null            |null           |null           |null        |null                |null          |null     |null |null |null         |null  |null             |null           |null   |null     |\n",
            "|energy bar       |french fries     |null          |null               |null         |null            |null           |null           |null        |null                |null          |null     |null |null |null         |null  |null             |null           |null   |null     |\n",
            "|red wine         |ground beef      |mineral water |null               |null         |null            |null           |null           |null        |null                |null          |null     |null |null |null         |null  |null             |null           |null   |null     |\n",
            "|mineral water    |cake             |cottage cheese|null               |null         |null            |null           |null           |null        |null                |null          |null     |null |null |null         |null  |null             |null           |null   |null     |\n",
            "|pickles          |champagne        |green tea     |null               |null         |null            |null           |null           |null        |null                |null          |null     |null |null |null         |null  |null             |null           |null   |null     |\n",
            "|spaghetti        |null             |null          |null               |null         |null            |null           |null           |null        |null                |null          |null     |null |null |null         |null  |null             |null           |null   |null     |\n",
            "|fresh tuna       |frozen vegetables|spaghetti     |mineral water      |honey        |whole wheat rice|frozen smoothie|escalope       |null        |null                |null          |null     |null |null |null         |null  |null             |null           |null   |null     |\n",
            "|spaghetti        |null             |null          |null               |null         |null            |null           |null           |null        |null                |null          |null     |null |null |null         |null  |null             |null           |null   |null     |\n",
            "|soup             |meatballs        |hot dogs      |sparkling water    |null         |null            |null           |null           |null        |null                |null          |null     |null |null |null         |null  |null             |null           |null   |null     |\n",
            "|escalope         |null             |null          |null               |null         |null            |null           |null           |null        |null                |null          |null     |null |null |null         |null  |null             |null           |null   |null     |\n",
            "|soup             |avocado          |french fries  |hot dogs           |brownies     |body spray      |pancakes       |green tea      |null        |null                |null          |null     |null |null |null         |null  |null             |null           |null   |null     |\n",
            "|mineral water    |chicken          |cereals       |clothes accessories|null         |null            |null           |null           |null        |null                |null          |null     |null |null |null         |null  |null             |null           |null   |null     |\n",
            "|mineral water    |bug spray        |null          |null               |null         |null            |null           |null           |null        |null                |null          |null     |null |null |null         |null  |null             |null           |null   |null     |\n",
            "|avocado          |muffins          |null          |null               |null         |null            |null           |null           |null        |null                |null          |null     |null |null |null         |null  |null             |null           |null   |null     |\n",
            "|burgers          |black tea        |green tea     |null               |null         |null            |null           |null           |null        |null                |null          |null     |null |null |null         |null  |null             |null           |null   |null     |\n",
            "+-----------------+-----------------+--------------+-------------------+-------------+----------------+---------------+---------------+------------+--------------------+--------------+---------+-----+-----+-------------+------+-----------------+---------------+-------+---------+\n",
            "only showing top 50 rows\n",
            "\n"
          ]
        }
      ]
    },
    {
      "cell_type": "code",
      "source": [
        "print((df_basket.count(), len(df_basket.columns)))"
      ],
      "metadata": {
        "colab": {
          "base_uri": "https://localhost:8080/"
        },
        "id": "cODtgckJZFSF",
        "outputId": "438ba588-e305-496d-a8f0-f90bc9ce8d15"
      },
      "execution_count": null,
      "outputs": [
        {
          "output_type": "stream",
          "name": "stdout",
          "text": [
            "(7501, 20)\n"
          ]
        }
      ]
    },
    {
      "cell_type": "markdown",
      "source": [
        "## EDA"
      ],
      "metadata": {
        "id": "f-SGyw_Uikwz"
      }
    },
    {
      "cell_type": "code",
      "source": [
        "df_basket_pandas = df_basket.toPandas()\n",
        "df_basket_pandas.head()"
      ],
      "metadata": {
        "colab": {
          "base_uri": "https://localhost:8080/",
          "height": 206
        },
        "id": "YvIBEQ-1gSB4",
        "outputId": "52587b0f-d0c9-4ead-c012-950c8b9b0590"
      },
      "execution_count": null,
      "outputs": [
        {
          "output_type": "execute_result",
          "data": {
            "text/plain": [
              "            col1       col2        col3              col4          col5  \\\n",
              "0         shrimp    almonds     avocado    vegetables mix  green grapes   \n",
              "1        burgers  meatballs        eggs              None          None   \n",
              "2        chutney       None        None              None          None   \n",
              "3         turkey    avocado        None              None          None   \n",
              "4  mineral water       milk  energy bar  whole wheat rice     green tea   \n",
              "\n",
              "               col6  col7            col8          col9         col10  \\\n",
              "0  whole weat flour  yams  cottage cheese  energy drink  tomato juice   \n",
              "1              None  None            None          None          None   \n",
              "2              None  None            None          None          None   \n",
              "3              None  None            None          None          None   \n",
              "4              None  None            None          None          None   \n",
              "\n",
              "            col11      col12  col13  col14          col15   col16  \\\n",
              "0  low fat yogurt  green tea  honey  salad  mineral water  salmon   \n",
              "1            None       None   None   None           None    None   \n",
              "2            None       None   None   None           None    None   \n",
              "3            None       None   None   None           None    None   \n",
              "4            None       None   None   None           None    None   \n",
              "\n",
              "               col17            col18    col19      col20  \n",
              "0  antioxydant juice  frozen smoothie  spinach  olive oil  \n",
              "1               None             None     None       None  \n",
              "2               None             None     None       None  \n",
              "3               None             None     None       None  \n",
              "4               None             None     None       None  "
            ],
            "text/html": [
              "\n",
              "  <div id=\"df-80dc9b68-dc0c-469f-bebf-67f1b179ee55\">\n",
              "    <div class=\"colab-df-container\">\n",
              "      <div>\n",
              "<style scoped>\n",
              "    .dataframe tbody tr th:only-of-type {\n",
              "        vertical-align: middle;\n",
              "    }\n",
              "\n",
              "    .dataframe tbody tr th {\n",
              "        vertical-align: top;\n",
              "    }\n",
              "\n",
              "    .dataframe thead th {\n",
              "        text-align: right;\n",
              "    }\n",
              "</style>\n",
              "<table border=\"1\" class=\"dataframe\">\n",
              "  <thead>\n",
              "    <tr style=\"text-align: right;\">\n",
              "      <th></th>\n",
              "      <th>col1</th>\n",
              "      <th>col2</th>\n",
              "      <th>col3</th>\n",
              "      <th>col4</th>\n",
              "      <th>col5</th>\n",
              "      <th>col6</th>\n",
              "      <th>col7</th>\n",
              "      <th>col8</th>\n",
              "      <th>col9</th>\n",
              "      <th>col10</th>\n",
              "      <th>col11</th>\n",
              "      <th>col12</th>\n",
              "      <th>col13</th>\n",
              "      <th>col14</th>\n",
              "      <th>col15</th>\n",
              "      <th>col16</th>\n",
              "      <th>col17</th>\n",
              "      <th>col18</th>\n",
              "      <th>col19</th>\n",
              "      <th>col20</th>\n",
              "    </tr>\n",
              "  </thead>\n",
              "  <tbody>\n",
              "    <tr>\n",
              "      <th>0</th>\n",
              "      <td>shrimp</td>\n",
              "      <td>almonds</td>\n",
              "      <td>avocado</td>\n",
              "      <td>vegetables mix</td>\n",
              "      <td>green grapes</td>\n",
              "      <td>whole weat flour</td>\n",
              "      <td>yams</td>\n",
              "      <td>cottage cheese</td>\n",
              "      <td>energy drink</td>\n",
              "      <td>tomato juice</td>\n",
              "      <td>low fat yogurt</td>\n",
              "      <td>green tea</td>\n",
              "      <td>honey</td>\n",
              "      <td>salad</td>\n",
              "      <td>mineral water</td>\n",
              "      <td>salmon</td>\n",
              "      <td>antioxydant juice</td>\n",
              "      <td>frozen smoothie</td>\n",
              "      <td>spinach</td>\n",
              "      <td>olive oil</td>\n",
              "    </tr>\n",
              "    <tr>\n",
              "      <th>1</th>\n",
              "      <td>burgers</td>\n",
              "      <td>meatballs</td>\n",
              "      <td>eggs</td>\n",
              "      <td>None</td>\n",
              "      <td>None</td>\n",
              "      <td>None</td>\n",
              "      <td>None</td>\n",
              "      <td>None</td>\n",
              "      <td>None</td>\n",
              "      <td>None</td>\n",
              "      <td>None</td>\n",
              "      <td>None</td>\n",
              "      <td>None</td>\n",
              "      <td>None</td>\n",
              "      <td>None</td>\n",
              "      <td>None</td>\n",
              "      <td>None</td>\n",
              "      <td>None</td>\n",
              "      <td>None</td>\n",
              "      <td>None</td>\n",
              "    </tr>\n",
              "    <tr>\n",
              "      <th>2</th>\n",
              "      <td>chutney</td>\n",
              "      <td>None</td>\n",
              "      <td>None</td>\n",
              "      <td>None</td>\n",
              "      <td>None</td>\n",
              "      <td>None</td>\n",
              "      <td>None</td>\n",
              "      <td>None</td>\n",
              "      <td>None</td>\n",
              "      <td>None</td>\n",
              "      <td>None</td>\n",
              "      <td>None</td>\n",
              "      <td>None</td>\n",
              "      <td>None</td>\n",
              "      <td>None</td>\n",
              "      <td>None</td>\n",
              "      <td>None</td>\n",
              "      <td>None</td>\n",
              "      <td>None</td>\n",
              "      <td>None</td>\n",
              "    </tr>\n",
              "    <tr>\n",
              "      <th>3</th>\n",
              "      <td>turkey</td>\n",
              "      <td>avocado</td>\n",
              "      <td>None</td>\n",
              "      <td>None</td>\n",
              "      <td>None</td>\n",
              "      <td>None</td>\n",
              "      <td>None</td>\n",
              "      <td>None</td>\n",
              "      <td>None</td>\n",
              "      <td>None</td>\n",
              "      <td>None</td>\n",
              "      <td>None</td>\n",
              "      <td>None</td>\n",
              "      <td>None</td>\n",
              "      <td>None</td>\n",
              "      <td>None</td>\n",
              "      <td>None</td>\n",
              "      <td>None</td>\n",
              "      <td>None</td>\n",
              "      <td>None</td>\n",
              "    </tr>\n",
              "    <tr>\n",
              "      <th>4</th>\n",
              "      <td>mineral water</td>\n",
              "      <td>milk</td>\n",
              "      <td>energy bar</td>\n",
              "      <td>whole wheat rice</td>\n",
              "      <td>green tea</td>\n",
              "      <td>None</td>\n",
              "      <td>None</td>\n",
              "      <td>None</td>\n",
              "      <td>None</td>\n",
              "      <td>None</td>\n",
              "      <td>None</td>\n",
              "      <td>None</td>\n",
              "      <td>None</td>\n",
              "      <td>None</td>\n",
              "      <td>None</td>\n",
              "      <td>None</td>\n",
              "      <td>None</td>\n",
              "      <td>None</td>\n",
              "      <td>None</td>\n",
              "      <td>None</td>\n",
              "    </tr>\n",
              "  </tbody>\n",
              "</table>\n",
              "</div>\n",
              "      <button class=\"colab-df-convert\" onclick=\"convertToInteractive('df-80dc9b68-dc0c-469f-bebf-67f1b179ee55')\"\n",
              "              title=\"Convert this dataframe to an interactive table.\"\n",
              "              style=\"display:none;\">\n",
              "        \n",
              "  <svg xmlns=\"http://www.w3.org/2000/svg\" height=\"24px\"viewBox=\"0 0 24 24\"\n",
              "       width=\"24px\">\n",
              "    <path d=\"M0 0h24v24H0V0z\" fill=\"none\"/>\n",
              "    <path d=\"M18.56 5.44l.94 2.06.94-2.06 2.06-.94-2.06-.94-.94-2.06-.94 2.06-2.06.94zm-11 1L8.5 8.5l.94-2.06 2.06-.94-2.06-.94L8.5 2.5l-.94 2.06-2.06.94zm10 10l.94 2.06.94-2.06 2.06-.94-2.06-.94-.94-2.06-.94 2.06-2.06.94z\"/><path d=\"M17.41 7.96l-1.37-1.37c-.4-.4-.92-.59-1.43-.59-.52 0-1.04.2-1.43.59L10.3 9.45l-7.72 7.72c-.78.78-.78 2.05 0 2.83L4 21.41c.39.39.9.59 1.41.59.51 0 1.02-.2 1.41-.59l7.78-7.78 2.81-2.81c.8-.78.8-2.07 0-2.86zM5.41 20L4 18.59l7.72-7.72 1.47 1.35L5.41 20z\"/>\n",
              "  </svg>\n",
              "      </button>\n",
              "      \n",
              "  <style>\n",
              "    .colab-df-container {\n",
              "      display:flex;\n",
              "      flex-wrap:wrap;\n",
              "      gap: 12px;\n",
              "    }\n",
              "\n",
              "    .colab-df-convert {\n",
              "      background-color: #E8F0FE;\n",
              "      border: none;\n",
              "      border-radius: 50%;\n",
              "      cursor: pointer;\n",
              "      display: none;\n",
              "      fill: #1967D2;\n",
              "      height: 32px;\n",
              "      padding: 0 0 0 0;\n",
              "      width: 32px;\n",
              "    }\n",
              "\n",
              "    .colab-df-convert:hover {\n",
              "      background-color: #E2EBFA;\n",
              "      box-shadow: 0px 1px 2px rgba(60, 64, 67, 0.3), 0px 1px 3px 1px rgba(60, 64, 67, 0.15);\n",
              "      fill: #174EA6;\n",
              "    }\n",
              "\n",
              "    [theme=dark] .colab-df-convert {\n",
              "      background-color: #3B4455;\n",
              "      fill: #D2E3FC;\n",
              "    }\n",
              "\n",
              "    [theme=dark] .colab-df-convert:hover {\n",
              "      background-color: #434B5C;\n",
              "      box-shadow: 0px 1px 3px 1px rgba(0, 0, 0, 0.15);\n",
              "      filter: drop-shadow(0px 1px 2px rgba(0, 0, 0, 0.3));\n",
              "      fill: #FFFFFF;\n",
              "    }\n",
              "  </style>\n",
              "\n",
              "      <script>\n",
              "        const buttonEl =\n",
              "          document.querySelector('#df-80dc9b68-dc0c-469f-bebf-67f1b179ee55 button.colab-df-convert');\n",
              "        buttonEl.style.display =\n",
              "          google.colab.kernel.accessAllowed ? 'block' : 'none';\n",
              "\n",
              "        async function convertToInteractive(key) {\n",
              "          const element = document.querySelector('#df-80dc9b68-dc0c-469f-bebf-67f1b179ee55');\n",
              "          const dataTable =\n",
              "            await google.colab.kernel.invokeFunction('convertToInteractive',\n",
              "                                                     [key], {});\n",
              "          if (!dataTable) return;\n",
              "\n",
              "          const docLinkHtml = 'Like what you see? Visit the ' +\n",
              "            '<a target=\"_blank\" href=https://colab.research.google.com/notebooks/data_table.ipynb>data table notebook</a>'\n",
              "            + ' to learn more about interactive tables.';\n",
              "          element.innerHTML = '';\n",
              "          dataTable['output_type'] = 'display_data';\n",
              "          await google.colab.output.renderOutput(dataTable, element);\n",
              "          const docLink = document.createElement('div');\n",
              "          docLink.innerHTML = docLinkHtml;\n",
              "          element.appendChild(docLink);\n",
              "        }\n",
              "      </script>\n",
              "    </div>\n",
              "  </div>\n",
              "  "
            ]
          },
          "metadata": {},
          "execution_count": 52
        }
      ]
    },
    {
      "cell_type": "code",
      "source": [
        "df_basket_pandas.fillna(\"-\", inplace = True)\n",
        "df_basket_pandas.head()"
      ],
      "metadata": {
        "colab": {
          "base_uri": "https://localhost:8080/",
          "height": 206
        },
        "id": "Ffc-a79ohNcT",
        "outputId": "fd9f552f-9493-4a3a-95e0-8736969c6c88"
      },
      "execution_count": null,
      "outputs": [
        {
          "output_type": "execute_result",
          "data": {
            "text/plain": [
              "            col1       col2        col3              col4          col5  \\\n",
              "0         shrimp    almonds     avocado    vegetables mix  green grapes   \n",
              "1        burgers  meatballs        eggs                 -             -   \n",
              "2        chutney          -           -                 -             -   \n",
              "3         turkey    avocado           -                 -             -   \n",
              "4  mineral water       milk  energy bar  whole wheat rice     green tea   \n",
              "\n",
              "               col6  col7            col8          col9         col10  \\\n",
              "0  whole weat flour  yams  cottage cheese  energy drink  tomato juice   \n",
              "1                 -     -               -             -             -   \n",
              "2                 -     -               -             -             -   \n",
              "3                 -     -               -             -             -   \n",
              "4                 -     -               -             -             -   \n",
              "\n",
              "            col11      col12  col13  col14          col15   col16  \\\n",
              "0  low fat yogurt  green tea  honey  salad  mineral water  salmon   \n",
              "1               -          -      -      -              -       -   \n",
              "2               -          -      -      -              -       -   \n",
              "3               -          -      -      -              -       -   \n",
              "4               -          -      -      -              -       -   \n",
              "\n",
              "               col17            col18    col19      col20  \n",
              "0  antioxydant juice  frozen smoothie  spinach  olive oil  \n",
              "1                  -                -        -          -  \n",
              "2                  -                -        -          -  \n",
              "3                  -                -        -          -  \n",
              "4                  -                -        -          -  "
            ],
            "text/html": [
              "\n",
              "  <div id=\"df-1547fdaa-5c59-4d5d-ba09-f47b5464fe2a\">\n",
              "    <div class=\"colab-df-container\">\n",
              "      <div>\n",
              "<style scoped>\n",
              "    .dataframe tbody tr th:only-of-type {\n",
              "        vertical-align: middle;\n",
              "    }\n",
              "\n",
              "    .dataframe tbody tr th {\n",
              "        vertical-align: top;\n",
              "    }\n",
              "\n",
              "    .dataframe thead th {\n",
              "        text-align: right;\n",
              "    }\n",
              "</style>\n",
              "<table border=\"1\" class=\"dataframe\">\n",
              "  <thead>\n",
              "    <tr style=\"text-align: right;\">\n",
              "      <th></th>\n",
              "      <th>col1</th>\n",
              "      <th>col2</th>\n",
              "      <th>col3</th>\n",
              "      <th>col4</th>\n",
              "      <th>col5</th>\n",
              "      <th>col6</th>\n",
              "      <th>col7</th>\n",
              "      <th>col8</th>\n",
              "      <th>col9</th>\n",
              "      <th>col10</th>\n",
              "      <th>col11</th>\n",
              "      <th>col12</th>\n",
              "      <th>col13</th>\n",
              "      <th>col14</th>\n",
              "      <th>col15</th>\n",
              "      <th>col16</th>\n",
              "      <th>col17</th>\n",
              "      <th>col18</th>\n",
              "      <th>col19</th>\n",
              "      <th>col20</th>\n",
              "    </tr>\n",
              "  </thead>\n",
              "  <tbody>\n",
              "    <tr>\n",
              "      <th>0</th>\n",
              "      <td>shrimp</td>\n",
              "      <td>almonds</td>\n",
              "      <td>avocado</td>\n",
              "      <td>vegetables mix</td>\n",
              "      <td>green grapes</td>\n",
              "      <td>whole weat flour</td>\n",
              "      <td>yams</td>\n",
              "      <td>cottage cheese</td>\n",
              "      <td>energy drink</td>\n",
              "      <td>tomato juice</td>\n",
              "      <td>low fat yogurt</td>\n",
              "      <td>green tea</td>\n",
              "      <td>honey</td>\n",
              "      <td>salad</td>\n",
              "      <td>mineral water</td>\n",
              "      <td>salmon</td>\n",
              "      <td>antioxydant juice</td>\n",
              "      <td>frozen smoothie</td>\n",
              "      <td>spinach</td>\n",
              "      <td>olive oil</td>\n",
              "    </tr>\n",
              "    <tr>\n",
              "      <th>1</th>\n",
              "      <td>burgers</td>\n",
              "      <td>meatballs</td>\n",
              "      <td>eggs</td>\n",
              "      <td>-</td>\n",
              "      <td>-</td>\n",
              "      <td>-</td>\n",
              "      <td>-</td>\n",
              "      <td>-</td>\n",
              "      <td>-</td>\n",
              "      <td>-</td>\n",
              "      <td>-</td>\n",
              "      <td>-</td>\n",
              "      <td>-</td>\n",
              "      <td>-</td>\n",
              "      <td>-</td>\n",
              "      <td>-</td>\n",
              "      <td>-</td>\n",
              "      <td>-</td>\n",
              "      <td>-</td>\n",
              "      <td>-</td>\n",
              "    </tr>\n",
              "    <tr>\n",
              "      <th>2</th>\n",
              "      <td>chutney</td>\n",
              "      <td>-</td>\n",
              "      <td>-</td>\n",
              "      <td>-</td>\n",
              "      <td>-</td>\n",
              "      <td>-</td>\n",
              "      <td>-</td>\n",
              "      <td>-</td>\n",
              "      <td>-</td>\n",
              "      <td>-</td>\n",
              "      <td>-</td>\n",
              "      <td>-</td>\n",
              "      <td>-</td>\n",
              "      <td>-</td>\n",
              "      <td>-</td>\n",
              "      <td>-</td>\n",
              "      <td>-</td>\n",
              "      <td>-</td>\n",
              "      <td>-</td>\n",
              "      <td>-</td>\n",
              "    </tr>\n",
              "    <tr>\n",
              "      <th>3</th>\n",
              "      <td>turkey</td>\n",
              "      <td>avocado</td>\n",
              "      <td>-</td>\n",
              "      <td>-</td>\n",
              "      <td>-</td>\n",
              "      <td>-</td>\n",
              "      <td>-</td>\n",
              "      <td>-</td>\n",
              "      <td>-</td>\n",
              "      <td>-</td>\n",
              "      <td>-</td>\n",
              "      <td>-</td>\n",
              "      <td>-</td>\n",
              "      <td>-</td>\n",
              "      <td>-</td>\n",
              "      <td>-</td>\n",
              "      <td>-</td>\n",
              "      <td>-</td>\n",
              "      <td>-</td>\n",
              "      <td>-</td>\n",
              "    </tr>\n",
              "    <tr>\n",
              "      <th>4</th>\n",
              "      <td>mineral water</td>\n",
              "      <td>milk</td>\n",
              "      <td>energy bar</td>\n",
              "      <td>whole wheat rice</td>\n",
              "      <td>green tea</td>\n",
              "      <td>-</td>\n",
              "      <td>-</td>\n",
              "      <td>-</td>\n",
              "      <td>-</td>\n",
              "      <td>-</td>\n",
              "      <td>-</td>\n",
              "      <td>-</td>\n",
              "      <td>-</td>\n",
              "      <td>-</td>\n",
              "      <td>-</td>\n",
              "      <td>-</td>\n",
              "      <td>-</td>\n",
              "      <td>-</td>\n",
              "      <td>-</td>\n",
              "      <td>-</td>\n",
              "    </tr>\n",
              "  </tbody>\n",
              "</table>\n",
              "</div>\n",
              "      <button class=\"colab-df-convert\" onclick=\"convertToInteractive('df-1547fdaa-5c59-4d5d-ba09-f47b5464fe2a')\"\n",
              "              title=\"Convert this dataframe to an interactive table.\"\n",
              "              style=\"display:none;\">\n",
              "        \n",
              "  <svg xmlns=\"http://www.w3.org/2000/svg\" height=\"24px\"viewBox=\"0 0 24 24\"\n",
              "       width=\"24px\">\n",
              "    <path d=\"M0 0h24v24H0V0z\" fill=\"none\"/>\n",
              "    <path d=\"M18.56 5.44l.94 2.06.94-2.06 2.06-.94-2.06-.94-.94-2.06-.94 2.06-2.06.94zm-11 1L8.5 8.5l.94-2.06 2.06-.94-2.06-.94L8.5 2.5l-.94 2.06-2.06.94zm10 10l.94 2.06.94-2.06 2.06-.94-2.06-.94-.94-2.06-.94 2.06-2.06.94z\"/><path d=\"M17.41 7.96l-1.37-1.37c-.4-.4-.92-.59-1.43-.59-.52 0-1.04.2-1.43.59L10.3 9.45l-7.72 7.72c-.78.78-.78 2.05 0 2.83L4 21.41c.39.39.9.59 1.41.59.51 0 1.02-.2 1.41-.59l7.78-7.78 2.81-2.81c.8-.78.8-2.07 0-2.86zM5.41 20L4 18.59l7.72-7.72 1.47 1.35L5.41 20z\"/>\n",
              "  </svg>\n",
              "      </button>\n",
              "      \n",
              "  <style>\n",
              "    .colab-df-container {\n",
              "      display:flex;\n",
              "      flex-wrap:wrap;\n",
              "      gap: 12px;\n",
              "    }\n",
              "\n",
              "    .colab-df-convert {\n",
              "      background-color: #E8F0FE;\n",
              "      border: none;\n",
              "      border-radius: 50%;\n",
              "      cursor: pointer;\n",
              "      display: none;\n",
              "      fill: #1967D2;\n",
              "      height: 32px;\n",
              "      padding: 0 0 0 0;\n",
              "      width: 32px;\n",
              "    }\n",
              "\n",
              "    .colab-df-convert:hover {\n",
              "      background-color: #E2EBFA;\n",
              "      box-shadow: 0px 1px 2px rgba(60, 64, 67, 0.3), 0px 1px 3px 1px rgba(60, 64, 67, 0.15);\n",
              "      fill: #174EA6;\n",
              "    }\n",
              "\n",
              "    [theme=dark] .colab-df-convert {\n",
              "      background-color: #3B4455;\n",
              "      fill: #D2E3FC;\n",
              "    }\n",
              "\n",
              "    [theme=dark] .colab-df-convert:hover {\n",
              "      background-color: #434B5C;\n",
              "      box-shadow: 0px 1px 3px 1px rgba(0, 0, 0, 0.15);\n",
              "      filter: drop-shadow(0px 1px 2px rgba(0, 0, 0, 0.3));\n",
              "      fill: #FFFFFF;\n",
              "    }\n",
              "  </style>\n",
              "\n",
              "      <script>\n",
              "        const buttonEl =\n",
              "          document.querySelector('#df-1547fdaa-5c59-4d5d-ba09-f47b5464fe2a button.colab-df-convert');\n",
              "        buttonEl.style.display =\n",
              "          google.colab.kernel.accessAllowed ? 'block' : 'none';\n",
              "\n",
              "        async function convertToInteractive(key) {\n",
              "          const element = document.querySelector('#df-1547fdaa-5c59-4d5d-ba09-f47b5464fe2a');\n",
              "          const dataTable =\n",
              "            await google.colab.kernel.invokeFunction('convertToInteractive',\n",
              "                                                     [key], {});\n",
              "          if (!dataTable) return;\n",
              "\n",
              "          const docLinkHtml = 'Like what you see? Visit the ' +\n",
              "            '<a target=\"_blank\" href=https://colab.research.google.com/notebooks/data_table.ipynb>data table notebook</a>'\n",
              "            + ' to learn more about interactive tables.';\n",
              "          element.innerHTML = '';\n",
              "          dataTable['output_type'] = 'display_data';\n",
              "          await google.colab.output.renderOutput(dataTable, element);\n",
              "          const docLink = document.createElement('div');\n",
              "          docLink.innerHTML = docLinkHtml;\n",
              "          element.appendChild(docLink);\n",
              "        }\n",
              "      </script>\n",
              "    </div>\n",
              "  </div>\n",
              "  "
            ]
          },
          "metadata": {},
          "execution_count": 53
        }
      ]
    },
    {
      "cell_type": "code",
      "source": [
        "arr_basket = {}\n",
        "for i in range(20):\n",
        "  print('=============================')\n",
        "  print(df_basket_pandas.columns[i])\n",
        "  print(df_basket_pandas[df_basket_pandas.columns[i]].value_counts())\n",
        "  arr_basket['col_{}'.format(i)] = df_basket_pandas[df_basket_pandas.columns[i]].value_counts()"
      ],
      "metadata": {
        "colab": {
          "base_uri": "https://localhost:8080/"
        },
        "id": "3Z0uFYFvzU6x",
        "outputId": "81efeaef-6330-4b8f-bb1b-649e5eee2531"
      },
      "execution_count": null,
      "outputs": [
        {
          "output_type": "stream",
          "name": "stdout",
          "text": [
            "=============================\n",
            "col1\n",
            "mineral water        577\n",
            "burgers              576\n",
            "turkey               458\n",
            "chocolate            391\n",
            "frozen vegetables    373\n",
            "                    ... \n",
            "cauliflower            1\n",
            "ketchup                1\n",
            "cream                  1\n",
            "body spray             1\n",
            "oatmeal                1\n",
            "Name: col1, Length: 115, dtype: int64\n",
            "=============================\n",
            "col2\n",
            "-                1754\n",
            "mineral water     484\n",
            "spaghetti         411\n",
            "eggs              302\n",
            "ground beef       291\n",
            "                 ... \n",
            "asparagus           2\n",
            "chili               1\n",
            "water spray         1\n",
            "cream               1\n",
            "cauliflower         1\n",
            "Name: col2, Length: 118, dtype: int64\n",
            "=============================\n",
            "col3\n",
            "-                   3112\n",
            "mineral water        375\n",
            "spaghetti            279\n",
            "eggs                 225\n",
            "milk                 213\n",
            "                    ... \n",
            "pickles                1\n",
            "cream                  1\n",
            "water spray            1\n",
            "hand protein bar       1\n",
            "cauliflower            1\n",
            "Name: col3, Length: 116, dtype: int64\n",
            "=============================\n",
            "col4\n",
            "-                4156\n",
            "mineral water     201\n",
            "eggs              181\n",
            "french fries      174\n",
            "spaghetti         167\n",
            "                 ... \n",
            "ham                 1\n",
            "napkins             1\n",
            "water spray         1\n",
            "cream               1\n",
            "salad               1\n",
            "Name: col4, Length: 115, dtype: int64\n",
            "=============================\n",
            "col5\n",
            "-                    4972\n",
            "green tea             153\n",
            "eggs                  134\n",
            "french fries          130\n",
            "chocolate             115\n",
            "                     ... \n",
            "napkins                 2\n",
            "frozen vegetables       2\n",
            "salad                   2\n",
            "tomatoes                1\n",
            "cream                   1\n",
            "Name: col5, Length: 111, dtype: int64\n",
            "=============================\n",
            "col6\n",
            "-                5637\n",
            "french fries      107\n",
            "eggs              102\n",
            "green tea         100\n",
            "chocolate          71\n",
            "                 ... \n",
            "mashed potato       1\n",
            "spinach             1\n",
            "bramble             1\n",
            "yams                1\n",
            "candy bars          1\n",
            "Name: col6, Length: 107, dtype: int64\n",
            "=============================\n",
            "col7\n",
            "-                  6132\n",
            "green tea            96\n",
            "french fries         81\n",
            "pancakes             69\n",
            "eggs                 59\n",
            "                   ... \n",
            "mayonnaise            2\n",
            "parmesan cheese       1\n",
            "mint green tea        1\n",
            "chocolate bread       1\n",
            "pepper                1\n",
            "Name: col7, Length: 103, dtype: int64\n",
            "=============================\n",
            "col8\n",
            "-                 6520\n",
            "green tea           67\n",
            "pancakes            44\n",
            "low fat yogurt      43\n",
            "french fries        40\n",
            "                  ... \n",
            "soda                 1\n",
            "flax seed            1\n",
            "babies food          1\n",
            " asparagus           1\n",
            "soup                 1\n",
            "Name: col8, Length: 99, dtype: int64\n",
            "=============================\n",
            "col9\n",
            "-                    6847\n",
            "green tea              57\n",
            "low fat yogurt         38\n",
            "frozen smoothie        35\n",
            "french fries           34\n",
            "                     ... \n",
            "cider                   1\n",
            "antioxydant juice       1\n",
            "salad                   1\n",
            "avocado                 1\n",
            "candy bars              1\n",
            "Name: col9, Length: 89, dtype: int64\n",
            "=============================\n",
            "col10\n",
            "-                 7106\n",
            "green tea           31\n",
            "french fries        19\n",
            "tomato juice        17\n",
            "low fat yogurt      17\n",
            "                  ... \n",
            "asparagus            1\n",
            "fromage blanc        1\n",
            "mashed potato        1\n",
            "candy bars           1\n",
            "napkins              1\n",
            "Name: col10, Length: 81, dtype: int64\n",
            "=============================\n",
            "col11\n",
            "-                       7245\n",
            "low fat yogurt            22\n",
            "green tea                 20\n",
            "fresh bread               14\n",
            "french fries              12\n",
            "                        ... \n",
            "rice                       1\n",
            "spinach                    1\n",
            "mushroom cream sauce       1\n",
            "sandwich                   1\n",
            "asparagus                  1\n",
            "Name: col11, Length: 67, dtype: int64\n",
            "=============================\n",
            "col12\n",
            "-                       7347\n",
            "green tea                 15\n",
            "frozen smoothie           10\n",
            "french fries              10\n",
            "low fat yogurt             9\n",
            "pancakes                   7\n",
            "fresh bread                7\n",
            "tomato juice               7\n",
            "mint                       4\n",
            "honey                      4\n",
            "hot dogs                   3\n",
            "light mayo                 3\n",
            "energy drink               3\n",
            "cottage cheese             3\n",
            "mushroom cream sauce       3\n",
            "mayonnaise                 3\n",
            "melons                     3\n",
            "chocolate                  3\n",
            "magazines                  3\n",
            "cookies                    3\n",
            "escalope                   3\n",
            "cereals                    3\n",
            "protein bar                3\n",
            "white wine                 3\n",
            "cake                       3\n",
            "brownies                   2\n",
            "shampoo                    2\n",
            "extra dark chocolate       2\n",
            "ketchup                    2\n",
            "whole weat flour           2\n",
            "champagne                  2\n",
            "candy bars                 2\n",
            "eggs                       2\n",
            "whole wheat rice           2\n",
            "salt                       2\n",
            "cooking oil                1\n",
            "body spray                 1\n",
            "toothpaste                 1\n",
            "strong cheese              1\n",
            "zucchini                   1\n",
            "strawberries               1\n",
            "green grapes               1\n",
            "chicken                    1\n",
            "corn                       1\n",
            "ham                        1\n",
            "rice                       1\n",
            "blueberries                1\n",
            "eggplant                   1\n",
            "vegetables mix             1\n",
            "mashed potato              1\n",
            "gluten free bar            1\n",
            "Name: col12, dtype: int64\n",
            "=============================\n",
            "col13\n",
            "-                   7414\n",
            "green tea              8\n",
            "fresh bread            6\n",
            "low fat yogurt         6\n",
            "french fries           4\n",
            "escalope               4\n",
            "tomato juice           4\n",
            "brownies               3\n",
            "hot dogs               3\n",
            "melons                 3\n",
            "salt                   3\n",
            "frozen smoothie        2\n",
            "yogurt cake            2\n",
            "light mayo             2\n",
            "nonfat milk            2\n",
            "sparkling water        2\n",
            "energy drink           2\n",
            "gums                   2\n",
            "protein bar            2\n",
            "mint                   2\n",
            "pancakes               2\n",
            "ham                    1\n",
            "magazines              1\n",
            "barbecue sauce         1\n",
            "asparagus              1\n",
            "cauliflower            1\n",
            "bug spray              1\n",
            "toothpaste             1\n",
            "whole wheat rice       1\n",
            "cereals                1\n",
            "mashed potato          1\n",
            "cottage cheese         1\n",
            "honey                  1\n",
            "eggplant               1\n",
            "white wine             1\n",
            "burger sauce           1\n",
            "cooking oil            1\n",
            "corn                   1\n",
            "tea                    1\n",
            "salad                  1\n",
            "oil                    1\n",
            "cookies                1\n",
            "champagne              1\n",
            "zucchini               1\n",
            "Name: col13, dtype: int64\n",
            "=============================\n",
            "col14\n",
            "-                       7454\n",
            "green tea                  4\n",
            "french fries               3\n",
            "frozen smoothie            3\n",
            "pancakes                   2\n",
            "eggplant                   2\n",
            "low fat yogurt             2\n",
            "gluten free bar            2\n",
            "escalope                   2\n",
            "cottage cheese             2\n",
            "salad                      2\n",
            "toothpaste                 2\n",
            "mint                       2\n",
            "hot dogs                   2\n",
            "oil                        2\n",
            "fresh bread                2\n",
            "hand protein bar           1\n",
            "mineral water              1\n",
            "light mayo                 1\n",
            "protein bar                1\n",
            "mushroom cream sauce       1\n",
            "muffins                    1\n",
            "strawberries               1\n",
            "salt                       1\n",
            "babies food                1\n",
            "eggs                       1\n",
            "yogurt cake                1\n",
            "cookies                    1\n",
            "tomato juice               1\n",
            "Name: col14, dtype: int64\n",
            "=============================\n",
            "col15\n",
            "-                       7476\n",
            "magazines                  3\n",
            "fresh bread                2\n",
            "green tea                  2\n",
            "low fat yogurt             2\n",
            "pancakes                   2\n",
            "mineral water              1\n",
            "mint                       1\n",
            "yogurt cake                1\n",
            "hand protein bar           1\n",
            "toothpaste                 1\n",
            "tomato juice               1\n",
            "hot dogs                   1\n",
            "zucchini                   1\n",
            "cookies                    1\n",
            "clothes accessories        1\n",
            "candy bars                 1\n",
            "salmon                     1\n",
            "cereals                    1\n",
            "mushroom cream sauce       1\n",
            "Name: col15, dtype: int64\n",
            "=============================\n",
            "col16\n",
            "-                    7493\n",
            "salmon                  1\n",
            "chocolate               1\n",
            "antioxydant juice       1\n",
            "frozen smoothie         1\n",
            "cake                    1\n",
            "sparkling water         1\n",
            "protein bar             1\n",
            "magazines               1\n",
            "Name: col16, dtype: int64\n",
            "=============================\n",
            "col17\n",
            "-                    7497\n",
            "frozen smoothie         2\n",
            "antioxydant juice       1\n",
            "french fries            1\n",
            "Name: col17, dtype: int64\n",
            "=============================\n",
            "col18\n",
            "-                  7497\n",
            "protein bar           2\n",
            "frozen smoothie       1\n",
            "spinach               1\n",
            "Name: col18, dtype: int64\n",
            "=============================\n",
            "col19\n",
            "-             7498\n",
            "spinach          1\n",
            "mayonnaise       1\n",
            "cereals          1\n",
            "Name: col19, dtype: int64\n",
            "=============================\n",
            "col20\n",
            "-            7500\n",
            "olive oil       1\n",
            "Name: col20, dtype: int64\n"
          ]
        }
      ]
    },
    {
      "cell_type": "code",
      "source": [
        "list_basket = pd.DataFrame(arr_basket)\n",
        "list_basket.head(10)"
      ],
      "metadata": {
        "colab": {
          "base_uri": "https://localhost:8080/",
          "height": 363
        },
        "id": "6plUt_e-9EG0",
        "outputId": "ee335fd5-65c5-47e0-deaf-fe55986b32e6"
      },
      "execution_count": null,
      "outputs": [
        {
          "output_type": "execute_result",
          "data": {
            "text/plain": [
              "                   col_0   col_1   col_2   col_3   col_4   col_5   col_6  \\\n",
              " asparagus           NaN     NaN     NaN     NaN     NaN     NaN     NaN   \n",
              "-                    NaN  1754.0  3112.0  4156.0  4972.0  5637.0  6132.0   \n",
              "almonds             11.0    29.0    35.0    29.0    12.0    13.0    10.0   \n",
              "antioxydant juice   18.0    10.0    12.0     6.0     3.0     6.0     2.0   \n",
              "asparagus            3.0     2.0     5.0     4.0     4.0     3.0     2.0   \n",
              "avocado             57.0    64.0    46.0    43.0    18.0     9.0     7.0   \n",
              "babies food          5.0     5.0     4.0     3.0     2.0     6.0     2.0   \n",
              "bacon                6.0     8.0    12.0    11.0     8.0     6.0     5.0   \n",
              "barbecue sauce       3.0     9.0    18.0    10.0    11.0    10.0     8.0   \n",
              "black tea            9.0    31.0    15.0     9.0    16.0    14.0     7.0   \n",
              "\n",
              "                    col_7   col_8   col_9  col_10  col_11  col_12  col_13  \\\n",
              " asparagus            1.0     NaN     NaN     NaN     NaN     NaN     NaN   \n",
              "-                  6520.0  6847.0  7106.0  7245.0  7347.0  7414.0  7454.0   \n",
              "almonds               7.0     7.0     NaN     NaN     NaN     NaN     NaN   \n",
              "antioxydant juice     7.0     1.0     NaN     NaN     NaN     NaN     NaN   \n",
              "asparagus             7.0     2.0     1.0     1.0     NaN     1.0     NaN   \n",
              "avocado               5.0     1.0     NaN     NaN     NaN     NaN     NaN   \n",
              "babies food           1.0     2.0     1.0     2.0     NaN     NaN     1.0   \n",
              "bacon                 4.0     5.0     NaN     NaN     NaN     NaN     NaN   \n",
              "barbecue sauce        4.0     4.0     2.0     1.0     NaN     1.0     NaN   \n",
              "black tea             2.0     1.0     2.0     1.0     NaN     NaN     NaN   \n",
              "\n",
              "                   col_14  col_15  col_16  col_17  col_18  col_19  \n",
              " asparagus            NaN     NaN     NaN     NaN     NaN     NaN  \n",
              "-                  7476.0  7493.0  7497.0  7497.0  7498.0  7500.0  \n",
              "almonds               NaN     NaN     NaN     NaN     NaN     NaN  \n",
              "antioxydant juice     NaN     1.0     1.0     NaN     NaN     NaN  \n",
              "asparagus             NaN     NaN     NaN     NaN     NaN     NaN  \n",
              "avocado               NaN     NaN     NaN     NaN     NaN     NaN  \n",
              "babies food           NaN     NaN     NaN     NaN     NaN     NaN  \n",
              "bacon                 NaN     NaN     NaN     NaN     NaN     NaN  \n",
              "barbecue sauce        NaN     NaN     NaN     NaN     NaN     NaN  \n",
              "black tea             NaN     NaN     NaN     NaN     NaN     NaN  "
            ],
            "text/html": [
              "\n",
              "  <div id=\"df-2d8cb98f-cb55-44e1-8948-42d9832f2835\">\n",
              "    <div class=\"colab-df-container\">\n",
              "      <div>\n",
              "<style scoped>\n",
              "    .dataframe tbody tr th:only-of-type {\n",
              "        vertical-align: middle;\n",
              "    }\n",
              "\n",
              "    .dataframe tbody tr th {\n",
              "        vertical-align: top;\n",
              "    }\n",
              "\n",
              "    .dataframe thead th {\n",
              "        text-align: right;\n",
              "    }\n",
              "</style>\n",
              "<table border=\"1\" class=\"dataframe\">\n",
              "  <thead>\n",
              "    <tr style=\"text-align: right;\">\n",
              "      <th></th>\n",
              "      <th>col_0</th>\n",
              "      <th>col_1</th>\n",
              "      <th>col_2</th>\n",
              "      <th>col_3</th>\n",
              "      <th>col_4</th>\n",
              "      <th>col_5</th>\n",
              "      <th>col_6</th>\n",
              "      <th>col_7</th>\n",
              "      <th>col_8</th>\n",
              "      <th>col_9</th>\n",
              "      <th>col_10</th>\n",
              "      <th>col_11</th>\n",
              "      <th>col_12</th>\n",
              "      <th>col_13</th>\n",
              "      <th>col_14</th>\n",
              "      <th>col_15</th>\n",
              "      <th>col_16</th>\n",
              "      <th>col_17</th>\n",
              "      <th>col_18</th>\n",
              "      <th>col_19</th>\n",
              "    </tr>\n",
              "  </thead>\n",
              "  <tbody>\n",
              "    <tr>\n",
              "      <th>asparagus</th>\n",
              "      <td>NaN</td>\n",
              "      <td>NaN</td>\n",
              "      <td>NaN</td>\n",
              "      <td>NaN</td>\n",
              "      <td>NaN</td>\n",
              "      <td>NaN</td>\n",
              "      <td>NaN</td>\n",
              "      <td>1.0</td>\n",
              "      <td>NaN</td>\n",
              "      <td>NaN</td>\n",
              "      <td>NaN</td>\n",
              "      <td>NaN</td>\n",
              "      <td>NaN</td>\n",
              "      <td>NaN</td>\n",
              "      <td>NaN</td>\n",
              "      <td>NaN</td>\n",
              "      <td>NaN</td>\n",
              "      <td>NaN</td>\n",
              "      <td>NaN</td>\n",
              "      <td>NaN</td>\n",
              "    </tr>\n",
              "    <tr>\n",
              "      <th>-</th>\n",
              "      <td>NaN</td>\n",
              "      <td>1754.0</td>\n",
              "      <td>3112.0</td>\n",
              "      <td>4156.0</td>\n",
              "      <td>4972.0</td>\n",
              "      <td>5637.0</td>\n",
              "      <td>6132.0</td>\n",
              "      <td>6520.0</td>\n",
              "      <td>6847.0</td>\n",
              "      <td>7106.0</td>\n",
              "      <td>7245.0</td>\n",
              "      <td>7347.0</td>\n",
              "      <td>7414.0</td>\n",
              "      <td>7454.0</td>\n",
              "      <td>7476.0</td>\n",
              "      <td>7493.0</td>\n",
              "      <td>7497.0</td>\n",
              "      <td>7497.0</td>\n",
              "      <td>7498.0</td>\n",
              "      <td>7500.0</td>\n",
              "    </tr>\n",
              "    <tr>\n",
              "      <th>almonds</th>\n",
              "      <td>11.0</td>\n",
              "      <td>29.0</td>\n",
              "      <td>35.0</td>\n",
              "      <td>29.0</td>\n",
              "      <td>12.0</td>\n",
              "      <td>13.0</td>\n",
              "      <td>10.0</td>\n",
              "      <td>7.0</td>\n",
              "      <td>7.0</td>\n",
              "      <td>NaN</td>\n",
              "      <td>NaN</td>\n",
              "      <td>NaN</td>\n",
              "      <td>NaN</td>\n",
              "      <td>NaN</td>\n",
              "      <td>NaN</td>\n",
              "      <td>NaN</td>\n",
              "      <td>NaN</td>\n",
              "      <td>NaN</td>\n",
              "      <td>NaN</td>\n",
              "      <td>NaN</td>\n",
              "    </tr>\n",
              "    <tr>\n",
              "      <th>antioxydant juice</th>\n",
              "      <td>18.0</td>\n",
              "      <td>10.0</td>\n",
              "      <td>12.0</td>\n",
              "      <td>6.0</td>\n",
              "      <td>3.0</td>\n",
              "      <td>6.0</td>\n",
              "      <td>2.0</td>\n",
              "      <td>7.0</td>\n",
              "      <td>1.0</td>\n",
              "      <td>NaN</td>\n",
              "      <td>NaN</td>\n",
              "      <td>NaN</td>\n",
              "      <td>NaN</td>\n",
              "      <td>NaN</td>\n",
              "      <td>NaN</td>\n",
              "      <td>1.0</td>\n",
              "      <td>1.0</td>\n",
              "      <td>NaN</td>\n",
              "      <td>NaN</td>\n",
              "      <td>NaN</td>\n",
              "    </tr>\n",
              "    <tr>\n",
              "      <th>asparagus</th>\n",
              "      <td>3.0</td>\n",
              "      <td>2.0</td>\n",
              "      <td>5.0</td>\n",
              "      <td>4.0</td>\n",
              "      <td>4.0</td>\n",
              "      <td>3.0</td>\n",
              "      <td>2.0</td>\n",
              "      <td>7.0</td>\n",
              "      <td>2.0</td>\n",
              "      <td>1.0</td>\n",
              "      <td>1.0</td>\n",
              "      <td>NaN</td>\n",
              "      <td>1.0</td>\n",
              "      <td>NaN</td>\n",
              "      <td>NaN</td>\n",
              "      <td>NaN</td>\n",
              "      <td>NaN</td>\n",
              "      <td>NaN</td>\n",
              "      <td>NaN</td>\n",
              "      <td>NaN</td>\n",
              "    </tr>\n",
              "    <tr>\n",
              "      <th>avocado</th>\n",
              "      <td>57.0</td>\n",
              "      <td>64.0</td>\n",
              "      <td>46.0</td>\n",
              "      <td>43.0</td>\n",
              "      <td>18.0</td>\n",
              "      <td>9.0</td>\n",
              "      <td>7.0</td>\n",
              "      <td>5.0</td>\n",
              "      <td>1.0</td>\n",
              "      <td>NaN</td>\n",
              "      <td>NaN</td>\n",
              "      <td>NaN</td>\n",
              "      <td>NaN</td>\n",
              "      <td>NaN</td>\n",
              "      <td>NaN</td>\n",
              "      <td>NaN</td>\n",
              "      <td>NaN</td>\n",
              "      <td>NaN</td>\n",
              "      <td>NaN</td>\n",
              "      <td>NaN</td>\n",
              "    </tr>\n",
              "    <tr>\n",
              "      <th>babies food</th>\n",
              "      <td>5.0</td>\n",
              "      <td>5.0</td>\n",
              "      <td>4.0</td>\n",
              "      <td>3.0</td>\n",
              "      <td>2.0</td>\n",
              "      <td>6.0</td>\n",
              "      <td>2.0</td>\n",
              "      <td>1.0</td>\n",
              "      <td>2.0</td>\n",
              "      <td>1.0</td>\n",
              "      <td>2.0</td>\n",
              "      <td>NaN</td>\n",
              "      <td>NaN</td>\n",
              "      <td>1.0</td>\n",
              "      <td>NaN</td>\n",
              "      <td>NaN</td>\n",
              "      <td>NaN</td>\n",
              "      <td>NaN</td>\n",
              "      <td>NaN</td>\n",
              "      <td>NaN</td>\n",
              "    </tr>\n",
              "    <tr>\n",
              "      <th>bacon</th>\n",
              "      <td>6.0</td>\n",
              "      <td>8.0</td>\n",
              "      <td>12.0</td>\n",
              "      <td>11.0</td>\n",
              "      <td>8.0</td>\n",
              "      <td>6.0</td>\n",
              "      <td>5.0</td>\n",
              "      <td>4.0</td>\n",
              "      <td>5.0</td>\n",
              "      <td>NaN</td>\n",
              "      <td>NaN</td>\n",
              "      <td>NaN</td>\n",
              "      <td>NaN</td>\n",
              "      <td>NaN</td>\n",
              "      <td>NaN</td>\n",
              "      <td>NaN</td>\n",
              "      <td>NaN</td>\n",
              "      <td>NaN</td>\n",
              "      <td>NaN</td>\n",
              "      <td>NaN</td>\n",
              "    </tr>\n",
              "    <tr>\n",
              "      <th>barbecue sauce</th>\n",
              "      <td>3.0</td>\n",
              "      <td>9.0</td>\n",
              "      <td>18.0</td>\n",
              "      <td>10.0</td>\n",
              "      <td>11.0</td>\n",
              "      <td>10.0</td>\n",
              "      <td>8.0</td>\n",
              "      <td>4.0</td>\n",
              "      <td>4.0</td>\n",
              "      <td>2.0</td>\n",
              "      <td>1.0</td>\n",
              "      <td>NaN</td>\n",
              "      <td>1.0</td>\n",
              "      <td>NaN</td>\n",
              "      <td>NaN</td>\n",
              "      <td>NaN</td>\n",
              "      <td>NaN</td>\n",
              "      <td>NaN</td>\n",
              "      <td>NaN</td>\n",
              "      <td>NaN</td>\n",
              "    </tr>\n",
              "    <tr>\n",
              "      <th>black tea</th>\n",
              "      <td>9.0</td>\n",
              "      <td>31.0</td>\n",
              "      <td>15.0</td>\n",
              "      <td>9.0</td>\n",
              "      <td>16.0</td>\n",
              "      <td>14.0</td>\n",
              "      <td>7.0</td>\n",
              "      <td>2.0</td>\n",
              "      <td>1.0</td>\n",
              "      <td>2.0</td>\n",
              "      <td>1.0</td>\n",
              "      <td>NaN</td>\n",
              "      <td>NaN</td>\n",
              "      <td>NaN</td>\n",
              "      <td>NaN</td>\n",
              "      <td>NaN</td>\n",
              "      <td>NaN</td>\n",
              "      <td>NaN</td>\n",
              "      <td>NaN</td>\n",
              "      <td>NaN</td>\n",
              "    </tr>\n",
              "  </tbody>\n",
              "</table>\n",
              "</div>\n",
              "      <button class=\"colab-df-convert\" onclick=\"convertToInteractive('df-2d8cb98f-cb55-44e1-8948-42d9832f2835')\"\n",
              "              title=\"Convert this dataframe to an interactive table.\"\n",
              "              style=\"display:none;\">\n",
              "        \n",
              "  <svg xmlns=\"http://www.w3.org/2000/svg\" height=\"24px\"viewBox=\"0 0 24 24\"\n",
              "       width=\"24px\">\n",
              "    <path d=\"M0 0h24v24H0V0z\" fill=\"none\"/>\n",
              "    <path d=\"M18.56 5.44l.94 2.06.94-2.06 2.06-.94-2.06-.94-.94-2.06-.94 2.06-2.06.94zm-11 1L8.5 8.5l.94-2.06 2.06-.94-2.06-.94L8.5 2.5l-.94 2.06-2.06.94zm10 10l.94 2.06.94-2.06 2.06-.94-2.06-.94-.94-2.06-.94 2.06-2.06.94z\"/><path d=\"M17.41 7.96l-1.37-1.37c-.4-.4-.92-.59-1.43-.59-.52 0-1.04.2-1.43.59L10.3 9.45l-7.72 7.72c-.78.78-.78 2.05 0 2.83L4 21.41c.39.39.9.59 1.41.59.51 0 1.02-.2 1.41-.59l7.78-7.78 2.81-2.81c.8-.78.8-2.07 0-2.86zM5.41 20L4 18.59l7.72-7.72 1.47 1.35L5.41 20z\"/>\n",
              "  </svg>\n",
              "      </button>\n",
              "      \n",
              "  <style>\n",
              "    .colab-df-container {\n",
              "      display:flex;\n",
              "      flex-wrap:wrap;\n",
              "      gap: 12px;\n",
              "    }\n",
              "\n",
              "    .colab-df-convert {\n",
              "      background-color: #E8F0FE;\n",
              "      border: none;\n",
              "      border-radius: 50%;\n",
              "      cursor: pointer;\n",
              "      display: none;\n",
              "      fill: #1967D2;\n",
              "      height: 32px;\n",
              "      padding: 0 0 0 0;\n",
              "      width: 32px;\n",
              "    }\n",
              "\n",
              "    .colab-df-convert:hover {\n",
              "      background-color: #E2EBFA;\n",
              "      box-shadow: 0px 1px 2px rgba(60, 64, 67, 0.3), 0px 1px 3px 1px rgba(60, 64, 67, 0.15);\n",
              "      fill: #174EA6;\n",
              "    }\n",
              "\n",
              "    [theme=dark] .colab-df-convert {\n",
              "      background-color: #3B4455;\n",
              "      fill: #D2E3FC;\n",
              "    }\n",
              "\n",
              "    [theme=dark] .colab-df-convert:hover {\n",
              "      background-color: #434B5C;\n",
              "      box-shadow: 0px 1px 3px 1px rgba(0, 0, 0, 0.15);\n",
              "      filter: drop-shadow(0px 1px 2px rgba(0, 0, 0, 0.3));\n",
              "      fill: #FFFFFF;\n",
              "    }\n",
              "  </style>\n",
              "\n",
              "      <script>\n",
              "        const buttonEl =\n",
              "          document.querySelector('#df-2d8cb98f-cb55-44e1-8948-42d9832f2835 button.colab-df-convert');\n",
              "        buttonEl.style.display =\n",
              "          google.colab.kernel.accessAllowed ? 'block' : 'none';\n",
              "\n",
              "        async function convertToInteractive(key) {\n",
              "          const element = document.querySelector('#df-2d8cb98f-cb55-44e1-8948-42d9832f2835');\n",
              "          const dataTable =\n",
              "            await google.colab.kernel.invokeFunction('convertToInteractive',\n",
              "                                                     [key], {});\n",
              "          if (!dataTable) return;\n",
              "\n",
              "          const docLinkHtml = 'Like what you see? Visit the ' +\n",
              "            '<a target=\"_blank\" href=https://colab.research.google.com/notebooks/data_table.ipynb>data table notebook</a>'\n",
              "            + ' to learn more about interactive tables.';\n",
              "          element.innerHTML = '';\n",
              "          dataTable['output_type'] = 'display_data';\n",
              "          await google.colab.output.renderOutput(dataTable, element);\n",
              "          const docLink = document.createElement('div');\n",
              "          docLink.innerHTML = docLinkHtml;\n",
              "          element.appendChild(docLink);\n",
              "        }\n",
              "      </script>\n",
              "    </div>\n",
              "  </div>\n",
              "  "
            ]
          },
          "metadata": {},
          "execution_count": 55
        }
      ]
    },
    {
      "cell_type": "code",
      "source": [
        "list_basket.shape"
      ],
      "metadata": {
        "colab": {
          "base_uri": "https://localhost:8080/"
        },
        "id": "-Hj_nJHZ967z",
        "outputId": "b5640014-34de-4055-d74a-908f36aeae7b"
      },
      "execution_count": null,
      "outputs": [
        {
          "output_type": "execute_result",
          "data": {
            "text/plain": [
              "(121, 20)"
            ]
          },
          "metadata": {},
          "execution_count": 56
        }
      ]
    },
    {
      "cell_type": "code",
      "source": [
        "list_basket.fillna(0, inplace = True)\n",
        "list_basket.drop('-', inplace=True)\n",
        "list_basket.head()"
      ],
      "metadata": {
        "colab": {
          "base_uri": "https://localhost:8080/",
          "height": 206
        },
        "id": "Qkj-WjXyB2lw",
        "outputId": "0631a1f0-ad58-44d2-995a-cb5808c6ff49"
      },
      "execution_count": null,
      "outputs": [
        {
          "output_type": "execute_result",
          "data": {
            "text/plain": [
              "                   col_0  col_1  col_2  col_3  col_4  col_5  col_6  col_7  \\\n",
              " asparagus           0.0    0.0    0.0    0.0    0.0    0.0    0.0    1.0   \n",
              "almonds             11.0   29.0   35.0   29.0   12.0   13.0   10.0    7.0   \n",
              "antioxydant juice   18.0   10.0   12.0    6.0    3.0    6.0    2.0    7.0   \n",
              "asparagus            3.0    2.0    5.0    4.0    4.0    3.0    2.0    7.0   \n",
              "avocado             57.0   64.0   46.0   43.0   18.0    9.0    7.0    5.0   \n",
              "\n",
              "                   col_8  col_9  col_10  col_11  col_12  col_13  col_14  \\\n",
              " asparagus           0.0    0.0     0.0     0.0     0.0     0.0     0.0   \n",
              "almonds              7.0    0.0     0.0     0.0     0.0     0.0     0.0   \n",
              "antioxydant juice    1.0    0.0     0.0     0.0     0.0     0.0     0.0   \n",
              "asparagus            2.0    1.0     1.0     0.0     1.0     0.0     0.0   \n",
              "avocado              1.0    0.0     0.0     0.0     0.0     0.0     0.0   \n",
              "\n",
              "                   col_15  col_16  col_17  col_18  col_19  \n",
              " asparagus            0.0     0.0     0.0     0.0     0.0  \n",
              "almonds               0.0     0.0     0.0     0.0     0.0  \n",
              "antioxydant juice     1.0     1.0     0.0     0.0     0.0  \n",
              "asparagus             0.0     0.0     0.0     0.0     0.0  \n",
              "avocado               0.0     0.0     0.0     0.0     0.0  "
            ],
            "text/html": [
              "\n",
              "  <div id=\"df-02bdf372-d47a-4bed-919a-08a9f0e0d635\">\n",
              "    <div class=\"colab-df-container\">\n",
              "      <div>\n",
              "<style scoped>\n",
              "    .dataframe tbody tr th:only-of-type {\n",
              "        vertical-align: middle;\n",
              "    }\n",
              "\n",
              "    .dataframe tbody tr th {\n",
              "        vertical-align: top;\n",
              "    }\n",
              "\n",
              "    .dataframe thead th {\n",
              "        text-align: right;\n",
              "    }\n",
              "</style>\n",
              "<table border=\"1\" class=\"dataframe\">\n",
              "  <thead>\n",
              "    <tr style=\"text-align: right;\">\n",
              "      <th></th>\n",
              "      <th>col_0</th>\n",
              "      <th>col_1</th>\n",
              "      <th>col_2</th>\n",
              "      <th>col_3</th>\n",
              "      <th>col_4</th>\n",
              "      <th>col_5</th>\n",
              "      <th>col_6</th>\n",
              "      <th>col_7</th>\n",
              "      <th>col_8</th>\n",
              "      <th>col_9</th>\n",
              "      <th>col_10</th>\n",
              "      <th>col_11</th>\n",
              "      <th>col_12</th>\n",
              "      <th>col_13</th>\n",
              "      <th>col_14</th>\n",
              "      <th>col_15</th>\n",
              "      <th>col_16</th>\n",
              "      <th>col_17</th>\n",
              "      <th>col_18</th>\n",
              "      <th>col_19</th>\n",
              "    </tr>\n",
              "  </thead>\n",
              "  <tbody>\n",
              "    <tr>\n",
              "      <th>asparagus</th>\n",
              "      <td>0.0</td>\n",
              "      <td>0.0</td>\n",
              "      <td>0.0</td>\n",
              "      <td>0.0</td>\n",
              "      <td>0.0</td>\n",
              "      <td>0.0</td>\n",
              "      <td>0.0</td>\n",
              "      <td>1.0</td>\n",
              "      <td>0.0</td>\n",
              "      <td>0.0</td>\n",
              "      <td>0.0</td>\n",
              "      <td>0.0</td>\n",
              "      <td>0.0</td>\n",
              "      <td>0.0</td>\n",
              "      <td>0.0</td>\n",
              "      <td>0.0</td>\n",
              "      <td>0.0</td>\n",
              "      <td>0.0</td>\n",
              "      <td>0.0</td>\n",
              "      <td>0.0</td>\n",
              "    </tr>\n",
              "    <tr>\n",
              "      <th>almonds</th>\n",
              "      <td>11.0</td>\n",
              "      <td>29.0</td>\n",
              "      <td>35.0</td>\n",
              "      <td>29.0</td>\n",
              "      <td>12.0</td>\n",
              "      <td>13.0</td>\n",
              "      <td>10.0</td>\n",
              "      <td>7.0</td>\n",
              "      <td>7.0</td>\n",
              "      <td>0.0</td>\n",
              "      <td>0.0</td>\n",
              "      <td>0.0</td>\n",
              "      <td>0.0</td>\n",
              "      <td>0.0</td>\n",
              "      <td>0.0</td>\n",
              "      <td>0.0</td>\n",
              "      <td>0.0</td>\n",
              "      <td>0.0</td>\n",
              "      <td>0.0</td>\n",
              "      <td>0.0</td>\n",
              "    </tr>\n",
              "    <tr>\n",
              "      <th>antioxydant juice</th>\n",
              "      <td>18.0</td>\n",
              "      <td>10.0</td>\n",
              "      <td>12.0</td>\n",
              "      <td>6.0</td>\n",
              "      <td>3.0</td>\n",
              "      <td>6.0</td>\n",
              "      <td>2.0</td>\n",
              "      <td>7.0</td>\n",
              "      <td>1.0</td>\n",
              "      <td>0.0</td>\n",
              "      <td>0.0</td>\n",
              "      <td>0.0</td>\n",
              "      <td>0.0</td>\n",
              "      <td>0.0</td>\n",
              "      <td>0.0</td>\n",
              "      <td>1.0</td>\n",
              "      <td>1.0</td>\n",
              "      <td>0.0</td>\n",
              "      <td>0.0</td>\n",
              "      <td>0.0</td>\n",
              "    </tr>\n",
              "    <tr>\n",
              "      <th>asparagus</th>\n",
              "      <td>3.0</td>\n",
              "      <td>2.0</td>\n",
              "      <td>5.0</td>\n",
              "      <td>4.0</td>\n",
              "      <td>4.0</td>\n",
              "      <td>3.0</td>\n",
              "      <td>2.0</td>\n",
              "      <td>7.0</td>\n",
              "      <td>2.0</td>\n",
              "      <td>1.0</td>\n",
              "      <td>1.0</td>\n",
              "      <td>0.0</td>\n",
              "      <td>1.0</td>\n",
              "      <td>0.0</td>\n",
              "      <td>0.0</td>\n",
              "      <td>0.0</td>\n",
              "      <td>0.0</td>\n",
              "      <td>0.0</td>\n",
              "      <td>0.0</td>\n",
              "      <td>0.0</td>\n",
              "    </tr>\n",
              "    <tr>\n",
              "      <th>avocado</th>\n",
              "      <td>57.0</td>\n",
              "      <td>64.0</td>\n",
              "      <td>46.0</td>\n",
              "      <td>43.0</td>\n",
              "      <td>18.0</td>\n",
              "      <td>9.0</td>\n",
              "      <td>7.0</td>\n",
              "      <td>5.0</td>\n",
              "      <td>1.0</td>\n",
              "      <td>0.0</td>\n",
              "      <td>0.0</td>\n",
              "      <td>0.0</td>\n",
              "      <td>0.0</td>\n",
              "      <td>0.0</td>\n",
              "      <td>0.0</td>\n",
              "      <td>0.0</td>\n",
              "      <td>0.0</td>\n",
              "      <td>0.0</td>\n",
              "      <td>0.0</td>\n",
              "      <td>0.0</td>\n",
              "    </tr>\n",
              "  </tbody>\n",
              "</table>\n",
              "</div>\n",
              "      <button class=\"colab-df-convert\" onclick=\"convertToInteractive('df-02bdf372-d47a-4bed-919a-08a9f0e0d635')\"\n",
              "              title=\"Convert this dataframe to an interactive table.\"\n",
              "              style=\"display:none;\">\n",
              "        \n",
              "  <svg xmlns=\"http://www.w3.org/2000/svg\" height=\"24px\"viewBox=\"0 0 24 24\"\n",
              "       width=\"24px\">\n",
              "    <path d=\"M0 0h24v24H0V0z\" fill=\"none\"/>\n",
              "    <path d=\"M18.56 5.44l.94 2.06.94-2.06 2.06-.94-2.06-.94-.94-2.06-.94 2.06-2.06.94zm-11 1L8.5 8.5l.94-2.06 2.06-.94-2.06-.94L8.5 2.5l-.94 2.06-2.06.94zm10 10l.94 2.06.94-2.06 2.06-.94-2.06-.94-.94-2.06-.94 2.06-2.06.94z\"/><path d=\"M17.41 7.96l-1.37-1.37c-.4-.4-.92-.59-1.43-.59-.52 0-1.04.2-1.43.59L10.3 9.45l-7.72 7.72c-.78.78-.78 2.05 0 2.83L4 21.41c.39.39.9.59 1.41.59.51 0 1.02-.2 1.41-.59l7.78-7.78 2.81-2.81c.8-.78.8-2.07 0-2.86zM5.41 20L4 18.59l7.72-7.72 1.47 1.35L5.41 20z\"/>\n",
              "  </svg>\n",
              "      </button>\n",
              "      \n",
              "  <style>\n",
              "    .colab-df-container {\n",
              "      display:flex;\n",
              "      flex-wrap:wrap;\n",
              "      gap: 12px;\n",
              "    }\n",
              "\n",
              "    .colab-df-convert {\n",
              "      background-color: #E8F0FE;\n",
              "      border: none;\n",
              "      border-radius: 50%;\n",
              "      cursor: pointer;\n",
              "      display: none;\n",
              "      fill: #1967D2;\n",
              "      height: 32px;\n",
              "      padding: 0 0 0 0;\n",
              "      width: 32px;\n",
              "    }\n",
              "\n",
              "    .colab-df-convert:hover {\n",
              "      background-color: #E2EBFA;\n",
              "      box-shadow: 0px 1px 2px rgba(60, 64, 67, 0.3), 0px 1px 3px 1px rgba(60, 64, 67, 0.15);\n",
              "      fill: #174EA6;\n",
              "    }\n",
              "\n",
              "    [theme=dark] .colab-df-convert {\n",
              "      background-color: #3B4455;\n",
              "      fill: #D2E3FC;\n",
              "    }\n",
              "\n",
              "    [theme=dark] .colab-df-convert:hover {\n",
              "      background-color: #434B5C;\n",
              "      box-shadow: 0px 1px 3px 1px rgba(0, 0, 0, 0.15);\n",
              "      filter: drop-shadow(0px 1px 2px rgba(0, 0, 0, 0.3));\n",
              "      fill: #FFFFFF;\n",
              "    }\n",
              "  </style>\n",
              "\n",
              "      <script>\n",
              "        const buttonEl =\n",
              "          document.querySelector('#df-02bdf372-d47a-4bed-919a-08a9f0e0d635 button.colab-df-convert');\n",
              "        buttonEl.style.display =\n",
              "          google.colab.kernel.accessAllowed ? 'block' : 'none';\n",
              "\n",
              "        async function convertToInteractive(key) {\n",
              "          const element = document.querySelector('#df-02bdf372-d47a-4bed-919a-08a9f0e0d635');\n",
              "          const dataTable =\n",
              "            await google.colab.kernel.invokeFunction('convertToInteractive',\n",
              "                                                     [key], {});\n",
              "          if (!dataTable) return;\n",
              "\n",
              "          const docLinkHtml = 'Like what you see? Visit the ' +\n",
              "            '<a target=\"_blank\" href=https://colab.research.google.com/notebooks/data_table.ipynb>data table notebook</a>'\n",
              "            + ' to learn more about interactive tables.';\n",
              "          element.innerHTML = '';\n",
              "          dataTable['output_type'] = 'display_data';\n",
              "          await google.colab.output.renderOutput(dataTable, element);\n",
              "          const docLink = document.createElement('div');\n",
              "          docLink.innerHTML = docLinkHtml;\n",
              "          element.appendChild(docLink);\n",
              "        }\n",
              "      </script>\n",
              "    </div>\n",
              "  </div>\n",
              "  "
            ]
          },
          "metadata": {},
          "execution_count": 57
        }
      ]
    },
    {
      "cell_type": "code",
      "source": [
        "# sum_basket = np.cumsum(list_basket,axis=0)\n",
        "#\n",
        "\n",
        "sum_basket = list_basket.reset_index()\n",
        "sum_basket.head()"
      ],
      "metadata": {
        "colab": {
          "base_uri": "https://localhost:8080/",
          "height": 236
        },
        "id": "k8bLTwoiCIrJ",
        "outputId": "08e5d03d-eaf6-470d-c429-af0cabe9b2bc"
      },
      "execution_count": null,
      "outputs": [
        {
          "output_type": "execute_result",
          "data": {
            "text/plain": [
              "               index  col_0  col_1  col_2  col_3  col_4  col_5  col_6  col_7  \\\n",
              "0          asparagus    0.0    0.0    0.0    0.0    0.0    0.0    0.0    1.0   \n",
              "1            almonds   11.0   29.0   35.0   29.0   12.0   13.0   10.0    7.0   \n",
              "2  antioxydant juice   18.0   10.0   12.0    6.0    3.0    6.0    2.0    7.0   \n",
              "3          asparagus    3.0    2.0    5.0    4.0    4.0    3.0    2.0    7.0   \n",
              "4            avocado   57.0   64.0   46.0   43.0   18.0    9.0    7.0    5.0   \n",
              "\n",
              "   col_8  ...  col_10  col_11  col_12  col_13  col_14  col_15  col_16  col_17  \\\n",
              "0    0.0  ...     0.0     0.0     0.0     0.0     0.0     0.0     0.0     0.0   \n",
              "1    7.0  ...     0.0     0.0     0.0     0.0     0.0     0.0     0.0     0.0   \n",
              "2    1.0  ...     0.0     0.0     0.0     0.0     0.0     1.0     1.0     0.0   \n",
              "3    2.0  ...     1.0     0.0     1.0     0.0     0.0     0.0     0.0     0.0   \n",
              "4    1.0  ...     0.0     0.0     0.0     0.0     0.0     0.0     0.0     0.0   \n",
              "\n",
              "   col_18  col_19  \n",
              "0     0.0     0.0  \n",
              "1     0.0     0.0  \n",
              "2     0.0     0.0  \n",
              "3     0.0     0.0  \n",
              "4     0.0     0.0  \n",
              "\n",
              "[5 rows x 21 columns]"
            ],
            "text/html": [
              "\n",
              "  <div id=\"df-e0ef7ec2-76e6-4ddd-b5bd-458be8d22acb\">\n",
              "    <div class=\"colab-df-container\">\n",
              "      <div>\n",
              "<style scoped>\n",
              "    .dataframe tbody tr th:only-of-type {\n",
              "        vertical-align: middle;\n",
              "    }\n",
              "\n",
              "    .dataframe tbody tr th {\n",
              "        vertical-align: top;\n",
              "    }\n",
              "\n",
              "    .dataframe thead th {\n",
              "        text-align: right;\n",
              "    }\n",
              "</style>\n",
              "<table border=\"1\" class=\"dataframe\">\n",
              "  <thead>\n",
              "    <tr style=\"text-align: right;\">\n",
              "      <th></th>\n",
              "      <th>index</th>\n",
              "      <th>col_0</th>\n",
              "      <th>col_1</th>\n",
              "      <th>col_2</th>\n",
              "      <th>col_3</th>\n",
              "      <th>col_4</th>\n",
              "      <th>col_5</th>\n",
              "      <th>col_6</th>\n",
              "      <th>col_7</th>\n",
              "      <th>col_8</th>\n",
              "      <th>...</th>\n",
              "      <th>col_10</th>\n",
              "      <th>col_11</th>\n",
              "      <th>col_12</th>\n",
              "      <th>col_13</th>\n",
              "      <th>col_14</th>\n",
              "      <th>col_15</th>\n",
              "      <th>col_16</th>\n",
              "      <th>col_17</th>\n",
              "      <th>col_18</th>\n",
              "      <th>col_19</th>\n",
              "    </tr>\n",
              "  </thead>\n",
              "  <tbody>\n",
              "    <tr>\n",
              "      <th>0</th>\n",
              "      <td>asparagus</td>\n",
              "      <td>0.0</td>\n",
              "      <td>0.0</td>\n",
              "      <td>0.0</td>\n",
              "      <td>0.0</td>\n",
              "      <td>0.0</td>\n",
              "      <td>0.0</td>\n",
              "      <td>0.0</td>\n",
              "      <td>1.0</td>\n",
              "      <td>0.0</td>\n",
              "      <td>...</td>\n",
              "      <td>0.0</td>\n",
              "      <td>0.0</td>\n",
              "      <td>0.0</td>\n",
              "      <td>0.0</td>\n",
              "      <td>0.0</td>\n",
              "      <td>0.0</td>\n",
              "      <td>0.0</td>\n",
              "      <td>0.0</td>\n",
              "      <td>0.0</td>\n",
              "      <td>0.0</td>\n",
              "    </tr>\n",
              "    <tr>\n",
              "      <th>1</th>\n",
              "      <td>almonds</td>\n",
              "      <td>11.0</td>\n",
              "      <td>29.0</td>\n",
              "      <td>35.0</td>\n",
              "      <td>29.0</td>\n",
              "      <td>12.0</td>\n",
              "      <td>13.0</td>\n",
              "      <td>10.0</td>\n",
              "      <td>7.0</td>\n",
              "      <td>7.0</td>\n",
              "      <td>...</td>\n",
              "      <td>0.0</td>\n",
              "      <td>0.0</td>\n",
              "      <td>0.0</td>\n",
              "      <td>0.0</td>\n",
              "      <td>0.0</td>\n",
              "      <td>0.0</td>\n",
              "      <td>0.0</td>\n",
              "      <td>0.0</td>\n",
              "      <td>0.0</td>\n",
              "      <td>0.0</td>\n",
              "    </tr>\n",
              "    <tr>\n",
              "      <th>2</th>\n",
              "      <td>antioxydant juice</td>\n",
              "      <td>18.0</td>\n",
              "      <td>10.0</td>\n",
              "      <td>12.0</td>\n",
              "      <td>6.0</td>\n",
              "      <td>3.0</td>\n",
              "      <td>6.0</td>\n",
              "      <td>2.0</td>\n",
              "      <td>7.0</td>\n",
              "      <td>1.0</td>\n",
              "      <td>...</td>\n",
              "      <td>0.0</td>\n",
              "      <td>0.0</td>\n",
              "      <td>0.0</td>\n",
              "      <td>0.0</td>\n",
              "      <td>0.0</td>\n",
              "      <td>1.0</td>\n",
              "      <td>1.0</td>\n",
              "      <td>0.0</td>\n",
              "      <td>0.0</td>\n",
              "      <td>0.0</td>\n",
              "    </tr>\n",
              "    <tr>\n",
              "      <th>3</th>\n",
              "      <td>asparagus</td>\n",
              "      <td>3.0</td>\n",
              "      <td>2.0</td>\n",
              "      <td>5.0</td>\n",
              "      <td>4.0</td>\n",
              "      <td>4.0</td>\n",
              "      <td>3.0</td>\n",
              "      <td>2.0</td>\n",
              "      <td>7.0</td>\n",
              "      <td>2.0</td>\n",
              "      <td>...</td>\n",
              "      <td>1.0</td>\n",
              "      <td>0.0</td>\n",
              "      <td>1.0</td>\n",
              "      <td>0.0</td>\n",
              "      <td>0.0</td>\n",
              "      <td>0.0</td>\n",
              "      <td>0.0</td>\n",
              "      <td>0.0</td>\n",
              "      <td>0.0</td>\n",
              "      <td>0.0</td>\n",
              "    </tr>\n",
              "    <tr>\n",
              "      <th>4</th>\n",
              "      <td>avocado</td>\n",
              "      <td>57.0</td>\n",
              "      <td>64.0</td>\n",
              "      <td>46.0</td>\n",
              "      <td>43.0</td>\n",
              "      <td>18.0</td>\n",
              "      <td>9.0</td>\n",
              "      <td>7.0</td>\n",
              "      <td>5.0</td>\n",
              "      <td>1.0</td>\n",
              "      <td>...</td>\n",
              "      <td>0.0</td>\n",
              "      <td>0.0</td>\n",
              "      <td>0.0</td>\n",
              "      <td>0.0</td>\n",
              "      <td>0.0</td>\n",
              "      <td>0.0</td>\n",
              "      <td>0.0</td>\n",
              "      <td>0.0</td>\n",
              "      <td>0.0</td>\n",
              "      <td>0.0</td>\n",
              "    </tr>\n",
              "  </tbody>\n",
              "</table>\n",
              "<p>5 rows × 21 columns</p>\n",
              "</div>\n",
              "      <button class=\"colab-df-convert\" onclick=\"convertToInteractive('df-e0ef7ec2-76e6-4ddd-b5bd-458be8d22acb')\"\n",
              "              title=\"Convert this dataframe to an interactive table.\"\n",
              "              style=\"display:none;\">\n",
              "        \n",
              "  <svg xmlns=\"http://www.w3.org/2000/svg\" height=\"24px\"viewBox=\"0 0 24 24\"\n",
              "       width=\"24px\">\n",
              "    <path d=\"M0 0h24v24H0V0z\" fill=\"none\"/>\n",
              "    <path d=\"M18.56 5.44l.94 2.06.94-2.06 2.06-.94-2.06-.94-.94-2.06-.94 2.06-2.06.94zm-11 1L8.5 8.5l.94-2.06 2.06-.94-2.06-.94L8.5 2.5l-.94 2.06-2.06.94zm10 10l.94 2.06.94-2.06 2.06-.94-2.06-.94-.94-2.06-.94 2.06-2.06.94z\"/><path d=\"M17.41 7.96l-1.37-1.37c-.4-.4-.92-.59-1.43-.59-.52 0-1.04.2-1.43.59L10.3 9.45l-7.72 7.72c-.78.78-.78 2.05 0 2.83L4 21.41c.39.39.9.59 1.41.59.51 0 1.02-.2 1.41-.59l7.78-7.78 2.81-2.81c.8-.78.8-2.07 0-2.86zM5.41 20L4 18.59l7.72-7.72 1.47 1.35L5.41 20z\"/>\n",
              "  </svg>\n",
              "      </button>\n",
              "      \n",
              "  <style>\n",
              "    .colab-df-container {\n",
              "      display:flex;\n",
              "      flex-wrap:wrap;\n",
              "      gap: 12px;\n",
              "    }\n",
              "\n",
              "    .colab-df-convert {\n",
              "      background-color: #E8F0FE;\n",
              "      border: none;\n",
              "      border-radius: 50%;\n",
              "      cursor: pointer;\n",
              "      display: none;\n",
              "      fill: #1967D2;\n",
              "      height: 32px;\n",
              "      padding: 0 0 0 0;\n",
              "      width: 32px;\n",
              "    }\n",
              "\n",
              "    .colab-df-convert:hover {\n",
              "      background-color: #E2EBFA;\n",
              "      box-shadow: 0px 1px 2px rgba(60, 64, 67, 0.3), 0px 1px 3px 1px rgba(60, 64, 67, 0.15);\n",
              "      fill: #174EA6;\n",
              "    }\n",
              "\n",
              "    [theme=dark] .colab-df-convert {\n",
              "      background-color: #3B4455;\n",
              "      fill: #D2E3FC;\n",
              "    }\n",
              "\n",
              "    [theme=dark] .colab-df-convert:hover {\n",
              "      background-color: #434B5C;\n",
              "      box-shadow: 0px 1px 3px 1px rgba(0, 0, 0, 0.15);\n",
              "      filter: drop-shadow(0px 1px 2px rgba(0, 0, 0, 0.3));\n",
              "      fill: #FFFFFF;\n",
              "    }\n",
              "  </style>\n",
              "\n",
              "      <script>\n",
              "        const buttonEl =\n",
              "          document.querySelector('#df-e0ef7ec2-76e6-4ddd-b5bd-458be8d22acb button.colab-df-convert');\n",
              "        buttonEl.style.display =\n",
              "          google.colab.kernel.accessAllowed ? 'block' : 'none';\n",
              "\n",
              "        async function convertToInteractive(key) {\n",
              "          const element = document.querySelector('#df-e0ef7ec2-76e6-4ddd-b5bd-458be8d22acb');\n",
              "          const dataTable =\n",
              "            await google.colab.kernel.invokeFunction('convertToInteractive',\n",
              "                                                     [key], {});\n",
              "          if (!dataTable) return;\n",
              "\n",
              "          const docLinkHtml = 'Like what you see? Visit the ' +\n",
              "            '<a target=\"_blank\" href=https://colab.research.google.com/notebooks/data_table.ipynb>data table notebook</a>'\n",
              "            + ' to learn more about interactive tables.';\n",
              "          element.innerHTML = '';\n",
              "          dataTable['output_type'] = 'display_data';\n",
              "          await google.colab.output.renderOutput(dataTable, element);\n",
              "          const docLink = document.createElement('div');\n",
              "          docLink.innerHTML = docLinkHtml;\n",
              "          element.appendChild(docLink);\n",
              "        }\n",
              "      </script>\n",
              "    </div>\n",
              "  </div>\n",
              "  "
            ]
          },
          "metadata": {},
          "execution_count": 58
        }
      ]
    },
    {
      "cell_type": "code",
      "source": [
        "sum_column = list_basket.sum(axis=1)\n",
        "sum_column_df = pd.DataFrame(sum_column)\n",
        "sum_column_df.drop(' asparagus', inplace=True)\n",
        "sum_column_df.reset_index(inplace=True)\n",
        "sum_column_df.rename(columns={0: \"total\"}, inplace=True)\n",
        "sum_column_df=sum_column_df.replace(35.0,36.0)\n",
        "# sum_column_df.head(20)\n",
        "sum_column_df.head()"
      ],
      "metadata": {
        "colab": {
          "base_uri": "https://localhost:8080/",
          "height": 206
        },
        "id": "TM6-6XhmyyAT",
        "outputId": "201e4b06-22ab-4db0-85b4-422b392e1bdb"
      },
      "execution_count": null,
      "outputs": [
        {
          "output_type": "execute_result",
          "data": {
            "text/plain": [
              "               index  total\n",
              "0            almonds  153.0\n",
              "1  antioxydant juice   67.0\n",
              "2          asparagus   36.0\n",
              "3            avocado  250.0\n",
              "4        babies food   34.0"
            ],
            "text/html": [
              "\n",
              "  <div id=\"df-2649d881-d9e6-43de-9e13-26f53f7bf95c\">\n",
              "    <div class=\"colab-df-container\">\n",
              "      <div>\n",
              "<style scoped>\n",
              "    .dataframe tbody tr th:only-of-type {\n",
              "        vertical-align: middle;\n",
              "    }\n",
              "\n",
              "    .dataframe tbody tr th {\n",
              "        vertical-align: top;\n",
              "    }\n",
              "\n",
              "    .dataframe thead th {\n",
              "        text-align: right;\n",
              "    }\n",
              "</style>\n",
              "<table border=\"1\" class=\"dataframe\">\n",
              "  <thead>\n",
              "    <tr style=\"text-align: right;\">\n",
              "      <th></th>\n",
              "      <th>index</th>\n",
              "      <th>total</th>\n",
              "    </tr>\n",
              "  </thead>\n",
              "  <tbody>\n",
              "    <tr>\n",
              "      <th>0</th>\n",
              "      <td>almonds</td>\n",
              "      <td>153.0</td>\n",
              "    </tr>\n",
              "    <tr>\n",
              "      <th>1</th>\n",
              "      <td>antioxydant juice</td>\n",
              "      <td>67.0</td>\n",
              "    </tr>\n",
              "    <tr>\n",
              "      <th>2</th>\n",
              "      <td>asparagus</td>\n",
              "      <td>36.0</td>\n",
              "    </tr>\n",
              "    <tr>\n",
              "      <th>3</th>\n",
              "      <td>avocado</td>\n",
              "      <td>250.0</td>\n",
              "    </tr>\n",
              "    <tr>\n",
              "      <th>4</th>\n",
              "      <td>babies food</td>\n",
              "      <td>34.0</td>\n",
              "    </tr>\n",
              "  </tbody>\n",
              "</table>\n",
              "</div>\n",
              "      <button class=\"colab-df-convert\" onclick=\"convertToInteractive('df-2649d881-d9e6-43de-9e13-26f53f7bf95c')\"\n",
              "              title=\"Convert this dataframe to an interactive table.\"\n",
              "              style=\"display:none;\">\n",
              "        \n",
              "  <svg xmlns=\"http://www.w3.org/2000/svg\" height=\"24px\"viewBox=\"0 0 24 24\"\n",
              "       width=\"24px\">\n",
              "    <path d=\"M0 0h24v24H0V0z\" fill=\"none\"/>\n",
              "    <path d=\"M18.56 5.44l.94 2.06.94-2.06 2.06-.94-2.06-.94-.94-2.06-.94 2.06-2.06.94zm-11 1L8.5 8.5l.94-2.06 2.06-.94-2.06-.94L8.5 2.5l-.94 2.06-2.06.94zm10 10l.94 2.06.94-2.06 2.06-.94-2.06-.94-.94-2.06-.94 2.06-2.06.94z\"/><path d=\"M17.41 7.96l-1.37-1.37c-.4-.4-.92-.59-1.43-.59-.52 0-1.04.2-1.43.59L10.3 9.45l-7.72 7.72c-.78.78-.78 2.05 0 2.83L4 21.41c.39.39.9.59 1.41.59.51 0 1.02-.2 1.41-.59l7.78-7.78 2.81-2.81c.8-.78.8-2.07 0-2.86zM5.41 20L4 18.59l7.72-7.72 1.47 1.35L5.41 20z\"/>\n",
              "  </svg>\n",
              "      </button>\n",
              "      \n",
              "  <style>\n",
              "    .colab-df-container {\n",
              "      display:flex;\n",
              "      flex-wrap:wrap;\n",
              "      gap: 12px;\n",
              "    }\n",
              "\n",
              "    .colab-df-convert {\n",
              "      background-color: #E8F0FE;\n",
              "      border: none;\n",
              "      border-radius: 50%;\n",
              "      cursor: pointer;\n",
              "      display: none;\n",
              "      fill: #1967D2;\n",
              "      height: 32px;\n",
              "      padding: 0 0 0 0;\n",
              "      width: 32px;\n",
              "    }\n",
              "\n",
              "    .colab-df-convert:hover {\n",
              "      background-color: #E2EBFA;\n",
              "      box-shadow: 0px 1px 2px rgba(60, 64, 67, 0.3), 0px 1px 3px 1px rgba(60, 64, 67, 0.15);\n",
              "      fill: #174EA6;\n",
              "    }\n",
              "\n",
              "    [theme=dark] .colab-df-convert {\n",
              "      background-color: #3B4455;\n",
              "      fill: #D2E3FC;\n",
              "    }\n",
              "\n",
              "    [theme=dark] .colab-df-convert:hover {\n",
              "      background-color: #434B5C;\n",
              "      box-shadow: 0px 1px 3px 1px rgba(0, 0, 0, 0.15);\n",
              "      filter: drop-shadow(0px 1px 2px rgba(0, 0, 0, 0.3));\n",
              "      fill: #FFFFFF;\n",
              "    }\n",
              "  </style>\n",
              "\n",
              "      <script>\n",
              "        const buttonEl =\n",
              "          document.querySelector('#df-2649d881-d9e6-43de-9e13-26f53f7bf95c button.colab-df-convert');\n",
              "        buttonEl.style.display =\n",
              "          google.colab.kernel.accessAllowed ? 'block' : 'none';\n",
              "\n",
              "        async function convertToInteractive(key) {\n",
              "          const element = document.querySelector('#df-2649d881-d9e6-43de-9e13-26f53f7bf95c');\n",
              "          const dataTable =\n",
              "            await google.colab.kernel.invokeFunction('convertToInteractive',\n",
              "                                                     [key], {});\n",
              "          if (!dataTable) return;\n",
              "\n",
              "          const docLinkHtml = 'Like what you see? Visit the ' +\n",
              "            '<a target=\"_blank\" href=https://colab.research.google.com/notebooks/data_table.ipynb>data table notebook</a>'\n",
              "            + ' to learn more about interactive tables.';\n",
              "          element.innerHTML = '';\n",
              "          dataTable['output_type'] = 'display_data';\n",
              "          await google.colab.output.renderOutput(dataTable, element);\n",
              "          const docLink = document.createElement('div');\n",
              "          docLink.innerHTML = docLinkHtml;\n",
              "          element.appendChild(docLink);\n",
              "        }\n",
              "      </script>\n",
              "    </div>\n",
              "  </div>\n",
              "  "
            ]
          },
          "metadata": {},
          "execution_count": 59
        }
      ]
    },
    {
      "cell_type": "code",
      "source": [
        "sum_column_df.shape"
      ],
      "metadata": {
        "colab": {
          "base_uri": "https://localhost:8080/"
        },
        "id": "NhmIAjd7zlpe",
        "outputId": "cb415da5-ed0b-41b1-cedb-c948f068969f"
      },
      "execution_count": null,
      "outputs": [
        {
          "output_type": "execute_result",
          "data": {
            "text/plain": [
              "(119, 2)"
            ]
          },
          "metadata": {},
          "execution_count": 60
        }
      ]
    },
    {
      "cell_type": "code",
      "source": [
        "print(sum_column_df['total'].sum())"
      ],
      "metadata": {
        "colab": {
          "base_uri": "https://localhost:8080/"
        },
        "id": "lfJfMN0Q0FAk",
        "outputId": "eedbf0fd-b234-4ca3-b67c-c7b78a6e6bf0"
      },
      "execution_count": null,
      "outputs": [
        {
          "output_type": "stream",
          "name": "stdout",
          "text": [
            "29363.0\n"
          ]
        }
      ]
    },
    {
      "cell_type": "code",
      "source": [
        "# sum_column_df.head(20)"
      ],
      "metadata": {
        "id": "pMLevOtnwTQA"
      },
      "execution_count": null,
      "outputs": []
    },
    {
      "cell_type": "code",
      "source": [
        "# sum_basket['total'] = sum_column_df[0]\n",
        "# sum_basket.head()"
      ],
      "metadata": {
        "id": "5C69rqv5_OoP"
      },
      "execution_count": null,
      "outputs": []
    },
    {
      "cell_type": "code",
      "source": [
        "# sum_basket.shape"
      ],
      "metadata": {
        "id": "0KKvqtIIbJxA"
      },
      "execution_count": null,
      "outputs": []
    },
    {
      "cell_type": "markdown",
      "source": [
        "### Count Last 5 and Top 5 Item"
      ],
      "metadata": {
        "id": "1XUYBwM3cNwp"
      }
    },
    {
      "cell_type": "code",
      "source": [
        "# sel_col = ['index', 'total']\n",
        "# df_sort_basket = sum_basket[sel_col]"
      ],
      "metadata": {
        "id": "NL9NjHsLcKLP"
      },
      "execution_count": null,
      "outputs": []
    },
    {
      "cell_type": "code",
      "source": [
        "# sel_col = ['index', 'total']\n",
        "# df_sort_basket = sum_basket[sel_col]\n",
        "sum_column_df = sum_column_df.sort_values(by=['total'],ascending=False)\n",
        "\n",
        "# top 5 market basket\n",
        "top5 = sum_column_df.head(5)\n",
        "\n",
        "#visualize\n",
        "index = top5['index']\n",
        "total = top5['total']\n",
        "bars = plt.barh(index, total)\n",
        "\n",
        "for  bar in bars:\n",
        "    width = bar.get_width()\n",
        "    label_y = bar.get_y() + bar.get_height() / 2\n",
        "    plt.text(width, label_y, s=f'{width}')\n",
        "\n",
        "plt.xlabel(\"Total transaction\")\n",
        "plt.ylabel(\"Name Item\")\n",
        "plt.show()"
      ],
      "metadata": {
        "colab": {
          "base_uri": "https://localhost:8080/",
          "height": 361
        },
        "id": "Islb2V6BZlv0",
        "outputId": "9b9c4463-58cb-4dd2-84ee-c63d71d82f86"
      },
      "execution_count": null,
      "outputs": [
        {
          "output_type": "display_data",
          "data": {
            "text/plain": [
              "<Figure size 576x396 with 1 Axes>"
            ],
            "image/png": "[encoded data removed]"
          },
          "metadata": {}
        }
      ]
    },
    {
      "cell_type": "code",
      "source": [
        "sum_column_df = sum_column_df.sort_values(by=['total'],ascending=True)\n",
        "\n",
        "#last 5 market basket\n",
        "last5 = sum_column_df.head(5)\n",
        "\n",
        "#visualize\n",
        "index = last5['index']\n",
        "total = last5['total']\n",
        "bars = plt.barh(index, total)\n",
        "\n",
        "for  bar in bars:\n",
        "    width = bar.get_width()\n",
        "    label_y = bar.get_y() + bar.get_height() / 2\n",
        "    plt.text(width, label_y, s=f'{width}')\n",
        "\n",
        "plt.xlabel(\"Total transaction\")\n",
        "plt.ylabel(\"Name Item\")\n",
        "plt.show()"
      ],
      "metadata": {
        "colab": {
          "base_uri": "https://localhost:8080/",
          "height": 361
        },
        "id": "c42w4JYpbboa",
        "outputId": "d8b20592-0515-4d43-c98b-83bb577d4a69"
      },
      "execution_count": null,
      "outputs": [
        {
          "output_type": "display_data",
          "data": {
            "text/plain": [
              "<Figure size 576x396 with 1 Axes>"
            ],
            "image/png": "[encoded data removed]"
          },
          "metadata": {}
        }
      ]
    },
    {
      "cell_type": "markdown",
      "source": [
        "# Data Customer Member"
      ],
      "metadata": {
        "id": "iIpT7IKKp_yD"
      }
    },
    {
      "cell_type": "code",
      "source": [
        "df_member.show(4,False)"
      ],
      "metadata": {
        "colab": {
          "base_uri": "https://localhost:8080/"
        },
        "id": "Q4wOHxZPmRqR",
        "outputId": "6d223009-4f61-43cf-8a89-940a6d384cf2"
      },
      "execution_count": null,
      "outputs": [
        {
          "output_type": "stream",
          "name": "stdout",
          "text": [
            "+----------+------+---+------------------+----------------------+\n",
            "|CustomerID|Genre |Age|Annual Income (k$)|Spending Score (1-100)|\n",
            "+----------+------+---+------------------+----------------------+\n",
            "|1         |Male  |19 |15                |39                    |\n",
            "|2         |Male  |21 |15                |81                    |\n",
            "|3         |Female|20 |16                |6                     |\n",
            "|4         |Female|23 |16                |77                    |\n",
            "+----------+------+---+------------------+----------------------+\n",
            "only showing top 4 rows\n",
            "\n"
          ]
        }
      ]
    },
    {
      "cell_type": "code",
      "source": [
        "print(\"Jumlah data sebelum drop null:\", df_member.count())\n",
        "df_member = df_member.na.drop(\"any\")\n",
        "print(\"Jumlah data setelah drop null : \",df_member.count())"
      ],
      "metadata": {
        "colab": {
          "base_uri": "https://localhost:8080/"
        },
        "id": "LOdxHqKi8jHt",
        "outputId": "8ebb0bb8-91c4-4720-917a-a416a328941c"
      },
      "execution_count": null,
      "outputs": [
        {
          "output_type": "stream",
          "name": "stdout",
          "text": [
            "Jumlah data sebelum drop null: 200\n",
            "Jumlah data setelah drop null :  200\n"
          ]
        }
      ]
    },
    {
      "cell_type": "code",
      "source": [
        "print((df_member.count(), len(df_member.columns)))"
      ],
      "metadata": {
        "colab": {
          "base_uri": "https://localhost:8080/"
        },
        "id": "d5ynd78-mCmV",
        "outputId": "e6d076bc-ebf9-44c8-d988-d55b13935bc1"
      },
      "execution_count": null,
      "outputs": [
        {
          "output_type": "stream",
          "name": "stdout",
          "text": [
            "(200, 5)\n"
          ]
        }
      ]
    },
    {
      "cell_type": "markdown",
      "source": [
        "## EDA"
      ],
      "metadata": {
        "id": "5Hj1-__LkQON"
      }
    },
    {
      "cell_type": "code",
      "source": [
        "df_member_pandas = df_member.toPandas()\n",
        "df_member_pandas.head()"
      ],
      "metadata": {
        "id": "fNkJELXNmXoX",
        "colab": {
          "base_uri": "https://localhost:8080/",
          "height": 206
        },
        "outputId": "4f30b06b-8283-4ebf-938c-0da11e2759e6"
      },
      "execution_count": null,
      "outputs": [
        {
          "output_type": "execute_result",
          "data": {
            "text/plain": [
              "   CustomerID   Genre  Age  Annual Income (k$)  Spending Score (1-100)\n",
              "0           1    Male   19                  15                      39\n",
              "1           2    Male   21                  15                      81\n",
              "2           3  Female   20                  16                       6\n",
              "3           4  Female   23                  16                      77\n",
              "4           5  Female   31                  17                      40"
            ],
            "text/html": [
              "\n",
              "  <div id=\"df-1eb98914-7ae1-4aa4-9170-4aaffa910080\">\n",
              "    <div class=\"colab-df-container\">\n",
              "      <div>\n",
              "<style scoped>\n",
              "    .dataframe tbody tr th:only-of-type {\n",
              "        vertical-align: middle;\n",
              "    }\n",
              "\n",
              "    .dataframe tbody tr th {\n",
              "        vertical-align: top;\n",
              "    }\n",
              "\n",
              "    .dataframe thead th {\n",
              "        text-align: right;\n",
              "    }\n",
              "</style>\n",
              "<table border=\"1\" class=\"dataframe\">\n",
              "  <thead>\n",
              "    <tr style=\"text-align: right;\">\n",
              "      <th></th>\n",
              "      <th>CustomerID</th>\n",
              "      <th>Genre</th>\n",
              "      <th>Age</th>\n",
              "      <th>Annual Income (k$)</th>\n",
              "      <th>Spending Score (1-100)</th>\n",
              "    </tr>\n",
              "  </thead>\n",
              "  <tbody>\n",
              "    <tr>\n",
              "      <th>0</th>\n",
              "      <td>1</td>\n",
              "      <td>Male</td>\n",
              "      <td>19</td>\n",
              "      <td>15</td>\n",
              "      <td>39</td>\n",
              "    </tr>\n",
              "    <tr>\n",
              "      <th>1</th>\n",
              "      <td>2</td>\n",
              "      <td>Male</td>\n",
              "      <td>21</td>\n",
              "      <td>15</td>\n",
              "      <td>81</td>\n",
              "    </tr>\n",
              "    <tr>\n",
              "      <th>2</th>\n",
              "      <td>3</td>\n",
              "      <td>Female</td>\n",
              "      <td>20</td>\n",
              "      <td>16</td>\n",
              "      <td>6</td>\n",
              "    </tr>\n",
              "    <tr>\n",
              "      <th>3</th>\n",
              "      <td>4</td>\n",
              "      <td>Female</td>\n",
              "      <td>23</td>\n",
              "      <td>16</td>\n",
              "      <td>77</td>\n",
              "    </tr>\n",
              "    <tr>\n",
              "      <th>4</th>\n",
              "      <td>5</td>\n",
              "      <td>Female</td>\n",
              "      <td>31</td>\n",
              "      <td>17</td>\n",
              "      <td>40</td>\n",
              "    </tr>\n",
              "  </tbody>\n",
              "</table>\n",
              "</div>\n",
              "      <button class=\"colab-df-convert\" onclick=\"convertToInteractive('df-1eb98914-7ae1-4aa4-9170-4aaffa910080')\"\n",
              "              title=\"Convert this dataframe to an interactive table.\"\n",
              "              style=\"display:none;\">\n",
              "        \n",
              "  <svg xmlns=\"http://www.w3.org/2000/svg\" height=\"24px\"viewBox=\"0 0 24 24\"\n",
              "       width=\"24px\">\n",
              "    <path d=\"M0 0h24v24H0V0z\" fill=\"none\"/>\n",
              "    <path d=\"M18.56 5.44l.94 2.06.94-2.06 2.06-.94-2.06-.94-.94-2.06-.94 2.06-2.06.94zm-11 1L8.5 8.5l.94-2.06 2.06-.94-2.06-.94L8.5 2.5l-.94 2.06-2.06.94zm10 10l.94 2.06.94-2.06 2.06-.94-2.06-.94-.94-2.06-.94 2.06-2.06.94z\"/><path d=\"M17.41 7.96l-1.37-1.37c-.4-.4-.92-.59-1.43-.59-.52 0-1.04.2-1.43.59L10.3 9.45l-7.72 7.72c-.78.78-.78 2.05 0 2.83L4 21.41c.39.39.9.59 1.41.59.51 0 1.02-.2 1.41-.59l7.78-7.78 2.81-2.81c.8-.78.8-2.07 0-2.86zM5.41 20L4 18.59l7.72-7.72 1.47 1.35L5.41 20z\"/>\n",
              "  </svg>\n",
              "      </button>\n",
              "      \n",
              "  <style>\n",
              "    .colab-df-container {\n",
              "      display:flex;\n",
              "      flex-wrap:wrap;\n",
              "      gap: 12px;\n",
              "    }\n",
              "\n",
              "    .colab-df-convert {\n",
              "      background-color: #E8F0FE;\n",
              "      border: none;\n",
              "      border-radius: 50%;\n",
              "      cursor: pointer;\n",
              "      display: none;\n",
              "      fill: #1967D2;\n",
              "      height: 32px;\n",
              "      padding: 0 0 0 0;\n",
              "      width: 32px;\n",
              "    }\n",
              "\n",
              "    .colab-df-convert:hover {\n",
              "      background-color: #E2EBFA;\n",
              "      box-shadow: 0px 1px 2px rgba(60, 64, 67, 0.3), 0px 1px 3px 1px rgba(60, 64, 67, 0.15);\n",
              "      fill: #174EA6;\n",
              "    }\n",
              "\n",
              "    [theme=dark] .colab-df-convert {\n",
              "      background-color: #3B4455;\n",
              "      fill: #D2E3FC;\n",
              "    }\n",
              "\n",
              "    [theme=dark] .colab-df-convert:hover {\n",
              "      background-color: #434B5C;\n",
              "      box-shadow: 0px 1px 3px 1px rgba(0, 0, 0, 0.15);\n",
              "      filter: drop-shadow(0px 1px 2px rgba(0, 0, 0, 0.3));\n",
              "      fill: #FFFFFF;\n",
              "    }\n",
              "  </style>\n",
              "\n",
              "      <script>\n",
              "        const buttonEl =\n",
              "          document.querySelector('#df-1eb98914-7ae1-4aa4-9170-4aaffa910080 button.colab-df-convert');\n",
              "        buttonEl.style.display =\n",
              "          google.colab.kernel.accessAllowed ? 'block' : 'none';\n",
              "\n",
              "        async function convertToInteractive(key) {\n",
              "          const element = document.querySelector('#df-1eb98914-7ae1-4aa4-9170-4aaffa910080');\n",
              "          const dataTable =\n",
              "            await google.colab.kernel.invokeFunction('convertToInteractive',\n",
              "                                                     [key], {});\n",
              "          if (!dataTable) return;\n",
              "\n",
              "          const docLinkHtml = 'Like what you see? Visit the ' +\n",
              "            '<a target=\"_blank\" href=https://colab.research.google.com/notebooks/data_table.ipynb>data table notebook</a>'\n",
              "            + ' to learn more about interactive tables.';\n",
              "          element.innerHTML = '';\n",
              "          dataTable['output_type'] = 'display_data';\n",
              "          await google.colab.output.renderOutput(dataTable, element);\n",
              "          const docLink = document.createElement('div');\n",
              "          docLink.innerHTML = docLinkHtml;\n",
              "          element.appendChild(docLink);\n",
              "        }\n",
              "      </script>\n",
              "    </div>\n",
              "  </div>\n",
              "  "
            ]
          },
          "metadata": {},
          "execution_count": 71
        }
      ]
    },
    {
      "cell_type": "code",
      "source": [
        "# df_member_pandas[df_member_pandas.columns[5]].value_counts()"
      ],
      "metadata": {
        "id": "TaHAZYPyziSE"
      },
      "execution_count": null,
      "outputs": []
    },
    {
      "cell_type": "code",
      "source": [
        "df_member_pandas[df_member_pandas.columns[-1]].value_counts()"
      ],
      "metadata": {
        "colab": {
          "base_uri": "https://localhost:8080/"
        },
        "id": "inRrIcAs5NV6",
        "outputId": "c3a8377c-9764-4300-a41e-c38c551bf517"
      },
      "execution_count": null,
      "outputs": [
        {
          "output_type": "execute_result",
          "data": {
            "text/plain": [
              "42    8\n",
              "55    7\n",
              "46    6\n",
              "73    6\n",
              "35    5\n",
              "     ..\n",
              "31    1\n",
              "44    1\n",
              "53    1\n",
              "65    1\n",
              "18    1\n",
              "Name: Spending Score (1-100), Length: 84, dtype: int64"
            ]
          },
          "metadata": {},
          "execution_count": 73
        }
      ]
    },
    {
      "cell_type": "code",
      "source": [
        "df_member_pandas[df_member_pandas.columns[1]].value_counts()"
      ],
      "metadata": {
        "colab": {
          "base_uri": "https://localhost:8080/"
        },
        "id": "MeVu6W1m5U1W",
        "outputId": "4aeb99f9-33f2-47fe-9344-dad6dbdb7cb6"
      },
      "execution_count": null,
      "outputs": [
        {
          "output_type": "execute_result",
          "data": {
            "text/plain": [
              "Female    112\n",
              "Male       88\n",
              "Name: Genre, dtype: int64"
            ]
          },
          "metadata": {},
          "execution_count": 74
        }
      ]
    },
    {
      "cell_type": "code",
      "source": [
        "df_member_pandas.describe()"
      ],
      "metadata": {
        "colab": {
          "base_uri": "https://localhost:8080/",
          "height": 300
        },
        "id": "I6MTqS-9l1f5",
        "outputId": "d688b2ce-f508-4486-d42e-8de595393961"
      },
      "execution_count": null,
      "outputs": [
        {
          "output_type": "execute_result",
          "data": {
            "text/plain": [
              "       CustomerID         Age  Annual Income (k$)  Spending Score (1-100)\n",
              "count  200.000000  200.000000          200.000000              200.000000\n",
              "mean   100.500000   38.850000           60.560000               50.200000\n",
              "std     57.879185   13.969007           26.264721               25.823522\n",
              "min      1.000000   18.000000           15.000000                1.000000\n",
              "25%     50.750000   28.750000           41.500000               34.750000\n",
              "50%    100.500000   36.000000           61.500000               50.000000\n",
              "75%    150.250000   49.000000           78.000000               73.000000\n",
              "max    200.000000   70.000000          137.000000               99.000000"
            ],
            "text/html": [
              "\n",
              "  <div id=\"df-4ce1b08d-73fe-4bb2-a416-1a8f2d459a87\">\n",
              "    <div class=\"colab-df-container\">\n",
              "      <div>\n",
              "<style scoped>\n",
              "    .dataframe tbody tr th:only-of-type {\n",
              "        vertical-align: middle;\n",
              "    }\n",
              "\n",
              "    .dataframe tbody tr th {\n",
              "        vertical-align: top;\n",
              "    }\n",
              "\n",
              "    .dataframe thead th {\n",
              "        text-align: right;\n",
              "    }\n",
              "</style>\n",
              "<table border=\"1\" class=\"dataframe\">\n",
              "  <thead>\n",
              "    <tr style=\"text-align: right;\">\n",
              "      <th></th>\n",
              "      <th>CustomerID</th>\n",
              "      <th>Age</th>\n",
              "      <th>Annual Income (k$)</th>\n",
              "      <th>Spending Score (1-100)</th>\n",
              "    </tr>\n",
              "  </thead>\n",
              "  <tbody>\n",
              "    <tr>\n",
              "      <th>count</th>\n",
              "      <td>200.000000</td>\n",
              "      <td>200.000000</td>\n",
              "      <td>200.000000</td>\n",
              "      <td>200.000000</td>\n",
              "    </tr>\n",
              "    <tr>\n",
              "      <th>mean</th>\n",
              "      <td>100.500000</td>\n",
              "      <td>38.850000</td>\n",
              "      <td>60.560000</td>\n",
              "      <td>50.200000</td>\n",
              "    </tr>\n",
              "    <tr>\n",
              "      <th>std</th>\n",
              "      <td>57.879185</td>\n",
              "      <td>13.969007</td>\n",
              "      <td>26.264721</td>\n",
              "      <td>25.823522</td>\n",
              "    </tr>\n",
              "    <tr>\n",
              "      <th>min</th>\n",
              "      <td>1.000000</td>\n",
              "      <td>18.000000</td>\n",
              "      <td>15.000000</td>\n",
              "      <td>1.000000</td>\n",
              "    </tr>\n",
              "    <tr>\n",
              "      <th>25%</th>\n",
              "      <td>50.750000</td>\n",
              "      <td>28.750000</td>\n",
              "      <td>41.500000</td>\n",
              "      <td>34.750000</td>\n",
              "    </tr>\n",
              "    <tr>\n",
              "      <th>50%</th>\n",
              "      <td>100.500000</td>\n",
              "      <td>36.000000</td>\n",
              "      <td>61.500000</td>\n",
              "      <td>50.000000</td>\n",
              "    </tr>\n",
              "    <tr>\n",
              "      <th>75%</th>\n",
              "      <td>150.250000</td>\n",
              "      <td>49.000000</td>\n",
              "      <td>78.000000</td>\n",
              "      <td>73.000000</td>\n",
              "    </tr>\n",
              "    <tr>\n",
              "      <th>max</th>\n",
              "      <td>200.000000</td>\n",
              "      <td>70.000000</td>\n",
              "      <td>137.000000</td>\n",
              "      <td>99.000000</td>\n",
              "    </tr>\n",
              "  </tbody>\n",
              "</table>\n",
              "</div>\n",
              "      <button class=\"colab-df-convert\" onclick=\"convertToInteractive('df-4ce1b08d-73fe-4bb2-a416-1a8f2d459a87')\"\n",
              "              title=\"Convert this dataframe to an interactive table.\"\n",
              "              style=\"display:none;\">\n",
              "        \n",
              "  <svg xmlns=\"http://www.w3.org/2000/svg\" height=\"24px\"viewBox=\"0 0 24 24\"\n",
              "       width=\"24px\">\n",
              "    <path d=\"M0 0h24v24H0V0z\" fill=\"none\"/>\n",
              "    <path d=\"M18.56 5.44l.94 2.06.94-2.06 2.06-.94-2.06-.94-.94-2.06-.94 2.06-2.06.94zm-11 1L8.5 8.5l.94-2.06 2.06-.94-2.06-.94L8.5 2.5l-.94 2.06-2.06.94zm10 10l.94 2.06.94-2.06 2.06-.94-2.06-.94-.94-2.06-.94 2.06-2.06.94z\"/><path d=\"M17.41 7.96l-1.37-1.37c-.4-.4-.92-.59-1.43-.59-.52 0-1.04.2-1.43.59L10.3 9.45l-7.72 7.72c-.78.78-.78 2.05 0 2.83L4 21.41c.39.39.9.59 1.41.59.51 0 1.02-.2 1.41-.59l7.78-7.78 2.81-2.81c.8-.78.8-2.07 0-2.86zM5.41 20L4 18.59l7.72-7.72 1.47 1.35L5.41 20z\"/>\n",
              "  </svg>\n",
              "      </button>\n",
              "      \n",
              "  <style>\n",
              "    .colab-df-container {\n",
              "      display:flex;\n",
              "      flex-wrap:wrap;\n",
              "      gap: 12px;\n",
              "    }\n",
              "\n",
              "    .colab-df-convert {\n",
              "      background-color: #E8F0FE;\n",
              "      border: none;\n",
              "      border-radius: 50%;\n",
              "      cursor: pointer;\n",
              "      display: none;\n",
              "      fill: #1967D2;\n",
              "      height: 32px;\n",
              "      padding: 0 0 0 0;\n",
              "      width: 32px;\n",
              "    }\n",
              "\n",
              "    .colab-df-convert:hover {\n",
              "      background-color: #E2EBFA;\n",
              "      box-shadow: 0px 1px 2px rgba(60, 64, 67, 0.3), 0px 1px 3px 1px rgba(60, 64, 67, 0.15);\n",
              "      fill: #174EA6;\n",
              "    }\n",
              "\n",
              "    [theme=dark] .colab-df-convert {\n",
              "      background-color: #3B4455;\n",
              "      fill: #D2E3FC;\n",
              "    }\n",
              "\n",
              "    [theme=dark] .colab-df-convert:hover {\n",
              "      background-color: #434B5C;\n",
              "      box-shadow: 0px 1px 3px 1px rgba(0, 0, 0, 0.15);\n",
              "      filter: drop-shadow(0px 1px 2px rgba(0, 0, 0, 0.3));\n",
              "      fill: #FFFFFF;\n",
              "    }\n",
              "  </style>\n",
              "\n",
              "      <script>\n",
              "        const buttonEl =\n",
              "          document.querySelector('#df-4ce1b08d-73fe-4bb2-a416-1a8f2d459a87 button.colab-df-convert');\n",
              "        buttonEl.style.display =\n",
              "          google.colab.kernel.accessAllowed ? 'block' : 'none';\n",
              "\n",
              "        async function convertToInteractive(key) {\n",
              "          const element = document.querySelector('#df-4ce1b08d-73fe-4bb2-a416-1a8f2d459a87');\n",
              "          const dataTable =\n",
              "            await google.colab.kernel.invokeFunction('convertToInteractive',\n",
              "                                                     [key], {});\n",
              "          if (!dataTable) return;\n",
              "\n",
              "          const docLinkHtml = 'Like what you see? Visit the ' +\n",
              "            '<a target=\"_blank\" href=https://colab.research.google.com/notebooks/data_table.ipynb>data table notebook</a>'\n",
              "            + ' to learn more about interactive tables.';\n",
              "          element.innerHTML = '';\n",
              "          dataTable['output_type'] = 'display_data';\n",
              "          await google.colab.output.renderOutput(dataTable, element);\n",
              "          const docLink = document.createElement('div');\n",
              "          docLink.innerHTML = docLinkHtml;\n",
              "          element.appendChild(docLink);\n",
              "        }\n",
              "      </script>\n",
              "    </div>\n",
              "  </div>\n",
              "  "
            ]
          },
          "metadata": {},
          "execution_count": 75
        }
      ]
    },
    {
      "cell_type": "markdown",
      "source": [
        "## Data Preprocessing"
      ],
      "metadata": {
        "id": "4lxQAgfrqYUt"
      }
    },
    {
      "cell_type": "markdown",
      "source": [
        "### UDF"
      ],
      "metadata": {
        "id": "Rf2LWpxoutBy"
      }
    },
    {
      "cell_type": "code",
      "source": [
        "from pyspark.sql.functions import udf\n",
        "from pyspark.sql.types import StringType"
      ],
      "metadata": {
        "id": "_Zt1vNeSqWaW"
      },
      "execution_count": null,
      "outputs": []
    },
    {
      "cell_type": "code",
      "source": [
        "def dis_age(Age):\n",
        "  if(Age < 25) :\n",
        "    return \"usia muda\"\n",
        "  elif (Age >= 25 and Age <= 34):\n",
        "    return 'usia pekerja awal'\n",
        "  elif (Age > 34 and Age <= 44):\n",
        "    return 'usia paruh baya'\n",
        "  elif (Age > 44 and Age <= 54):\n",
        "    return 'usia pra-pensiun'\n",
        "  elif (Age > 54):\n",
        "    return 'usia pensiun'\n",
        "  else :\n",
        "    return 'error'"
      ],
      "metadata": {
        "id": "Gp87xYFEqdsd"
      },
      "execution_count": null,
      "outputs": []
    },
    {
      "cell_type": "code",
      "source": [
        "Age_udf = udf(dis_age)\n",
        "df_member = df_member.withColumn('Age_udf', Age_udf('Age'))\n",
        "df_member.show(5, False)"
      ],
      "metadata": {
        "colab": {
          "base_uri": "https://localhost:8080/"
        },
        "id": "X6SCn1YFt42G",
        "outputId": "56667c97-992c-44c8-9898-620d32e1453d"
      },
      "execution_count": null,
      "outputs": [
        {
          "output_type": "stream",
          "name": "stdout",
          "text": [
            "+----------+------+---+------------------+----------------------+-----------------+\n",
            "|CustomerID|Genre |Age|Annual Income (k$)|Spending Score (1-100)|Age_udf          |\n",
            "+----------+------+---+------------------+----------------------+-----------------+\n",
            "|1         |Male  |19 |15                |39                    |usia muda        |\n",
            "|2         |Male  |21 |15                |81                    |usia muda        |\n",
            "|3         |Female|20 |16                |6                     |usia muda        |\n",
            "|4         |Female|23 |16                |77                    |usia muda        |\n",
            "|5         |Female|31 |17                |40                    |usia pekerja awal|\n",
            "+----------+------+---+------------------+----------------------+-----------------+\n",
            "only showing top 5 rows\n",
            "\n"
          ]
        }
      ]
    },
    {
      "cell_type": "markdown",
      "source": [
        "### OneHotEncoder"
      ],
      "metadata": {
        "id": "SYvbeuvluvBd"
      }
    },
    {
      "cell_type": "code",
      "source": [
        "from pyspark.ml.feature import StringIndexer\n",
        "\n",
        "indexer = StringIndexer(inputCol='Age_udf', outputCol='Age_ohe')\n",
        "indexer_fitted = indexer.fit(df_member)\n",
        "df_member= indexer_fitted.transform(df_member)\n",
        "df_member.show(2)"
      ],
      "metadata": {
        "colab": {
          "base_uri": "https://localhost:8080/"
        },
        "id": "0SVYReGduuhe",
        "outputId": "b5b70178-01d2-4864-a830-fb8243654034"
      },
      "execution_count": null,
      "outputs": [
        {
          "output_type": "stream",
          "name": "stdout",
          "text": [
            "+----------+-----+---+------------------+----------------------+---------+-------+\n",
            "|CustomerID|Genre|Age|Annual Income (k$)|Spending Score (1-100)|  Age_udf|Age_ohe|\n",
            "+----------+-----+---+------------------+----------------------+---------+-------+\n",
            "|         1| Male| 19|                15|                    39|usia muda|    3.0|\n",
            "|         2| Male| 21|                15|                    81|usia muda|    3.0|\n",
            "+----------+-----+---+------------------+----------------------+---------+-------+\n",
            "only showing top 2 rows\n",
            "\n"
          ]
        }
      ]
    },
    {
      "cell_type": "code",
      "source": [
        "indexer = StringIndexer(inputCol='Genre', outputCol='Genre_ohe')\n",
        "indexer_fitted = indexer.fit(df_member)\n",
        "df_member= indexer_fitted.transform(df_member)\n",
        "df_member.show(2)"
      ],
      "metadata": {
        "colab": {
          "base_uri": "https://localhost:8080/"
        },
        "id": "RIFeFFuvzUxD",
        "outputId": "01859cae-c209-41c7-fb65-cbb4a5e2b60f"
      },
      "execution_count": null,
      "outputs": [
        {
          "output_type": "stream",
          "name": "stdout",
          "text": [
            "+----------+-----+---+------------------+----------------------+---------+-------+---------+\n",
            "|CustomerID|Genre|Age|Annual Income (k$)|Spending Score (1-100)|  Age_udf|Age_ohe|Genre_ohe|\n",
            "+----------+-----+---+------------------+----------------------+---------+-------+---------+\n",
            "|         1| Male| 19|                15|                    39|usia muda|    3.0|      1.0|\n",
            "|         2| Male| 21|                15|                    81|usia muda|    3.0|      1.0|\n",
            "+----------+-----+---+------------------+----------------------+---------+-------+---------+\n",
            "only showing top 2 rows\n",
            "\n"
          ]
        }
      ]
    },
    {
      "cell_type": "code",
      "source": [
        "df_member_pandas2 = df_member.toPandas()\n",
        "df_member_pandas2.head()"
      ],
      "metadata": {
        "colab": {
          "base_uri": "https://localhost:8080/",
          "height": 206
        },
        "id": "LpuT1ocjzk-P",
        "outputId": "bcc45db5-980a-4f10-acd6-94469ab65b22"
      },
      "execution_count": null,
      "outputs": [
        {
          "output_type": "execute_result",
          "data": {
            "text/plain": [
              "   CustomerID   Genre  Age  Annual Income (k$)  Spending Score (1-100)  \\\n",
              "0           1    Male   19                  15                      39   \n",
              "1           2    Male   21                  15                      81   \n",
              "2           3  Female   20                  16                       6   \n",
              "3           4  Female   23                  16                      77   \n",
              "4           5  Female   31                  17                      40   \n",
              "\n",
              "             Age_udf  Age_ohe  Genre_ohe  \n",
              "0          usia muda      3.0        1.0  \n",
              "1          usia muda      3.0        1.0  \n",
              "2          usia muda      3.0        0.0  \n",
              "3          usia muda      3.0        0.0  \n",
              "4  usia pekerja awal      0.0        0.0  "
            ],
            "text/html": [
              "\n",
              "  <div id=\"df-18166d52-faa6-481f-b899-922c0f369e97\">\n",
              "    <div class=\"colab-df-container\">\n",
              "      <div>\n",
              "<style scoped>\n",
              "    .dataframe tbody tr th:only-of-type {\n",
              "        vertical-align: middle;\n",
              "    }\n",
              "\n",
              "    .dataframe tbody tr th {\n",
              "        vertical-align: top;\n",
              "    }\n",
              "\n",
              "    .dataframe thead th {\n",
              "        text-align: right;\n",
              "    }\n",
              "</style>\n",
              "<table border=\"1\" class=\"dataframe\">\n",
              "  <thead>\n",
              "    <tr style=\"text-align: right;\">\n",
              "      <th></th>\n",
              "      <th>CustomerID</th>\n",
              "      <th>Genre</th>\n",
              "      <th>Age</th>\n",
              "      <th>Annual Income (k$)</th>\n",
              "      <th>Spending Score (1-100)</th>\n",
              "      <th>Age_udf</th>\n",
              "      <th>Age_ohe</th>\n",
              "      <th>Genre_ohe</th>\n",
              "    </tr>\n",
              "  </thead>\n",
              "  <tbody>\n",
              "    <tr>\n",
              "      <th>0</th>\n",
              "      <td>1</td>\n",
              "      <td>Male</td>\n",
              "      <td>19</td>\n",
              "      <td>15</td>\n",
              "      <td>39</td>\n",
              "      <td>usia muda</td>\n",
              "      <td>3.0</td>\n",
              "      <td>1.0</td>\n",
              "    </tr>\n",
              "    <tr>\n",
              "      <th>1</th>\n",
              "      <td>2</td>\n",
              "      <td>Male</td>\n",
              "      <td>21</td>\n",
              "      <td>15</td>\n",
              "      <td>81</td>\n",
              "      <td>usia muda</td>\n",
              "      <td>3.0</td>\n",
              "      <td>1.0</td>\n",
              "    </tr>\n",
              "    <tr>\n",
              "      <th>2</th>\n",
              "      <td>3</td>\n",
              "      <td>Female</td>\n",
              "      <td>20</td>\n",
              "      <td>16</td>\n",
              "      <td>6</td>\n",
              "      <td>usia muda</td>\n",
              "      <td>3.0</td>\n",
              "      <td>0.0</td>\n",
              "    </tr>\n",
              "    <tr>\n",
              "      <th>3</th>\n",
              "      <td>4</td>\n",
              "      <td>Female</td>\n",
              "      <td>23</td>\n",
              "      <td>16</td>\n",
              "      <td>77</td>\n",
              "      <td>usia muda</td>\n",
              "      <td>3.0</td>\n",
              "      <td>0.0</td>\n",
              "    </tr>\n",
              "    <tr>\n",
              "      <th>4</th>\n",
              "      <td>5</td>\n",
              "      <td>Female</td>\n",
              "      <td>31</td>\n",
              "      <td>17</td>\n",
              "      <td>40</td>\n",
              "      <td>usia pekerja awal</td>\n",
              "      <td>0.0</td>\n",
              "      <td>0.0</td>\n",
              "    </tr>\n",
              "  </tbody>\n",
              "</table>\n",
              "</div>\n",
              "      <button class=\"colab-df-convert\" onclick=\"convertToInteractive('df-18166d52-faa6-481f-b899-922c0f369e97')\"\n",
              "              title=\"Convert this dataframe to an interactive table.\"\n",
              "              style=\"display:none;\">\n",
              "        \n",
              "  <svg xmlns=\"http://www.w3.org/2000/svg\" height=\"24px\"viewBox=\"0 0 24 24\"\n",
              "       width=\"24px\">\n",
              "    <path d=\"M0 0h24v24H0V0z\" fill=\"none\"/>\n",
              "    <path d=\"M18.56 5.44l.94 2.06.94-2.06 2.06-.94-2.06-.94-.94-2.06-.94 2.06-2.06.94zm-11 1L8.5 8.5l.94-2.06 2.06-.94-2.06-.94L8.5 2.5l-.94 2.06-2.06.94zm10 10l.94 2.06.94-2.06 2.06-.94-2.06-.94-.94-2.06-.94 2.06-2.06.94z\"/><path d=\"M17.41 7.96l-1.37-1.37c-.4-.4-.92-.59-1.43-.59-.52 0-1.04.2-1.43.59L10.3 9.45l-7.72 7.72c-.78.78-.78 2.05 0 2.83L4 21.41c.39.39.9.59 1.41.59.51 0 1.02-.2 1.41-.59l7.78-7.78 2.81-2.81c.8-.78.8-2.07 0-2.86zM5.41 20L4 18.59l7.72-7.72 1.47 1.35L5.41 20z\"/>\n",
              "  </svg>\n",
              "      </button>\n",
              "      \n",
              "  <style>\n",
              "    .colab-df-container {\n",
              "      display:flex;\n",
              "      flex-wrap:wrap;\n",
              "      gap: 12px;\n",
              "    }\n",
              "\n",
              "    .colab-df-convert {\n",
              "      background-color: #E8F0FE;\n",
              "      border: none;\n",
              "      border-radius: 50%;\n",
              "      cursor: pointer;\n",
              "      display: none;\n",
              "      fill: #1967D2;\n",
              "      height: 32px;\n",
              "      padding: 0 0 0 0;\n",
              "      width: 32px;\n",
              "    }\n",
              "\n",
              "    .colab-df-convert:hover {\n",
              "      background-color: #E2EBFA;\n",
              "      box-shadow: 0px 1px 2px rgba(60, 64, 67, 0.3), 0px 1px 3px 1px rgba(60, 64, 67, 0.15);\n",
              "      fill: #174EA6;\n",
              "    }\n",
              "\n",
              "    [theme=dark] .colab-df-convert {\n",
              "      background-color: #3B4455;\n",
              "      fill: #D2E3FC;\n",
              "    }\n",
              "\n",
              "    [theme=dark] .colab-df-convert:hover {\n",
              "      background-color: #434B5C;\n",
              "      box-shadow: 0px 1px 3px 1px rgba(0, 0, 0, 0.15);\n",
              "      filter: drop-shadow(0px 1px 2px rgba(0, 0, 0, 0.3));\n",
              "      fill: #FFFFFF;\n",
              "    }\n",
              "  </style>\n",
              "\n",
              "      <script>\n",
              "        const buttonEl =\n",
              "          document.querySelector('#df-18166d52-faa6-481f-b899-922c0f369e97 button.colab-df-convert');\n",
              "        buttonEl.style.display =\n",
              "          google.colab.kernel.accessAllowed ? 'block' : 'none';\n",
              "\n",
              "        async function convertToInteractive(key) {\n",
              "          const element = document.querySelector('#df-18166d52-faa6-481f-b899-922c0f369e97');\n",
              "          const dataTable =\n",
              "            await google.colab.kernel.invokeFunction('convertToInteractive',\n",
              "                                                     [key], {});\n",
              "          if (!dataTable) return;\n",
              "\n",
              "          const docLinkHtml = 'Like what you see? Visit the ' +\n",
              "            '<a target=\"_blank\" href=https://colab.research.google.com/notebooks/data_table.ipynb>data table notebook</a>'\n",
              "            + ' to learn more about interactive tables.';\n",
              "          element.innerHTML = '';\n",
              "          dataTable['output_type'] = 'display_data';\n",
              "          await google.colab.output.renderOutput(dataTable, element);\n",
              "          const docLink = document.createElement('div');\n",
              "          docLink.innerHTML = docLinkHtml;\n",
              "          element.appendChild(docLink);\n",
              "        }\n",
              "      </script>\n",
              "    </div>\n",
              "  </div>\n",
              "  "
            ]
          },
          "metadata": {},
          "execution_count": 81
        }
      ]
    },
    {
      "cell_type": "code",
      "source": [
        "df_member_pandas2['Age_ohe'].value_counts()"
      ],
      "metadata": {
        "colab": {
          "base_uri": "https://localhost:8080/"
        },
        "id": "qLzB95b4CXd-",
        "outputId": "686421da-0f03-4350-c862-98ae9da3241c"
      },
      "execution_count": null,
      "outputs": [
        {
          "output_type": "execute_result",
          "data": {
            "text/plain": [
              "0.0    54\n",
              "1.0    42\n",
              "2.0    39\n",
              "3.0    35\n",
              "4.0    30\n",
              "Name: Age_ohe, dtype: int64"
            ]
          },
          "metadata": {},
          "execution_count": 82
        }
      ]
    },
    {
      "cell_type": "code",
      "source": [
        "df_member_pandas2['Age_udf'].value_counts()"
      ],
      "metadata": {
        "colab": {
          "base_uri": "https://localhost:8080/"
        },
        "id": "sn2xn3a1C2DC",
        "outputId": "88dbffd9-7021-4a26-e8c8-5620519cf9d4"
      },
      "execution_count": null,
      "outputs": [
        {
          "output_type": "execute_result",
          "data": {
            "text/plain": [
              "usia pekerja awal    54\n",
              "usia paruh baya      42\n",
              "usia pra-pensiun     39\n",
              "usia muda            35\n",
              "usia pensiun         30\n",
              "Name: Age_udf, dtype: int64"
            ]
          },
          "metadata": {},
          "execution_count": 83
        }
      ]
    },
    {
      "cell_type": "code",
      "source": [
        "df_member_pandas2['Genre_ohe'].value_counts()"
      ],
      "metadata": {
        "colab": {
          "base_uri": "https://localhost:8080/"
        },
        "id": "WRoCb8QsEBww",
        "outputId": "ae5096b0-8ec8-4222-8be4-d592207c2d5d"
      },
      "execution_count": null,
      "outputs": [
        {
          "output_type": "execute_result",
          "data": {
            "text/plain": [
              "0.0    112\n",
              "1.0     88\n",
              "Name: Genre_ohe, dtype: int64"
            ]
          },
          "metadata": {},
          "execution_count": 84
        }
      ]
    },
    {
      "cell_type": "code",
      "source": [
        "df_member_pandas2['Genre'].value_counts()"
      ],
      "metadata": {
        "colab": {
          "base_uri": "https://localhost:8080/"
        },
        "id": "lcJiI5vkEFDm",
        "outputId": "a9e1a170-51b3-4c1a-cdb2-36babe66191c"
      },
      "execution_count": null,
      "outputs": [
        {
          "output_type": "execute_result",
          "data": {
            "text/plain": [
              "Female    112\n",
              "Male       88\n",
              "Name: Genre, dtype: int64"
            ]
          },
          "metadata": {},
          "execution_count": 85
        }
      ]
    },
    {
      "cell_type": "code",
      "source": [
        "# plotting correlation heatmap\n",
        "dataplot = sns.heatmap(df_member_pandas.corr(), annot=True)\n",
        "\n",
        "# displaying heatmap\n",
        "plt.show()"
      ],
      "metadata": {
        "colab": {
          "base_uri": "https://localhost:8080/",
          "height": 447
        },
        "id": "TL0Dbv9cxEmF",
        "outputId": "63f5874b-035c-4265-89e8-9ce5765fc63c"
      },
      "execution_count": null,
      "outputs": [
        {
          "output_type": "display_data",
          "data": {
            "text/plain": [
              "<Figure size 576x396 with 2 Axes>"
            ],
            "image/png": "[encoded data removed]"
          },
          "metadata": {}
        }
      ]
    },
    {
      "cell_type": "markdown",
      "source": [
        "## Clustering"
      ],
      "metadata": {
        "id": "wIZVLZU8w0Fx"
      }
    },
    {
      "cell_type": "code",
      "source": [
        "sel_col = ['Annual Income (k$)',\t'Spending Score (1-100)', 'Age_ohe', 'Genre_ohe']\n",
        "assemble = VectorAssembler(inputCols=sel_col, outputCol = 'feat_col')\n",
        "assembled_df_member = assemble.transform(df_member)"
      ],
      "metadata": {
        "id": "uRUnHrk6y9m5"
      },
      "execution_count": null,
      "outputs": []
    },
    {
      "cell_type": "code",
      "source": [
        "eval = ClusteringEvaluator(predictionCol='prediction',\n",
        "                           featuresCol='feat_col',\n",
        "                           metricName='silhouette',\n",
        "                           distanceMeasure='squaredEuclidean')"
      ],
      "metadata": {
        "id": "HV7UGzMay9m6"
      },
      "execution_count": null,
      "outputs": []
    },
    {
      "cell_type": "code",
      "source": [
        "silhouette_scores=[]\n",
        "print(\"\"\"\n",
        "Silhouette Scores for K Mean Clustering\n",
        "=======================================\n",
        "Model\\tScore\\t\n",
        "=====\\t=====\\t\n",
        "\"\"\")\n",
        "\n",
        "for K in range(2,11):\n",
        "\n",
        "    KMeans_algo=KMeans(featuresCol='feat_col', k=K)\n",
        "    KMeans_fit=KMeans_algo.fit(assembled_df_member)\n",
        "    output=KMeans_fit.transform(assembled_df_member)\n",
        "    score=eval.evaluate(output)\n",
        "    silhouette_scores.append(score)\n",
        "    print(f\"K{K}\\t{round(score,2)}\\t\")"
      ],
      "metadata": {
        "colab": {
          "base_uri": "https://localhost:8080/"
        },
        "outputId": "056945fe-7ca1-4824-e2f4-f76fbfe7f65e",
        "id": "QiaTNswsy9m6"
      },
      "execution_count": null,
      "outputs": [
        {
          "output_type": "stream",
          "name": "stdout",
          "text": [
            "\n",
            "Silhouette Scores for K Mean Clustering\n",
            "=======================================\n",
            "Model\tScore\t\n",
            "=====\t=====\t\n",
            "\n",
            "K2\t0.52\t\n",
            "K3\t0.63\t\n",
            "K4\t0.66\t\n",
            "K5\t0.74\t\n",
            "K6\t0.73\t\n",
            "K7\t0.63\t\n",
            "K8\t0.64\t\n",
            "K9\t0.62\t\n",
            "K10\t0.59\t\n"
          ]
        }
      ]
    },
    {
      "cell_type": "code",
      "source": [
        "import matplotlib.pyplot as plt\n",
        "fig, ax = plt.subplots(1,1, figsize =(10,8))\n",
        "ax.plot(range(2,11),silhouette_scores)\n",
        "ax.set_xlabel('Number of Clusters')\n",
        "ax.set_ylabel('Silhouette Score')"
      ],
      "metadata": {
        "colab": {
          "base_uri": "https://localhost:8080/",
          "height": 514
        },
        "outputId": "13d7e3c7-1903-4166-ccf6-d2f00afe22e1",
        "id": "5d-vvt1Yy9m6"
      },
      "execution_count": null,
      "outputs": [
        {
          "output_type": "execute_result",
          "data": {
            "text/plain": [
              "Text(0, 0.5, 'Silhouette Score')"
            ]
          },
          "metadata": {},
          "execution_count": 91
        },
        {
          "output_type": "display_data",
          "data": {
            "text/plain": [
              "<Figure size 720x576 with 1 Axes>"
            ],
            "image/png": "[encoded data removed]"
          },
          "metadata": {}
        }
      ]
    },
    {
      "cell_type": "code",
      "source": [
        "KMeans_algorithm=KMeans(featuresCol='feat_col', k=5)\n",
        "Model=KMeans_algorithm.fit(assembled_df_member)\n",
        "KMeans_Assignments=Model.transform(assembled_df_member)"
      ],
      "metadata": {
        "id": "nF-baiJuy9m7"
      },
      "execution_count": null,
      "outputs": []
    },
    {
      "cell_type": "code",
      "source": [
        "from pyspark.ml.feature import PCA as PCAml\n",
        "\n",
        "pca = PCAml(k=2, inputCol=\"feat_col\", outputCol=\"pca\")\n",
        "pca_model = pca.fit(assembled_df_member)\n",
        "pca_transformed = pca_model.transform(assembled_df_member)"
      ],
      "metadata": {
        "id": "SQv5QhmTy9m7"
      },
      "execution_count": null,
      "outputs": []
    },
    {
      "cell_type": "code",
      "source": [
        "import numpy as np\n",
        "x_pca = np.array(pca_transformed.rdd.map(lambda row: row.pca).collect())"
      ],
      "metadata": {
        "id": "URnFHDSuy9m7"
      },
      "execution_count": null,
      "outputs": []
    },
    {
      "cell_type": "code",
      "source": [
        "cluster_assignment = np.array(KMeans_Assignments.rdd.map(lambda row: row.prediction).collect()).reshape(-1,1)"
      ],
      "metadata": {
        "id": "aLszre1ry9m7"
      },
      "execution_count": null,
      "outputs": []
    },
    {
      "cell_type": "code",
      "source": [
        "pca_data = np.hstack((x_pca,cluster_assignment))\n",
        "\n",
        "pca_df = pd.DataFrame(data=pca_data, columns=(\"1st_principal\", \"2nd_principal\",\"cluster_assignment\"))\n",
        "sns.FacetGrid(pca_df,hue=\"cluster_assignment\", height=6).map(plt.scatter, '1st_principal', '2nd_principal' ).add_legend()\n",
        "\n",
        "plt.show()"
      ],
      "metadata": {
        "colab": {
          "base_uri": "https://localhost:8080/",
          "height": 441
        },
        "outputId": "7e22eee3-2d1c-4915-ecef-703683ef73e8",
        "id": "BeEXVw11y9m7"
      },
      "execution_count": null,
      "outputs": [
        {
          "output_type": "display_data",
          "data": {
            "text/plain": [
              "<Figure size 526.125x432 with 1 Axes>"
            ],
            "image/png": "[encoded data removed]"
          },
          "metadata": {}
        }
      ]
    },
    {
      "cell_type": "code",
      "source": [
        "KMeans_Assignments.groupBy('prediction').count().show()"
      ],
      "metadata": {
        "colab": {
          "base_uri": "https://localhost:8080/"
        },
        "outputId": "6249a084-1ef2-4cd9-b57f-7275c6f4988c",
        "id": "Eo9auFD1y9m7"
      },
      "execution_count": null,
      "outputs": [
        {
          "output_type": "stream",
          "name": "stdout",
          "text": [
            "+----------+-----+\n",
            "|prediction|count|\n",
            "+----------+-----+\n",
            "|         1|   39|\n",
            "|         3|   35|\n",
            "|         4|   81|\n",
            "|         2|   22|\n",
            "|         0|   23|\n",
            "+----------+-----+\n",
            "\n"
          ]
        }
      ]
    },
    {
      "cell_type": "code",
      "source": [
        "df_member_clust = KMeans_Assignments.toPandas()\n",
        "df_member_clust_pandas = pd.DataFrame(df_member_clust)\n",
        "df_member_clust_pandas.head()"
      ],
      "metadata": {
        "colab": {
          "base_uri": "https://localhost:8080/",
          "height": 206
        },
        "outputId": "06e633c9-b680-47a5-fc91-69d59d2b27ba",
        "id": "GB071Ohly9m8"
      },
      "execution_count": null,
      "outputs": [
        {
          "output_type": "execute_result",
          "data": {
            "text/plain": [
              "   CustomerID   Genre  Age  Annual Income (k$)  Spending Score (1-100)  \\\n",
              "0           1    Male   19                  15                      39   \n",
              "1           2    Male   21                  15                      81   \n",
              "2           3  Female   20                  16                       6   \n",
              "3           4  Female   23                  16                      77   \n",
              "4           5  Female   31                  17                      40   \n",
              "\n",
              "             Age_udf  Age_ohe  Genre_ohe                feat_col  prediction  \n",
              "0          usia muda      3.0        1.0  [15.0, 39.0, 3.0, 1.0]           0  \n",
              "1          usia muda      3.0        1.0  [15.0, 81.0, 3.0, 1.0]           2  \n",
              "2          usia muda      3.0        0.0   [16.0, 6.0, 3.0, 0.0]           0  \n",
              "3          usia muda      3.0        0.0  [16.0, 77.0, 3.0, 0.0]           2  \n",
              "4  usia pekerja awal      0.0        0.0  [17.0, 40.0, 0.0, 0.0]           0  "
            ],
            "text/html": [
              "\n",
              "  <div id=\"df-ce32fc72-23c6-4901-9151-6b184ef4dbfe\">\n",
              "    <div class=\"colab-df-container\">\n",
              "      <div>\n",
              "<style scoped>\n",
              "    .dataframe tbody tr th:only-of-type {\n",
              "        vertical-align: middle;\n",
              "    }\n",
              "\n",
              "    .dataframe tbody tr th {\n",
              "        vertical-align: top;\n",
              "    }\n",
              "\n",
              "    .dataframe thead th {\n",
              "        text-align: right;\n",
              "    }\n",
              "</style>\n",
              "<table border=\"1\" class=\"dataframe\">\n",
              "  <thead>\n",
              "    <tr style=\"text-align: right;\">\n",
              "      <th></th>\n",
              "      <th>CustomerID</th>\n",
              "      <th>Genre</th>\n",
              "      <th>Age</th>\n",
              "      <th>Annual Income (k$)</th>\n",
              "      <th>Spending Score (1-100)</th>\n",
              "      <th>Age_udf</th>\n",
              "      <th>Age_ohe</th>\n",
              "      <th>Genre_ohe</th>\n",
              "      <th>feat_col</th>\n",
              "      <th>prediction</th>\n",
              "    </tr>\n",
              "  </thead>\n",
              "  <tbody>\n",
              "    <tr>\n",
              "      <th>0</th>\n",
              "      <td>1</td>\n",
              "      <td>Male</td>\n",
              "      <td>19</td>\n",
              "      <td>15</td>\n",
              "      <td>39</td>\n",
              "      <td>usia muda</td>\n",
              "      <td>3.0</td>\n",
              "      <td>1.0</td>\n",
              "      <td>[15.0, 39.0, 3.0, 1.0]</td>\n",
              "      <td>0</td>\n",
              "    </tr>\n",
              "    <tr>\n",
              "      <th>1</th>\n",
              "      <td>2</td>\n",
              "      <td>Male</td>\n",
              "      <td>21</td>\n",
              "      <td>15</td>\n",
              "      <td>81</td>\n",
              "      <td>usia muda</td>\n",
              "      <td>3.0</td>\n",
              "      <td>1.0</td>\n",
              "      <td>[15.0, 81.0, 3.0, 1.0]</td>\n",
              "      <td>2</td>\n",
              "    </tr>\n",
              "    <tr>\n",
              "      <th>2</th>\n",
              "      <td>3</td>\n",
              "      <td>Female</td>\n",
              "      <td>20</td>\n",
              "      <td>16</td>\n",
              "      <td>6</td>\n",
              "      <td>usia muda</td>\n",
              "      <td>3.0</td>\n",
              "      <td>0.0</td>\n",
              "      <td>[16.0, 6.0, 3.0, 0.0]</td>\n",
              "      <td>0</td>\n",
              "    </tr>\n",
              "    <tr>\n",
              "      <th>3</th>\n",
              "      <td>4</td>\n",
              "      <td>Female</td>\n",
              "      <td>23</td>\n",
              "      <td>16</td>\n",
              "      <td>77</td>\n",
              "      <td>usia muda</td>\n",
              "      <td>3.0</td>\n",
              "      <td>0.0</td>\n",
              "      <td>[16.0, 77.0, 3.0, 0.0]</td>\n",
              "      <td>2</td>\n",
              "    </tr>\n",
              "    <tr>\n",
              "      <th>4</th>\n",
              "      <td>5</td>\n",
              "      <td>Female</td>\n",
              "      <td>31</td>\n",
              "      <td>17</td>\n",
              "      <td>40</td>\n",
              "      <td>usia pekerja awal</td>\n",
              "      <td>0.0</td>\n",
              "      <td>0.0</td>\n",
              "      <td>[17.0, 40.0, 0.0, 0.0]</td>\n",
              "      <td>0</td>\n",
              "    </tr>\n",
              "  </tbody>\n",
              "</table>\n",
              "</div>\n",
              "      <button class=\"colab-df-convert\" onclick=\"convertToInteractive('df-ce32fc72-23c6-4901-9151-6b184ef4dbfe')\"\n",
              "              title=\"Convert this dataframe to an interactive table.\"\n",
              "              style=\"display:none;\">\n",
              "        \n",
              "  <svg xmlns=\"http://www.w3.org/2000/svg\" height=\"24px\"viewBox=\"0 0 24 24\"\n",
              "       width=\"24px\">\n",
              "    <path d=\"M0 0h24v24H0V0z\" fill=\"none\"/>\n",
              "    <path d=\"M18.56 5.44l.94 2.06.94-2.06 2.06-.94-2.06-.94-.94-2.06-.94 2.06-2.06.94zm-11 1L8.5 8.5l.94-2.06 2.06-.94-2.06-.94L8.5 2.5l-.94 2.06-2.06.94zm10 10l.94 2.06.94-2.06 2.06-.94-2.06-.94-.94-2.06-.94 2.06-2.06.94z\"/><path d=\"M17.41 7.96l-1.37-1.37c-.4-.4-.92-.59-1.43-.59-.52 0-1.04.2-1.43.59L10.3 9.45l-7.72 7.72c-.78.78-.78 2.05 0 2.83L4 21.41c.39.39.9.59 1.41.59.51 0 1.02-.2 1.41-.59l7.78-7.78 2.81-2.81c.8-.78.8-2.07 0-2.86zM5.41 20L4 18.59l7.72-7.72 1.47 1.35L5.41 20z\"/>\n",
              "  </svg>\n",
              "      </button>\n",
              "      \n",
              "  <style>\n",
              "    .colab-df-container {\n",
              "      display:flex;\n",
              "      flex-wrap:wrap;\n",
              "      gap: 12px;\n",
              "    }\n",
              "\n",
              "    .colab-df-convert {\n",
              "      background-color: #E8F0FE;\n",
              "      border: none;\n",
              "      border-radius: 50%;\n",
              "      cursor: pointer;\n",
              "      display: none;\n",
              "      fill: #1967D2;\n",
              "      height: 32px;\n",
              "      padding: 0 0 0 0;\n",
              "      width: 32px;\n",
              "    }\n",
              "\n",
              "    .colab-df-convert:hover {\n",
              "      background-color: #E2EBFA;\n",
              "      box-shadow: 0px 1px 2px rgba(60, 64, 67, 0.3), 0px 1px 3px 1px rgba(60, 64, 67, 0.15);\n",
              "      fill: #174EA6;\n",
              "    }\n",
              "\n",
              "    [theme=dark] .colab-df-convert {\n",
              "      background-color: #3B4455;\n",
              "      fill: #D2E3FC;\n",
              "    }\n",
              "\n",
              "    [theme=dark] .colab-df-convert:hover {\n",
              "      background-color: #434B5C;\n",
              "      box-shadow: 0px 1px 3px 1px rgba(0, 0, 0, 0.15);\n",
              "      filter: drop-shadow(0px 1px 2px rgba(0, 0, 0, 0.3));\n",
              "      fill: #FFFFFF;\n",
              "    }\n",
              "  </style>\n",
              "\n",
              "      <script>\n",
              "        const buttonEl =\n",
              "          document.querySelector('#df-ce32fc72-23c6-4901-9151-6b184ef4dbfe button.colab-df-convert');\n",
              "        buttonEl.style.display =\n",
              "          google.colab.kernel.accessAllowed ? 'block' : 'none';\n",
              "\n",
              "        async function convertToInteractive(key) {\n",
              "          const element = document.querySelector('#df-ce32fc72-23c6-4901-9151-6b184ef4dbfe');\n",
              "          const dataTable =\n",
              "            await google.colab.kernel.invokeFunction('convertToInteractive',\n",
              "                                                     [key], {});\n",
              "          if (!dataTable) return;\n",
              "\n",
              "          const docLinkHtml = 'Like what you see? Visit the ' +\n",
              "            '<a target=\"_blank\" href=https://colab.research.google.com/notebooks/data_table.ipynb>data table notebook</a>'\n",
              "            + ' to learn more about interactive tables.';\n",
              "          element.innerHTML = '';\n",
              "          dataTable['output_type'] = 'display_data';\n",
              "          await google.colab.output.renderOutput(dataTable, element);\n",
              "          const docLink = document.createElement('div');\n",
              "          docLink.innerHTML = docLinkHtml;\n",
              "          element.appendChild(docLink);\n",
              "        }\n",
              "      </script>\n",
              "    </div>\n",
              "  </div>\n",
              "  "
            ]
          },
          "metadata": {},
          "execution_count": 98
        }
      ]
    },
    {
      "cell_type": "code",
      "source": [
        "for i in range(5):\n",
        "  print(f'Cluster ke-{i}')\n",
        "  print('Rata-rata Annual Income (k$)  : ', df_member_clust_pandas[df_member_clust_pandas['prediction']==i]['Annual Income (k$)'].mean())\n",
        "  print('Rata-rata Spending Score (1-100) : ', df_member_clust_pandas[df_member_clust_pandas['prediction']==i]['Spending Score (1-100)'].mean())\n",
        "  print('Rata-rata Age  : ', df_member_clust_pandas[df_member_clust_pandas['prediction']==i]['Age'].mean())\n",
        "  print('Modus (nilai yang paling banyak keluar) Gender : ', round(df_member_clust_pandas[df_member_clust_pandas['prediction']==i]['Genre_ohe'].mean(), 0))"
      ],
      "metadata": {
        "colab": {
          "base_uri": "https://localhost:8080/"
        },
        "outputId": "e3589211-787b-4f2e-ab40-2e4bbfc07537",
        "id": "WgRyeL0by9m8"
      },
      "execution_count": null,
      "outputs": [
        {
          "output_type": "stream",
          "name": "stdout",
          "text": [
            "Cluster ke-0\n",
            "Rata-rata Annual Income (k$)  :  26.304347826086957\n",
            "Rata-rata Spending Score (1-100) :  20.91304347826087\n",
            "Rata-rata Age  :  45.21739130434783\n",
            "Modus (nilai yang paling banyak keluar) Gender :  0.0\n",
            "Cluster ke-1\n",
            "Rata-rata Annual Income (k$)  :  86.53846153846153\n",
            "Rata-rata Spending Score (1-100) :  82.12820512820512\n",
            "Rata-rata Age  :  32.69230769230769\n",
            "Modus (nilai yang paling banyak keluar) Gender :  0.0\n",
            "Cluster ke-2\n",
            "Rata-rata Annual Income (k$)  :  25.727272727272727\n",
            "Rata-rata Spending Score (1-100) :  79.36363636363636\n",
            "Rata-rata Age  :  25.272727272727273\n",
            "Modus (nilai yang paling banyak keluar) Gender :  0.0\n",
            "Cluster ke-3\n",
            "Rata-rata Annual Income (k$)  :  88.2\n",
            "Rata-rata Spending Score (1-100) :  17.114285714285714\n",
            "Rata-rata Age  :  41.114285714285714\n",
            "Modus (nilai yang paling banyak keluar) Gender :  1.0\n",
            "Cluster ke-4\n",
            "Rata-rata Annual Income (k$)  :  55.2962962962963\n",
            "Rata-rata Spending Score (1-100) :  49.51851851851852\n",
            "Rata-rata Age  :  42.71604938271605\n",
            "Modus (nilai yang paling banyak keluar) Gender :  0.0\n"
          ]
        }
      ]
    },
    {
      "cell_type": "code",
      "source": [
        "df_member_clust_pandas_0= df_member_clust_pandas[df_member_clust_pandas['prediction']==0]\n",
        "df_member_clust_pandas_1= df_member_clust_pandas[df_member_clust_pandas['prediction']==1]\n",
        "df_member_clust_pandas_2= df_member_clust_pandas[df_member_clust_pandas['prediction']==2]\n",
        "df_member_clust_pandas_3= df_member_clust_pandas[df_member_clust_pandas['prediction']==3]\n",
        "df_member_clust_pandas_4= df_member_clust_pandas[df_member_clust_pandas['prediction']==4]\n",
        "df_member_clust_pandas_5= df_member_clust_pandas[df_member_clust_pandas['prediction']==5]"
      ],
      "metadata": {
        "id": "T0c0SrBLy9m8"
      },
      "execution_count": null,
      "outputs": []
    },
    {
      "cell_type": "code",
      "source": [
        "df_member_clust_pandas_0['Genre'].value_counts()"
      ],
      "metadata": {
        "id": "-WF__q2Ty9m8",
        "colab": {
          "base_uri": "https://localhost:8080/"
        },
        "outputId": "d5a37c0e-b3b7-48da-d69d-8d914436fba4"
      },
      "execution_count": null,
      "outputs": [
        {
          "output_type": "execute_result",
          "data": {
            "text/plain": [
              "Female    14\n",
              "Male       9\n",
              "Name: Genre, dtype: int64"
            ]
          },
          "metadata": {},
          "execution_count": 101
        }
      ]
    },
    {
      "cell_type": "code",
      "source": [
        "df_member_clust_pandas_1['Genre'].value_counts()"
      ],
      "metadata": {
        "colab": {
          "base_uri": "https://localhost:8080/"
        },
        "id": "QY64w1rRn4Yc",
        "outputId": "984b067c-823a-4352-bdd4-75b635d7b3d5"
      },
      "execution_count": null,
      "outputs": [
        {
          "output_type": "execute_result",
          "data": {
            "text/plain": [
              "Female    21\n",
              "Male      18\n",
              "Name: Genre, dtype: int64"
            ]
          },
          "metadata": {},
          "execution_count": 102
        }
      ]
    },
    {
      "cell_type": "code",
      "source": [
        "df_member_clust_pandas_2['Genre'].value_counts()"
      ],
      "metadata": {
        "colab": {
          "base_uri": "https://localhost:8080/"
        },
        "id": "2VqdwMhHn4cl",
        "outputId": "6ddc8613-3b8e-4a83-8783-f1e6c1645571"
      },
      "execution_count": null,
      "outputs": [
        {
          "output_type": "execute_result",
          "data": {
            "text/plain": [
              "Female    13\n",
              "Male       9\n",
              "Name: Genre, dtype: int64"
            ]
          },
          "metadata": {},
          "execution_count": 103
        }
      ]
    },
    {
      "cell_type": "code",
      "source": [
        "df_member_clust_pandas_3['Genre'].value_counts()"
      ],
      "metadata": {
        "colab": {
          "base_uri": "https://localhost:8080/"
        },
        "id": "Evp2wkiJn-NO",
        "outputId": "f3d1ba8b-5aeb-4a66-a5a4-00f081acd511"
      },
      "execution_count": null,
      "outputs": [
        {
          "output_type": "execute_result",
          "data": {
            "text/plain": [
              "Male      19\n",
              "Female    16\n",
              "Name: Genre, dtype: int64"
            ]
          },
          "metadata": {},
          "execution_count": 104
        }
      ]
    },
    {
      "cell_type": "code",
      "source": [
        "df_member_clust_pandas_4['Genre'].value_counts()"
      ],
      "metadata": {
        "colab": {
          "base_uri": "https://localhost:8080/"
        },
        "id": "pMIfPkf_n-tz",
        "outputId": "c8d3648f-3068-4656-e042-31e32a4a4911"
      },
      "execution_count": null,
      "outputs": [
        {
          "output_type": "execute_result",
          "data": {
            "text/plain": [
              "Female    48\n",
              "Male      33\n",
              "Name: Genre, dtype: int64"
            ]
          },
          "metadata": {},
          "execution_count": 105
        }
      ]
    },
    {
      "cell_type": "code",
      "source": [
        "# df_member_clust_pandas_2['Genre'].value_counts()"
      ],
      "metadata": {
        "id": "nEDM2SF9n-ws"
      },
      "execution_count": null,
      "outputs": []
    },
    {
      "cell_type": "markdown",
      "source": [
        "## Regression"
      ],
      "metadata": {
        "id": "aWxnPigZIY2D"
      }
    },
    {
      "cell_type": "code",
      "source": [
        "sel_col = ['Spending Score (1-100)', 'Annual Income (k$)', 'Genre_ohe']\n",
        "assemble_reg = VectorAssembler(inputCols=sel_col, outputCol = 'feat_reg')\n",
        "assembled_df_member_reg = assemble_reg.transform(df_member)\n",
        "assembled_df_member_reg.show()"
      ],
      "metadata": {
        "colab": {
          "base_uri": "https://localhost:8080/"
        },
        "id": "Pk5HPi6R5bQO",
        "outputId": "c513a477-3fa2-483d-e48a-4219843a191d"
      },
      "execution_count": null,
      "outputs": [
        {
          "output_type": "stream",
          "name": "stdout",
          "text": [
            "+----------+------+---+------------------+----------------------+-----------------+-------+---------+---------------+\n",
            "|CustomerID| Genre|Age|Annual Income (k$)|Spending Score (1-100)|          Age_udf|Age_ohe|Genre_ohe|       feat_reg|\n",
            "+----------+------+---+------------------+----------------------+-----------------+-------+---------+---------------+\n",
            "|         1|  Male| 19|                15|                    39|        usia muda|    3.0|      1.0|[39.0,15.0,1.0]|\n",
            "|         2|  Male| 21|                15|                    81|        usia muda|    3.0|      1.0|[81.0,15.0,1.0]|\n",
            "|         3|Female| 20|                16|                     6|        usia muda|    3.0|      0.0| [6.0,16.0,0.0]|\n",
            "|         4|Female| 23|                16|                    77|        usia muda|    3.0|      0.0|[77.0,16.0,0.0]|\n",
            "|         5|Female| 31|                17|                    40|usia pekerja awal|    0.0|      0.0|[40.0,17.0,0.0]|\n",
            "|         6|Female| 22|                17|                    76|        usia muda|    3.0|      0.0|[76.0,17.0,0.0]|\n",
            "|         7|Female| 35|                18|                     6|  usia paruh baya|    1.0|      0.0| [6.0,18.0,0.0]|\n",
            "|         8|Female| 23|                18|                    94|        usia muda|    3.0|      0.0|[94.0,18.0,0.0]|\n",
            "|         9|  Male| 64|                19|                     3|     usia pensiun|    4.0|      1.0| [3.0,19.0,1.0]|\n",
            "|        10|Female| 30|                19|                    72|usia pekerja awal|    0.0|      0.0|[72.0,19.0,0.0]|\n",
            "|        11|  Male| 67|                19|                    14|     usia pensiun|    4.0|      1.0|[14.0,19.0,1.0]|\n",
            "|        12|Female| 35|                19|                    99|  usia paruh baya|    1.0|      0.0|[99.0,19.0,0.0]|\n",
            "|        13|Female| 58|                20|                    15|     usia pensiun|    4.0|      0.0|[15.0,20.0,0.0]|\n",
            "|        14|Female| 24|                20|                    77|        usia muda|    3.0|      0.0|[77.0,20.0,0.0]|\n",
            "|        15|  Male| 37|                20|                    13|  usia paruh baya|    1.0|      1.0|[13.0,20.0,1.0]|\n",
            "|        16|  Male| 22|                20|                    79|        usia muda|    3.0|      1.0|[79.0,20.0,1.0]|\n",
            "|        17|Female| 35|                21|                    35|  usia paruh baya|    1.0|      0.0|[35.0,21.0,0.0]|\n",
            "|        18|  Male| 20|                21|                    66|        usia muda|    3.0|      1.0|[66.0,21.0,1.0]|\n",
            "|        19|  Male| 52|                23|                    29| usia pra-pensiun|    2.0|      1.0|[29.0,23.0,1.0]|\n",
            "|        20|Female| 35|                23|                    98|  usia paruh baya|    1.0|      0.0|[98.0,23.0,0.0]|\n",
            "+----------+------+---+------------------+----------------------+-----------------+-------+---------+---------------+\n",
            "only showing top 20 rows\n",
            "\n"
          ]
        }
      ]
    },
    {
      "cell_type": "code",
      "source": [
        "final_assemble_member = assembled_df_member_reg.select('feat_reg', 'Age_ohe')\n",
        "final_assemble_member.show()"
      ],
      "metadata": {
        "colab": {
          "base_uri": "https://localhost:8080/"
        },
        "id": "XJy-qvfOIp65",
        "outputId": "d7a3979e-04e0-4c8d-91fb-5db37cecf82a"
      },
      "execution_count": null,
      "outputs": [
        {
          "output_type": "stream",
          "name": "stdout",
          "text": [
            "+---------------+-------+\n",
            "|       feat_reg|Age_ohe|\n",
            "+---------------+-------+\n",
            "|[39.0,15.0,1.0]|    3.0|\n",
            "|[81.0,15.0,1.0]|    3.0|\n",
            "| [6.0,16.0,0.0]|    3.0|\n",
            "|[77.0,16.0,0.0]|    3.0|\n",
            "|[40.0,17.0,0.0]|    0.0|\n",
            "|[76.0,17.0,0.0]|    3.0|\n",
            "| [6.0,18.0,0.0]|    1.0|\n",
            "|[94.0,18.0,0.0]|    3.0|\n",
            "| [3.0,19.0,1.0]|    4.0|\n",
            "|[72.0,19.0,0.0]|    0.0|\n",
            "|[14.0,19.0,1.0]|    4.0|\n",
            "|[99.0,19.0,0.0]|    1.0|\n",
            "|[15.0,20.0,0.0]|    4.0|\n",
            "|[77.0,20.0,0.0]|    3.0|\n",
            "|[13.0,20.0,1.0]|    1.0|\n",
            "|[79.0,20.0,1.0]|    3.0|\n",
            "|[35.0,21.0,0.0]|    1.0|\n",
            "|[66.0,21.0,1.0]|    3.0|\n",
            "|[29.0,23.0,1.0]|    2.0|\n",
            "|[98.0,23.0,0.0]|    1.0|\n",
            "+---------------+-------+\n",
            "only showing top 20 rows\n",
            "\n"
          ]
        }
      ]
    },
    {
      "cell_type": "code",
      "source": [
        "train_data, test_data = final_assemble_member.randomSplit(weights=[0.75,0.25], seed=42)"
      ],
      "metadata": {
        "id": "B7F4abgUIpvd"
      },
      "execution_count": null,
      "outputs": []
    },
    {
      "cell_type": "code",
      "source": [
        "from pyspark.ml.regression import LinearRegression\n",
        "\n",
        "ss = LinearRegression(featuresCol='feat_reg', labelCol='Age_ohe')"
      ],
      "metadata": {
        "id": "t4qpQacYIpSC"
      },
      "execution_count": null,
      "outputs": []
    },
    {
      "cell_type": "code",
      "source": [
        "ss = ss.fit(train_data)"
      ],
      "metadata": {
        "id": "8Fvq7ntqL_cz"
      },
      "execution_count": null,
      "outputs": []
    },
    {
      "cell_type": "code",
      "source": [
        "ss.coefficients"
      ],
      "metadata": {
        "colab": {
          "base_uri": "https://localhost:8080/"
        },
        "id": "MpKIz8opMQdE",
        "outputId": "ebd5b256-3729-4d40-8a0d-5c59c59de4e8"
      },
      "execution_count": null,
      "outputs": [
        {
          "output_type": "execute_result",
          "data": {
            "text/plain": [
              "DenseVector([-0.0148, -0.0168, 0.1528])"
            ]
          },
          "metadata": {},
          "execution_count": 112
        }
      ]
    },
    {
      "cell_type": "code",
      "source": [
        "ss.intercept"
      ],
      "metadata": {
        "colab": {
          "base_uri": "https://localhost:8080/"
        },
        "id": "CdcE9ZU4MSkI",
        "outputId": "6c3ce969-e862-4542-cee5-a801466da2e6"
      },
      "execution_count": null,
      "outputs": [
        {
          "output_type": "execute_result",
          "data": {
            "text/plain": [
              "3.4647446059841416"
            ]
          },
          "metadata": {},
          "execution_count": 113
        }
      ]
    },
    {
      "cell_type": "code",
      "source": [
        "pred = ss.evaluate(test_data)\n",
        "pred.predictions.show()"
      ],
      "metadata": {
        "colab": {
          "base_uri": "https://localhost:8080/"
        },
        "id": "Dsr7RtUsMU8F",
        "outputId": "a78f6d2a-3b1f-4f18-cab6-2db252c2aeeb"
      },
      "execution_count": null,
      "outputs": [
        {
          "output_type": "stream",
          "name": "stdout",
          "text": [
            "+----------------+-------+------------------+\n",
            "|        feat_reg|Age_ohe|        prediction|\n",
            "+----------------+-------+------------------+\n",
            "|  [3.0,19.0,1.0]|    4.0|3.2538515310527742|\n",
            "|  [5.0,73.0,1.0]|    3.0| 2.316420059558435|\n",
            "|  [5.0,81.0,1.0]|    3.0|2.1819132437294018|\n",
            "|  [6.0,16.0,0.0]|    3.0| 3.107199580380984|\n",
            "|  [9.0,71.0,1.0]|    2.0| 2.291025834218966|\n",
            "| [13.0,87.0,1.0]|    1.0|1.9629912732641726|\n",
            "| [14.0,33.0,0.0]|    2.0|2.7033307381508345|\n",
            "|[16.0,120.0,0.0]|    2.0| 1.211058651361732|\n",
            "| [17.0,34.0,0.0]|    1.0|  2.64225168919966|\n",
            "|[17.0,103.0,0.0]|    1.0|1.4821304026742466|\n",
            "| [20.0,78.0,0.0]|    1.0|1.8581985051674308|\n",
            "| [20.0,86.0,1.0]|    1.0|1.8765179989735294|\n",
            "| [28.0,39.0,0.0]|    2.0|2.3958773737405146|\n",
            "| [29.0,70.0,0.0]|    3.0|1.8599082300788286|\n",
            "| [31.0,29.0,0.0]|    1.0| 2.519745196554261|\n",
            "| [32.0,28.0,0.0]|    2.0| 2.521803316208709|\n",
            "| [34.0,72.0,0.0]|    0.0|1.7525053645006616|\n",
            "| [35.0,24.0,1.0]|    1.0|2.6976173367858127|\n",
            "| [36.0,39.0,1.0]|    2.0| 2.430661824782193|\n",
            "| [40.0,76.0,0.0]|    0.0|1.5967205626410543|\n",
            "+----------------+-------+------------------+\n",
            "only showing top 20 rows\n",
            "\n"
          ]
        }
      ]
    },
    {
      "cell_type": "code",
      "source": [
        "pred_train = ss.evaluate(train_data)"
      ],
      "metadata": {
        "id": "KBOFjxnDMxZA"
      },
      "execution_count": null,
      "outputs": []
    },
    {
      "cell_type": "code",
      "source": [
        "print('MAE for train set:', pred_train.meanAbsoluteError)\n",
        "print('MAE for test set:', pred.meanAbsoluteError)"
      ],
      "metadata": {
        "colab": {
          "base_uri": "https://localhost:8080/"
        },
        "id": "AN0RKkC4MU-V",
        "outputId": "9ccc08a4-3141-4118-ac1d-64f071b9ac7f"
      },
      "execution_count": null,
      "outputs": [
        {
          "output_type": "stream",
          "name": "stdout",
          "text": [
            "MAE for train set: 1.1179612350515\n",
            "MAE for test set: 0.9538799777316394\n"
          ]
        }
      ]
    },
    {
      "cell_type": "code",
      "source": [
        "print('MSE for train set:', pred_train.meanSquaredError)\n",
        "print('MSE for test set:', pred.meanSquaredError)"
      ],
      "metadata": {
        "colab": {
          "base_uri": "https://localhost:8080/"
        },
        "id": "qH_CIZl0MVAu",
        "outputId": "3a8bc3e9-2bc8-40b0-f43f-c508b879d076"
      },
      "execution_count": null,
      "outputs": [
        {
          "output_type": "stream",
          "name": "stdout",
          "text": [
            "MSE for train set: 1.7591334088790367\n",
            "MSE for test set: 1.237183540566773\n"
          ]
        }
      ]
    },
    {
      "cell_type": "code",
      "source": [],
      "metadata": {
        "id": "TZVCKMoQMVDS"
      },
      "execution_count": null,
      "outputs": []
    }
  ]
}